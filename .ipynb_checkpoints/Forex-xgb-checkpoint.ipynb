{
 "cells": [
  {
   "cell_type": "code",
   "execution_count": 1,
   "metadata": {
    "ExecuteTime": {
     "end_time": "2018-03-06T21:52:32.199546Z",
     "start_time": "2018-03-06T21:52:23.184506Z"
    },
    "collapsed": false
   },
   "outputs": [
    {
     "name": "stderr",
     "output_type": "stream",
     "text": [
      "C:\\ProgramData\\Anaconda3\\lib\\site-packages\\sklearn\\cross_validation.py:41: DeprecationWarning: This module was deprecated in version 0.18 in favor of the model_selection module into which all the refactored classes and functions are moved. Also note that the interface of the new CV iterators are different from that of this module. This module will be removed in 0.20.\n",
      "  \"This module will be removed in 0.20.\", DeprecationWarning)\n"
     ]
    }
   ],
   "source": [
    "import urllib  # Импортировали библиотеку для работы с адресами и запросами Internet.\n",
    "import pandas as pd\n",
    "import numpy as np\n",
    "\n",
    "import matplotlib.pyplot as plt\n",
    "import seaborn as sns\n",
    "\n",
    "from sklearn.model_selection import train_test_split, KFold, cross_val_score\n",
    "from sklearn.preprocessing import LabelEncoder\n",
    "from sklearn import linear_model\n",
    "from sklearn.metrics import mean_squared_error, r2_score, roc_auc_score, roc_curve, make_scorer, precision_recall_curve, auc, average_precision_score\n",
    "\n",
    "import hyperopt\n",
    "from hyperopt import fmin, tpe, hp, STATUS_OK, Trials\n",
    "from hyperopt import space_eval\n",
    "\n",
    "import lightgbm as lgb\n",
    "import xgboost as xgb"
   ]
  },
  {
   "cell_type": "code",
   "execution_count": 3,
   "metadata": {
    "ExecuteTime": {
     "end_time": "2018-03-04T19:09:54.699635Z",
     "start_time": "2018-03-04T19:09:54.656034Z"
    },
    "collapsed": true
   },
   "outputs": [],
   "source": [
    "%matplotlib inline\n",
    "pd.options.display.max_columns = None"
   ]
  },
  {
   "cell_type": "markdown",
   "metadata": {
    "heading_collapsed": true
   },
   "source": [
    "### Параметры"
   ]
  },
  {
   "cell_type": "code",
   "execution_count": 4,
   "metadata": {
    "ExecuteTime": {
     "end_time": "2018-03-04T19:09:54.877646Z",
     "start_time": "2018-03-04T19:09:54.710636Z"
    },
    "collapsed": true,
    "hidden": true
   },
   "outputs": [],
   "source": [
    "tax = 0.000097"
   ]
  },
  {
   "cell_type": "code",
   "execution_count": 5,
   "metadata": {
    "ExecuteTime": {
     "end_time": "2018-03-04T19:09:55.004653Z",
     "start_time": "2018-03-04T19:09:54.885646Z"
    },
    "collapsed": true,
    "hidden": true
   },
   "outputs": [],
   "source": [
    "#метрика для несбалансированных класов\n",
    "def pr_auc_score(y_true, y_score):\n",
    "    #Generates the Area Under the Curve for precision and recall.\n",
    "    y_true = np.asarray(y_true)\n",
    "    y_score = np.asarray(y_score)\n",
    "    precision, recall, thresholds = precision_recall_curve(y_true, y_score)\n",
    "    return 'pr_auc', auc(recall, precision, reorder=True)\n",
    "\n",
    "def pr_auc_score_xgb(preds, train_data):\n",
    "    #Generates the Area Under the Curve for precision and recall.\n",
    "    labels = train_data.get_label()\n",
    "    y_true = np.ravel(labels)\n",
    "    y_score = np.ravel(preds)\n",
    "    return 'pr_auc', average_precision_score(y_true, y_score)\n",
    "\n",
    "def pr_auc_score_lgb(preds, train_data):\n",
    "    #Generates the Area Under the Curve for precision and recall.\n",
    "    labels = train_data.get_label()\n",
    "    y_true = np.ravel(labels)\n",
    "    y_score = np.ravel(preds)\n",
    "    return 'pr_auc', average_precision_score(y_true, y_score), True\n",
    "\n",
    "# функция для балансировки классов\n",
    "def fpreproc(dtrain, dtest, param):\n",
    "    label = dtrain.get_label()\n",
    "    ratio = float(np.sum(label == 0)) / np.sum(label==1)\n",
    "    param['scale_pos_weight'] = ratio\n",
    "    return (dtrain, dtest, param)"
   ]
  },
  {
   "cell_type": "markdown",
   "metadata": {
    "heading_collapsed": true
   },
   "source": [
    "## Обработка данных "
   ]
  },
  {
   "cell_type": "code",
   "execution_count": 7,
   "metadata": {
    "ExecuteTime": {
     "end_time": "2018-03-04T19:10:31.530203Z",
     "start_time": "2018-03-04T19:10:30.488389Z"
    },
    "collapsed": false,
    "hidden": true,
    "scrolled": false
   },
   "outputs": [
    {
     "data": {
      "text/html": [
       "<div>\n",
       "<style scoped>\n",
       "    .dataframe tbody tr th:only-of-type {\n",
       "        vertical-align: middle;\n",
       "    }\n",
       "\n",
       "    .dataframe tbody tr th {\n",
       "        vertical-align: top;\n",
       "    }\n",
       "\n",
       "    .dataframe thead th {\n",
       "        text-align: right;\n",
       "    }\n",
       "</style>\n",
       "<table border=\"1\" class=\"dataframe\">\n",
       "  <thead>\n",
       "    <tr style=\"text-align: right;\">\n",
       "      <th></th>\n",
       "      <th>open</th>\n",
       "      <th>max</th>\n",
       "      <th>min</th>\n",
       "      <th>close</th>\n",
       "      <th>vol</th>\n",
       "      <th>mean_o</th>\n",
       "      <th>mean_m</th>\n",
       "      <th>delta_oc</th>\n",
       "      <th>delta_mm</th>\n",
       "      <th>delta_mo</th>\n",
       "      <th>delta_cm</th>\n",
       "      <th>delta0_oc</th>\n",
       "      <th>delta0_mm</th>\n",
       "      <th>delta0_mo</th>\n",
       "      <th>delta0_cm</th>\n",
       "      <th>diff1</th>\n",
       "      <th>diff2</th>\n",
       "      <th>diff3</th>\n",
       "      <th>diff4</th>\n",
       "      <th>diff5</th>\n",
       "    </tr>\n",
       "    <tr>\n",
       "      <th>datetime</th>\n",
       "      <th></th>\n",
       "      <th></th>\n",
       "      <th></th>\n",
       "      <th></th>\n",
       "      <th></th>\n",
       "      <th></th>\n",
       "      <th></th>\n",
       "      <th></th>\n",
       "      <th></th>\n",
       "      <th></th>\n",
       "      <th></th>\n",
       "      <th></th>\n",
       "      <th></th>\n",
       "      <th></th>\n",
       "      <th></th>\n",
       "      <th></th>\n",
       "      <th></th>\n",
       "      <th></th>\n",
       "      <th></th>\n",
       "      <th></th>\n",
       "    </tr>\n",
       "  </thead>\n",
       "  <tbody>\n",
       "    <tr>\n",
       "      <th>2017-11-10 21:22:00</th>\n",
       "      <td>1.1665</td>\n",
       "      <td>1.1666</td>\n",
       "      <td>1.1665</td>\n",
       "      <td>1.1665</td>\n",
       "      <td>5</td>\n",
       "      <td>1.16650</td>\n",
       "      <td>1.16655</td>\n",
       "      <td>0.0000</td>\n",
       "      <td>0.0001</td>\n",
       "      <td>0.0001</td>\n",
       "      <td>0.0000</td>\n",
       "      <td>0.000000</td>\n",
       "      <td>0.000086</td>\n",
       "      <td>0.000086</td>\n",
       "      <td>0.000000</td>\n",
       "      <td>-0.00005</td>\n",
       "      <td>-0.00015</td>\n",
       "      <td>-0.00015</td>\n",
       "      <td>-0.00025</td>\n",
       "      <td>-0.00025</td>\n",
       "    </tr>\n",
       "    <tr>\n",
       "      <th>2017-11-10 21:25:00</th>\n",
       "      <td>1.1666</td>\n",
       "      <td>1.1666</td>\n",
       "      <td>1.1665</td>\n",
       "      <td>1.1665</td>\n",
       "      <td>2</td>\n",
       "      <td>1.16655</td>\n",
       "      <td>1.16655</td>\n",
       "      <td>0.0001</td>\n",
       "      <td>0.0001</td>\n",
       "      <td>0.0000</td>\n",
       "      <td>0.0000</td>\n",
       "      <td>0.000086</td>\n",
       "      <td>0.000086</td>\n",
       "      <td>0.000000</td>\n",
       "      <td>0.000000</td>\n",
       "      <td>0.00005</td>\n",
       "      <td>0.00000</td>\n",
       "      <td>-0.00010</td>\n",
       "      <td>-0.00010</td>\n",
       "      <td>-0.00020</td>\n",
       "    </tr>\n",
       "    <tr>\n",
       "      <th>2017-11-10 21:27:00</th>\n",
       "      <td>1.1664</td>\n",
       "      <td>1.1665</td>\n",
       "      <td>1.1664</td>\n",
       "      <td>1.1664</td>\n",
       "      <td>11</td>\n",
       "      <td>1.16640</td>\n",
       "      <td>1.16645</td>\n",
       "      <td>0.0000</td>\n",
       "      <td>0.0001</td>\n",
       "      <td>0.0001</td>\n",
       "      <td>0.0000</td>\n",
       "      <td>0.000000</td>\n",
       "      <td>0.000086</td>\n",
       "      <td>0.000086</td>\n",
       "      <td>0.000000</td>\n",
       "      <td>0.00000</td>\n",
       "      <td>0.00005</td>\n",
       "      <td>0.00000</td>\n",
       "      <td>-0.00010</td>\n",
       "      <td>-0.00010</td>\n",
       "    </tr>\n",
       "    <tr>\n",
       "      <th>2017-11-10 21:28:00</th>\n",
       "      <td>1.1665</td>\n",
       "      <td>1.1665</td>\n",
       "      <td>1.1664</td>\n",
       "      <td>1.1664</td>\n",
       "      <td>2</td>\n",
       "      <td>1.16645</td>\n",
       "      <td>1.16645</td>\n",
       "      <td>0.0001</td>\n",
       "      <td>0.0001</td>\n",
       "      <td>0.0000</td>\n",
       "      <td>0.0000</td>\n",
       "      <td>0.000086</td>\n",
       "      <td>0.000086</td>\n",
       "      <td>0.000000</td>\n",
       "      <td>0.000000</td>\n",
       "      <td>0.00000</td>\n",
       "      <td>0.00000</td>\n",
       "      <td>0.00005</td>\n",
       "      <td>0.00000</td>\n",
       "      <td>-0.00010</td>\n",
       "    </tr>\n",
       "    <tr>\n",
       "      <th>2017-11-10 21:29:00</th>\n",
       "      <td>1.1663</td>\n",
       "      <td>1.1664</td>\n",
       "      <td>1.1663</td>\n",
       "      <td>1.1664</td>\n",
       "      <td>2</td>\n",
       "      <td>1.16635</td>\n",
       "      <td>1.16635</td>\n",
       "      <td>-0.0001</td>\n",
       "      <td>0.0001</td>\n",
       "      <td>0.0001</td>\n",
       "      <td>0.0001</td>\n",
       "      <td>-0.000086</td>\n",
       "      <td>0.000086</td>\n",
       "      <td>0.000086</td>\n",
       "      <td>0.000086</td>\n",
       "      <td>0.00000</td>\n",
       "      <td>0.00000</td>\n",
       "      <td>0.00000</td>\n",
       "      <td>0.00005</td>\n",
       "      <td>0.00000</td>\n",
       "    </tr>\n",
       "    <tr>\n",
       "      <th>2017-11-10 21:31:00</th>\n",
       "      <td>1.1663</td>\n",
       "      <td>1.1663</td>\n",
       "      <td>1.1663</td>\n",
       "      <td>1.1663</td>\n",
       "      <td>1</td>\n",
       "      <td>1.16630</td>\n",
       "      <td>1.16630</td>\n",
       "      <td>0.0000</td>\n",
       "      <td>0.0000</td>\n",
       "      <td>0.0000</td>\n",
       "      <td>0.0000</td>\n",
       "      <td>0.000000</td>\n",
       "      <td>0.000000</td>\n",
       "      <td>0.000000</td>\n",
       "      <td>0.000000</td>\n",
       "      <td>0.00000</td>\n",
       "      <td>0.00000</td>\n",
       "      <td>0.00000</td>\n",
       "      <td>0.00000</td>\n",
       "      <td>0.00005</td>\n",
       "    </tr>\n",
       "    <tr>\n",
       "      <th>2017-11-10 21:32:00</th>\n",
       "      <td>1.1664</td>\n",
       "      <td>1.1664</td>\n",
       "      <td>1.1663</td>\n",
       "      <td>1.1664</td>\n",
       "      <td>9</td>\n",
       "      <td>1.16640</td>\n",
       "      <td>1.16635</td>\n",
       "      <td>0.0000</td>\n",
       "      <td>0.0001</td>\n",
       "      <td>0.0000</td>\n",
       "      <td>0.0001</td>\n",
       "      <td>0.000000</td>\n",
       "      <td>0.000086</td>\n",
       "      <td>0.000000</td>\n",
       "      <td>0.000086</td>\n",
       "      <td>0.00000</td>\n",
       "      <td>0.00000</td>\n",
       "      <td>0.00000</td>\n",
       "      <td>0.00000</td>\n",
       "      <td>0.00000</td>\n",
       "    </tr>\n",
       "    <tr>\n",
       "      <th>2017-11-10 21:33:00</th>\n",
       "      <td>1.1663</td>\n",
       "      <td>1.1664</td>\n",
       "      <td>1.1663</td>\n",
       "      <td>1.1664</td>\n",
       "      <td>2</td>\n",
       "      <td>1.16635</td>\n",
       "      <td>1.16635</td>\n",
       "      <td>-0.0001</td>\n",
       "      <td>0.0001</td>\n",
       "      <td>0.0001</td>\n",
       "      <td>0.0001</td>\n",
       "      <td>-0.000086</td>\n",
       "      <td>0.000086</td>\n",
       "      <td>0.000086</td>\n",
       "      <td>0.000086</td>\n",
       "      <td>0.00000</td>\n",
       "      <td>0.00000</td>\n",
       "      <td>0.00000</td>\n",
       "      <td>0.00000</td>\n",
       "      <td>0.00000</td>\n",
       "    </tr>\n",
       "    <tr>\n",
       "      <th>2017-11-10 21:37:00</th>\n",
       "      <td>1.1663</td>\n",
       "      <td>1.1664</td>\n",
       "      <td>1.1663</td>\n",
       "      <td>1.1664</td>\n",
       "      <td>2</td>\n",
       "      <td>1.16635</td>\n",
       "      <td>1.16635</td>\n",
       "      <td>-0.0001</td>\n",
       "      <td>0.0001</td>\n",
       "      <td>0.0001</td>\n",
       "      <td>0.0001</td>\n",
       "      <td>-0.000086</td>\n",
       "      <td>0.000086</td>\n",
       "      <td>0.000086</td>\n",
       "      <td>0.000086</td>\n",
       "      <td>0.00000</td>\n",
       "      <td>0.00000</td>\n",
       "      <td>0.00000</td>\n",
       "      <td>0.00000</td>\n",
       "      <td>0.00000</td>\n",
       "    </tr>\n",
       "    <tr>\n",
       "      <th>2017-11-10 21:38:00</th>\n",
       "      <td>1.1663</td>\n",
       "      <td>1.1664</td>\n",
       "      <td>1.1663</td>\n",
       "      <td>1.1663</td>\n",
       "      <td>7</td>\n",
       "      <td>1.16630</td>\n",
       "      <td>1.16635</td>\n",
       "      <td>0.0000</td>\n",
       "      <td>0.0001</td>\n",
       "      <td>0.0001</td>\n",
       "      <td>0.0000</td>\n",
       "      <td>0.000000</td>\n",
       "      <td>0.000086</td>\n",
       "      <td>0.000086</td>\n",
       "      <td>0.000000</td>\n",
       "      <td>0.00000</td>\n",
       "      <td>0.00000</td>\n",
       "      <td>0.00000</td>\n",
       "      <td>0.00000</td>\n",
       "      <td>0.00000</td>\n",
       "    </tr>\n",
       "    <tr>\n",
       "      <th>2017-11-10 21:39:00</th>\n",
       "      <td>1.1664</td>\n",
       "      <td>1.1664</td>\n",
       "      <td>1.1663</td>\n",
       "      <td>1.1664</td>\n",
       "      <td>3</td>\n",
       "      <td>1.16640</td>\n",
       "      <td>1.16635</td>\n",
       "      <td>0.0000</td>\n",
       "      <td>0.0001</td>\n",
       "      <td>0.0000</td>\n",
       "      <td>0.0001</td>\n",
       "      <td>0.000000</td>\n",
       "      <td>0.000086</td>\n",
       "      <td>0.000000</td>\n",
       "      <td>0.000086</td>\n",
       "      <td>0.00000</td>\n",
       "      <td>0.00000</td>\n",
       "      <td>0.00000</td>\n",
       "      <td>0.00000</td>\n",
       "      <td>0.00000</td>\n",
       "    </tr>\n",
       "    <tr>\n",
       "      <th>2017-11-10 21:41:00</th>\n",
       "      <td>1.1663</td>\n",
       "      <td>1.1664</td>\n",
       "      <td>1.1663</td>\n",
       "      <td>1.1664</td>\n",
       "      <td>2</td>\n",
       "      <td>1.16635</td>\n",
       "      <td>1.16635</td>\n",
       "      <td>-0.0001</td>\n",
       "      <td>0.0001</td>\n",
       "      <td>0.0001</td>\n",
       "      <td>0.0001</td>\n",
       "      <td>-0.000086</td>\n",
       "      <td>0.000086</td>\n",
       "      <td>0.000086</td>\n",
       "      <td>0.000086</td>\n",
       "      <td>0.00030</td>\n",
       "      <td>0.00030</td>\n",
       "      <td>0.00030</td>\n",
       "      <td>0.00030</td>\n",
       "      <td>0.00030</td>\n",
       "    </tr>\n",
       "    <tr>\n",
       "      <th>2017-11-10 21:42:00</th>\n",
       "      <td>1.1663</td>\n",
       "      <td>1.1664</td>\n",
       "      <td>1.1663</td>\n",
       "      <td>1.1664</td>\n",
       "      <td>6</td>\n",
       "      <td>1.16635</td>\n",
       "      <td>1.16635</td>\n",
       "      <td>-0.0001</td>\n",
       "      <td>0.0001</td>\n",
       "      <td>0.0001</td>\n",
       "      <td>0.0001</td>\n",
       "      <td>-0.000086</td>\n",
       "      <td>0.000086</td>\n",
       "      <td>0.000086</td>\n",
       "      <td>0.000086</td>\n",
       "      <td>-0.00010</td>\n",
       "      <td>0.00020</td>\n",
       "      <td>0.00020</td>\n",
       "      <td>0.00020</td>\n",
       "      <td>0.00020</td>\n",
       "    </tr>\n",
       "    <tr>\n",
       "      <th>2017-11-10 21:46:00</th>\n",
       "      <td>1.1663</td>\n",
       "      <td>1.1664</td>\n",
       "      <td>1.1663</td>\n",
       "      <td>1.1663</td>\n",
       "      <td>7</td>\n",
       "      <td>1.16630</td>\n",
       "      <td>1.16635</td>\n",
       "      <td>0.0000</td>\n",
       "      <td>0.0001</td>\n",
       "      <td>0.0001</td>\n",
       "      <td>0.0000</td>\n",
       "      <td>0.000000</td>\n",
       "      <td>0.000086</td>\n",
       "      <td>0.000086</td>\n",
       "      <td>0.000000</td>\n",
       "      <td>0.00000</td>\n",
       "      <td>-0.00010</td>\n",
       "      <td>0.00020</td>\n",
       "      <td>0.00020</td>\n",
       "      <td>0.00020</td>\n",
       "    </tr>\n",
       "    <tr>\n",
       "      <th>2017-11-10 21:47:00</th>\n",
       "      <td>1.1664</td>\n",
       "      <td>1.1664</td>\n",
       "      <td>1.1663</td>\n",
       "      <td>1.1664</td>\n",
       "      <td>3</td>\n",
       "      <td>1.16640</td>\n",
       "      <td>1.16635</td>\n",
       "      <td>0.0000</td>\n",
       "      <td>0.0001</td>\n",
       "      <td>0.0000</td>\n",
       "      <td>0.0001</td>\n",
       "      <td>0.000000</td>\n",
       "      <td>0.000086</td>\n",
       "      <td>0.000000</td>\n",
       "      <td>0.000086</td>\n",
       "      <td>0.00005</td>\n",
       "      <td>0.00005</td>\n",
       "      <td>-0.00005</td>\n",
       "      <td>0.00025</td>\n",
       "      <td>0.00025</td>\n",
       "    </tr>\n",
       "    <tr>\n",
       "      <th>2017-11-10 21:48:00</th>\n",
       "      <td>1.1663</td>\n",
       "      <td>1.1664</td>\n",
       "      <td>1.1663</td>\n",
       "      <td>1.1664</td>\n",
       "      <td>4</td>\n",
       "      <td>1.16635</td>\n",
       "      <td>1.16635</td>\n",
       "      <td>-0.0001</td>\n",
       "      <td>0.0001</td>\n",
       "      <td>0.0001</td>\n",
       "      <td>0.0001</td>\n",
       "      <td>-0.000086</td>\n",
       "      <td>0.000086</td>\n",
       "      <td>0.000086</td>\n",
       "      <td>0.000086</td>\n",
       "      <td>-0.00005</td>\n",
       "      <td>0.00000</td>\n",
       "      <td>0.00000</td>\n",
       "      <td>-0.00010</td>\n",
       "      <td>0.00020</td>\n",
       "    </tr>\n",
       "    <tr>\n",
       "      <th>2017-11-10 21:49:00</th>\n",
       "      <td>1.1665</td>\n",
       "      <td>1.1668</td>\n",
       "      <td>1.1665</td>\n",
       "      <td>1.1668</td>\n",
       "      <td>10</td>\n",
       "      <td>1.16665</td>\n",
       "      <td>1.16665</td>\n",
       "      <td>-0.0003</td>\n",
       "      <td>0.0003</td>\n",
       "      <td>0.0003</td>\n",
       "      <td>0.0003</td>\n",
       "      <td>-0.000257</td>\n",
       "      <td>0.000257</td>\n",
       "      <td>0.000257</td>\n",
       "      <td>0.000257</td>\n",
       "      <td>-0.00015</td>\n",
       "      <td>-0.00020</td>\n",
       "      <td>-0.00015</td>\n",
       "      <td>-0.00015</td>\n",
       "      <td>-0.00025</td>\n",
       "    </tr>\n",
       "    <tr>\n",
       "      <th>2017-11-10 21:50:00</th>\n",
       "      <td>1.1667</td>\n",
       "      <td>1.1667</td>\n",
       "      <td>1.1664</td>\n",
       "      <td>1.1665</td>\n",
       "      <td>11</td>\n",
       "      <td>1.16660</td>\n",
       "      <td>1.16655</td>\n",
       "      <td>0.0002</td>\n",
       "      <td>0.0003</td>\n",
       "      <td>0.0000</td>\n",
       "      <td>0.0001</td>\n",
       "      <td>0.000171</td>\n",
       "      <td>0.000257</td>\n",
       "      <td>0.000000</td>\n",
       "      <td>0.000086</td>\n",
       "      <td>0.00000</td>\n",
       "      <td>-0.00015</td>\n",
       "      <td>-0.00020</td>\n",
       "      <td>-0.00015</td>\n",
       "      <td>-0.00015</td>\n",
       "    </tr>\n",
       "    <tr>\n",
       "      <th>2017-11-10 21:51:00</th>\n",
       "      <td>1.1666</td>\n",
       "      <td>1.1666</td>\n",
       "      <td>1.1665</td>\n",
       "      <td>1.1665</td>\n",
       "      <td>6</td>\n",
       "      <td>1.16655</td>\n",
       "      <td>1.16655</td>\n",
       "      <td>0.0001</td>\n",
       "      <td>0.0001</td>\n",
       "      <td>0.0000</td>\n",
       "      <td>0.0000</td>\n",
       "      <td>0.000086</td>\n",
       "      <td>0.000086</td>\n",
       "      <td>0.000000</td>\n",
       "      <td>0.000000</td>\n",
       "      <td>0.00000</td>\n",
       "      <td>0.00000</td>\n",
       "      <td>-0.00015</td>\n",
       "      <td>-0.00020</td>\n",
       "      <td>-0.00015</td>\n",
       "    </tr>\n",
       "    <tr>\n",
       "      <th>2017-11-10 21:52:00</th>\n",
       "      <td>1.1666</td>\n",
       "      <td>1.1666</td>\n",
       "      <td>1.1666</td>\n",
       "      <td>1.1666</td>\n",
       "      <td>1</td>\n",
       "      <td>1.16660</td>\n",
       "      <td>1.16660</td>\n",
       "      <td>0.0000</td>\n",
       "      <td>0.0000</td>\n",
       "      <td>0.0000</td>\n",
       "      <td>0.0000</td>\n",
       "      <td>0.000000</td>\n",
       "      <td>0.000000</td>\n",
       "      <td>0.000000</td>\n",
       "      <td>0.000000</td>\n",
       "      <td>0.00000</td>\n",
       "      <td>0.00000</td>\n",
       "      <td>0.00000</td>\n",
       "      <td>-0.00015</td>\n",
       "      <td>-0.00020</td>\n",
       "    </tr>\n",
       "  </tbody>\n",
       "</table>\n",
       "</div>"
      ],
      "text/plain": [
       "                       open     max     min   close  vol   mean_o   mean_m  \\\n",
       "datetime                                                                     \n",
       "2017-11-10 21:22:00  1.1665  1.1666  1.1665  1.1665    5  1.16650  1.16655   \n",
       "2017-11-10 21:25:00  1.1666  1.1666  1.1665  1.1665    2  1.16655  1.16655   \n",
       "2017-11-10 21:27:00  1.1664  1.1665  1.1664  1.1664   11  1.16640  1.16645   \n",
       "2017-11-10 21:28:00  1.1665  1.1665  1.1664  1.1664    2  1.16645  1.16645   \n",
       "2017-11-10 21:29:00  1.1663  1.1664  1.1663  1.1664    2  1.16635  1.16635   \n",
       "2017-11-10 21:31:00  1.1663  1.1663  1.1663  1.1663    1  1.16630  1.16630   \n",
       "2017-11-10 21:32:00  1.1664  1.1664  1.1663  1.1664    9  1.16640  1.16635   \n",
       "2017-11-10 21:33:00  1.1663  1.1664  1.1663  1.1664    2  1.16635  1.16635   \n",
       "2017-11-10 21:37:00  1.1663  1.1664  1.1663  1.1664    2  1.16635  1.16635   \n",
       "2017-11-10 21:38:00  1.1663  1.1664  1.1663  1.1663    7  1.16630  1.16635   \n",
       "2017-11-10 21:39:00  1.1664  1.1664  1.1663  1.1664    3  1.16640  1.16635   \n",
       "2017-11-10 21:41:00  1.1663  1.1664  1.1663  1.1664    2  1.16635  1.16635   \n",
       "2017-11-10 21:42:00  1.1663  1.1664  1.1663  1.1664    6  1.16635  1.16635   \n",
       "2017-11-10 21:46:00  1.1663  1.1664  1.1663  1.1663    7  1.16630  1.16635   \n",
       "2017-11-10 21:47:00  1.1664  1.1664  1.1663  1.1664    3  1.16640  1.16635   \n",
       "2017-11-10 21:48:00  1.1663  1.1664  1.1663  1.1664    4  1.16635  1.16635   \n",
       "2017-11-10 21:49:00  1.1665  1.1668  1.1665  1.1668   10  1.16665  1.16665   \n",
       "2017-11-10 21:50:00  1.1667  1.1667  1.1664  1.1665   11  1.16660  1.16655   \n",
       "2017-11-10 21:51:00  1.1666  1.1666  1.1665  1.1665    6  1.16655  1.16655   \n",
       "2017-11-10 21:52:00  1.1666  1.1666  1.1666  1.1666    1  1.16660  1.16660   \n",
       "\n",
       "                     delta_oc  delta_mm  delta_mo  delta_cm  delta0_oc  \\\n",
       "datetime                                                                 \n",
       "2017-11-10 21:22:00    0.0000    0.0001    0.0001    0.0000   0.000000   \n",
       "2017-11-10 21:25:00    0.0001    0.0001    0.0000    0.0000   0.000086   \n",
       "2017-11-10 21:27:00    0.0000    0.0001    0.0001    0.0000   0.000000   \n",
       "2017-11-10 21:28:00    0.0001    0.0001    0.0000    0.0000   0.000086   \n",
       "2017-11-10 21:29:00   -0.0001    0.0001    0.0001    0.0001  -0.000086   \n",
       "2017-11-10 21:31:00    0.0000    0.0000    0.0000    0.0000   0.000000   \n",
       "2017-11-10 21:32:00    0.0000    0.0001    0.0000    0.0001   0.000000   \n",
       "2017-11-10 21:33:00   -0.0001    0.0001    0.0001    0.0001  -0.000086   \n",
       "2017-11-10 21:37:00   -0.0001    0.0001    0.0001    0.0001  -0.000086   \n",
       "2017-11-10 21:38:00    0.0000    0.0001    0.0001    0.0000   0.000000   \n",
       "2017-11-10 21:39:00    0.0000    0.0001    0.0000    0.0001   0.000000   \n",
       "2017-11-10 21:41:00   -0.0001    0.0001    0.0001    0.0001  -0.000086   \n",
       "2017-11-10 21:42:00   -0.0001    0.0001    0.0001    0.0001  -0.000086   \n",
       "2017-11-10 21:46:00    0.0000    0.0001    0.0001    0.0000   0.000000   \n",
       "2017-11-10 21:47:00    0.0000    0.0001    0.0000    0.0001   0.000000   \n",
       "2017-11-10 21:48:00   -0.0001    0.0001    0.0001    0.0001  -0.000086   \n",
       "2017-11-10 21:49:00   -0.0003    0.0003    0.0003    0.0003  -0.000257   \n",
       "2017-11-10 21:50:00    0.0002    0.0003    0.0000    0.0001   0.000171   \n",
       "2017-11-10 21:51:00    0.0001    0.0001    0.0000    0.0000   0.000086   \n",
       "2017-11-10 21:52:00    0.0000    0.0000    0.0000    0.0000   0.000000   \n",
       "\n",
       "                     delta0_mm  delta0_mo  delta0_cm    diff1    diff2  \\\n",
       "datetime                                                                 \n",
       "2017-11-10 21:22:00   0.000086   0.000086   0.000000 -0.00005 -0.00015   \n",
       "2017-11-10 21:25:00   0.000086   0.000000   0.000000  0.00005  0.00000   \n",
       "2017-11-10 21:27:00   0.000086   0.000086   0.000000  0.00000  0.00005   \n",
       "2017-11-10 21:28:00   0.000086   0.000000   0.000000  0.00000  0.00000   \n",
       "2017-11-10 21:29:00   0.000086   0.000086   0.000086  0.00000  0.00000   \n",
       "2017-11-10 21:31:00   0.000000   0.000000   0.000000  0.00000  0.00000   \n",
       "2017-11-10 21:32:00   0.000086   0.000000   0.000086  0.00000  0.00000   \n",
       "2017-11-10 21:33:00   0.000086   0.000086   0.000086  0.00000  0.00000   \n",
       "2017-11-10 21:37:00   0.000086   0.000086   0.000086  0.00000  0.00000   \n",
       "2017-11-10 21:38:00   0.000086   0.000086   0.000000  0.00000  0.00000   \n",
       "2017-11-10 21:39:00   0.000086   0.000000   0.000086  0.00000  0.00000   \n",
       "2017-11-10 21:41:00   0.000086   0.000086   0.000086  0.00030  0.00030   \n",
       "2017-11-10 21:42:00   0.000086   0.000086   0.000086 -0.00010  0.00020   \n",
       "2017-11-10 21:46:00   0.000086   0.000086   0.000000  0.00000 -0.00010   \n",
       "2017-11-10 21:47:00   0.000086   0.000000   0.000086  0.00005  0.00005   \n",
       "2017-11-10 21:48:00   0.000086   0.000086   0.000086 -0.00005  0.00000   \n",
       "2017-11-10 21:49:00   0.000257   0.000257   0.000257 -0.00015 -0.00020   \n",
       "2017-11-10 21:50:00   0.000257   0.000000   0.000086  0.00000 -0.00015   \n",
       "2017-11-10 21:51:00   0.000086   0.000000   0.000000  0.00000  0.00000   \n",
       "2017-11-10 21:52:00   0.000000   0.000000   0.000000  0.00000  0.00000   \n",
       "\n",
       "                       diff3    diff4    diff5  \n",
       "datetime                                        \n",
       "2017-11-10 21:22:00 -0.00015 -0.00025 -0.00025  \n",
       "2017-11-10 21:25:00 -0.00010 -0.00010 -0.00020  \n",
       "2017-11-10 21:27:00  0.00000 -0.00010 -0.00010  \n",
       "2017-11-10 21:28:00  0.00005  0.00000 -0.00010  \n",
       "2017-11-10 21:29:00  0.00000  0.00005  0.00000  \n",
       "2017-11-10 21:31:00  0.00000  0.00000  0.00005  \n",
       "2017-11-10 21:32:00  0.00000  0.00000  0.00000  \n",
       "2017-11-10 21:33:00  0.00000  0.00000  0.00000  \n",
       "2017-11-10 21:37:00  0.00000  0.00000  0.00000  \n",
       "2017-11-10 21:38:00  0.00000  0.00000  0.00000  \n",
       "2017-11-10 21:39:00  0.00000  0.00000  0.00000  \n",
       "2017-11-10 21:41:00  0.00030  0.00030  0.00030  \n",
       "2017-11-10 21:42:00  0.00020  0.00020  0.00020  \n",
       "2017-11-10 21:46:00  0.00020  0.00020  0.00020  \n",
       "2017-11-10 21:47:00 -0.00005  0.00025  0.00025  \n",
       "2017-11-10 21:48:00  0.00000 -0.00010  0.00020  \n",
       "2017-11-10 21:49:00 -0.00015 -0.00015 -0.00025  \n",
       "2017-11-10 21:50:00 -0.00020 -0.00015 -0.00015  \n",
       "2017-11-10 21:51:00 -0.00015 -0.00020 -0.00015  \n",
       "2017-11-10 21:52:00  0.00000 -0.00015 -0.00020  "
      ]
     },
     "execution_count": 7,
     "metadata": {},
     "output_type": "execute_result"
    }
   ],
   "source": [
    "data = pd.read_csv('EURUSD.csv', header=None)\n",
    "data.columns=['date', 'time', 'open', 'max', 'min', 'close', 'vol']\n",
    "\n",
    "# вычисляем данные \n",
    "data['mean_o'] = (data['open'] + data['close'])/2\n",
    "data['mean_m'] = (data['max'] + data['min'])/2\n",
    "\n",
    "data['delta_oc'] = (data['open']  - data['close'])\n",
    "data['delta_mm'] = (data['max']   - data['min'])\n",
    "data['delta_mo'] = (data['max']   - data['open'])\n",
    "data['delta_cm'] = (data['close'] - data['min'])\n",
    "\n",
    "data['delta0_oc'] = (data['open']  - data['close'])/data['mean_m']\n",
    "data['delta0_mm'] = (data['max']   - data['min']  )/data['mean_m']\n",
    "data['delta0_mo'] = (data['max']   - data['open'])/data['mean_m']\n",
    "data['delta0_cm'] = (data['close'] - data['min'] )/data['mean_m']\n",
    "\n",
    "# вычисляем разницу\n",
    "data['diff1'] = data['mean_m'].diff(1)\n",
    "data['diff2'] = data['mean_m'].diff(2)\n",
    "data['diff3'] = data['mean_m'].diff(3)\n",
    "data['diff4'] = data['mean_m'].diff(4)\n",
    "data['diff5'] = data['mean_m'].diff(5)\n",
    "\n",
    "data['diff1'] =  data['diff1'].shift(-5)\n",
    "data['diff2'] =  data['diff2'].shift(-5)\n",
    "data['diff3'] =  data['diff3'].shift(-5)\n",
    "data['diff4'] =  data['diff4'].shift(-5)\n",
    "data['diff5'] =  data['diff5'].shift(-5)\n",
    "\n",
    "# конструируем индекс \n",
    "data['datetime'] = data['date'] + ' ' + data['time']\n",
    "data['datetime'] = pd.to_datetime(data['datetime'])\n",
    "data.index = data['datetime']\n",
    "data.drop(['date', 'time', 'datetime'], axis=1, inplace=True)\n",
    "#data.dropna(inplace=True)\n",
    "\n",
    "data.dropna(inplace=True)\n",
    "data.tail(20)\n"
   ]
  },
  {
   "cell_type": "code",
   "execution_count": 8,
   "metadata": {
    "ExecuteTime": {
     "end_time": "2018-03-04T19:10:59.413997Z",
     "start_time": "2018-03-04T19:10:41.162080Z"
    },
    "collapsed": false,
    "hidden": true
   },
   "outputs": [],
   "source": [
    "data['delta5'] = data['diff5']/data['close']\n",
    "data['delta5'] = data['delta5'].apply(lambda x: (np.abs(x)))\n",
    "\n",
    "data['grow'] = data.apply(lambda x: 1 if (x['diff1']>0 and x['diff2']>0 and x['diff3']>0 and \n",
    "                                          x['diff4']>0 and x['diff5']>0 and x['delta5']>(tax*2)) else 0, axis=1)\n",
    "data['fall'] = data.apply(lambda x: 1 if (x['diff1']<0 and x['diff2']<0 and x['diff3']<0 and \n",
    "                                          x['diff4']<0 and x['diff5']<0 and x['delta5']>(tax*2)) else 0, axis=1)"
   ]
  },
  {
   "cell_type": "code",
   "execution_count": 9,
   "metadata": {
    "ExecuteTime": {
     "end_time": "2018-03-04T19:10:59.548802Z",
     "start_time": "2018-03-04T19:10:59.413997Z"
    },
    "collapsed": false,
    "hidden": true
   },
   "outputs": [
    {
     "data": {
      "text/html": [
       "<div>\n",
       "<style scoped>\n",
       "    .dataframe tbody tr th:only-of-type {\n",
       "        vertical-align: middle;\n",
       "    }\n",
       "\n",
       "    .dataframe tbody tr th {\n",
       "        vertical-align: top;\n",
       "    }\n",
       "\n",
       "    .dataframe thead th {\n",
       "        text-align: right;\n",
       "    }\n",
       "</style>\n",
       "<table border=\"1\" class=\"dataframe\">\n",
       "  <thead>\n",
       "    <tr style=\"text-align: right;\">\n",
       "      <th></th>\n",
       "      <th>open</th>\n",
       "      <th>max</th>\n",
       "      <th>min</th>\n",
       "      <th>close</th>\n",
       "      <th>vol</th>\n",
       "      <th>mean_o</th>\n",
       "      <th>mean_m</th>\n",
       "      <th>delta_oc</th>\n",
       "      <th>delta_mm</th>\n",
       "      <th>delta_mo</th>\n",
       "      <th>delta_cm</th>\n",
       "      <th>delta0_oc</th>\n",
       "      <th>delta0_mm</th>\n",
       "      <th>delta0_mo</th>\n",
       "      <th>delta0_cm</th>\n",
       "      <th>grow</th>\n",
       "      <th>fall</th>\n",
       "    </tr>\n",
       "    <tr>\n",
       "      <th>datetime</th>\n",
       "      <th></th>\n",
       "      <th></th>\n",
       "      <th></th>\n",
       "      <th></th>\n",
       "      <th></th>\n",
       "      <th></th>\n",
       "      <th></th>\n",
       "      <th></th>\n",
       "      <th></th>\n",
       "      <th></th>\n",
       "      <th></th>\n",
       "      <th></th>\n",
       "      <th></th>\n",
       "      <th></th>\n",
       "      <th></th>\n",
       "      <th></th>\n",
       "      <th></th>\n",
       "    </tr>\n",
       "  </thead>\n",
       "  <tbody>\n",
       "    <tr>\n",
       "      <th>2017-08-02 13:34:00</th>\n",
       "      <td>1.1823</td>\n",
       "      <td>1.1826</td>\n",
       "      <td>1.1822</td>\n",
       "      <td>1.1826</td>\n",
       "      <td>14</td>\n",
       "      <td>1.18245</td>\n",
       "      <td>1.18240</td>\n",
       "      <td>-0.0003</td>\n",
       "      <td>0.0004</td>\n",
       "      <td>0.0003</td>\n",
       "      <td>0.0004</td>\n",
       "      <td>-0.000254</td>\n",
       "      <td>0.000338</td>\n",
       "      <td>0.000254</td>\n",
       "      <td>0.000338</td>\n",
       "      <td>0</td>\n",
       "      <td>0</td>\n",
       "    </tr>\n",
       "    <tr>\n",
       "      <th>2017-08-02 13:35:00</th>\n",
       "      <td>1.1827</td>\n",
       "      <td>1.1827</td>\n",
       "      <td>1.1825</td>\n",
       "      <td>1.1826</td>\n",
       "      <td>20</td>\n",
       "      <td>1.18265</td>\n",
       "      <td>1.18260</td>\n",
       "      <td>0.0001</td>\n",
       "      <td>0.0002</td>\n",
       "      <td>0.0000</td>\n",
       "      <td>0.0001</td>\n",
       "      <td>0.000085</td>\n",
       "      <td>0.000169</td>\n",
       "      <td>0.000000</td>\n",
       "      <td>0.000085</td>\n",
       "      <td>0</td>\n",
       "      <td>0</td>\n",
       "    </tr>\n",
       "    <tr>\n",
       "      <th>2017-08-02 13:36:00</th>\n",
       "      <td>1.1825</td>\n",
       "      <td>1.1827</td>\n",
       "      <td>1.1824</td>\n",
       "      <td>1.1827</td>\n",
       "      <td>21</td>\n",
       "      <td>1.18260</td>\n",
       "      <td>1.18255</td>\n",
       "      <td>-0.0002</td>\n",
       "      <td>0.0003</td>\n",
       "      <td>0.0002</td>\n",
       "      <td>0.0003</td>\n",
       "      <td>-0.000169</td>\n",
       "      <td>0.000254</td>\n",
       "      <td>0.000169</td>\n",
       "      <td>0.000254</td>\n",
       "      <td>1</td>\n",
       "      <td>0</td>\n",
       "    </tr>\n",
       "    <tr>\n",
       "      <th>2017-08-02 13:37:00</th>\n",
       "      <td>1.1826</td>\n",
       "      <td>1.1828</td>\n",
       "      <td>1.1826</td>\n",
       "      <td>1.1828</td>\n",
       "      <td>13</td>\n",
       "      <td>1.18270</td>\n",
       "      <td>1.18270</td>\n",
       "      <td>-0.0002</td>\n",
       "      <td>0.0002</td>\n",
       "      <td>0.0002</td>\n",
       "      <td>0.0002</td>\n",
       "      <td>-0.000169</td>\n",
       "      <td>0.000169</td>\n",
       "      <td>0.000169</td>\n",
       "      <td>0.000169</td>\n",
       "      <td>1</td>\n",
       "      <td>0</td>\n",
       "    </tr>\n",
       "    <tr>\n",
       "      <th>2017-08-02 13:38:00</th>\n",
       "      <td>1.1827</td>\n",
       "      <td>1.1829</td>\n",
       "      <td>1.1827</td>\n",
       "      <td>1.1827</td>\n",
       "      <td>15</td>\n",
       "      <td>1.18270</td>\n",
       "      <td>1.18280</td>\n",
       "      <td>0.0000</td>\n",
       "      <td>0.0002</td>\n",
       "      <td>0.0002</td>\n",
       "      <td>0.0000</td>\n",
       "      <td>0.000000</td>\n",
       "      <td>0.000169</td>\n",
       "      <td>0.000169</td>\n",
       "      <td>0.000000</td>\n",
       "      <td>0</td>\n",
       "      <td>0</td>\n",
       "    </tr>\n",
       "    <tr>\n",
       "      <th>2017-08-02 13:39:00</th>\n",
       "      <td>1.1828</td>\n",
       "      <td>1.1828</td>\n",
       "      <td>1.1827</td>\n",
       "      <td>1.1827</td>\n",
       "      <td>6</td>\n",
       "      <td>1.18275</td>\n",
       "      <td>1.18275</td>\n",
       "      <td>0.0001</td>\n",
       "      <td>0.0001</td>\n",
       "      <td>0.0000</td>\n",
       "      <td>0.0000</td>\n",
       "      <td>0.000085</td>\n",
       "      <td>0.000085</td>\n",
       "      <td>0.000000</td>\n",
       "      <td>0.000000</td>\n",
       "      <td>0</td>\n",
       "      <td>0</td>\n",
       "    </tr>\n",
       "    <tr>\n",
       "      <th>2017-08-02 13:40:00</th>\n",
       "      <td>1.1828</td>\n",
       "      <td>1.1828</td>\n",
       "      <td>1.1827</td>\n",
       "      <td>1.1828</td>\n",
       "      <td>3</td>\n",
       "      <td>1.18280</td>\n",
       "      <td>1.18275</td>\n",
       "      <td>0.0000</td>\n",
       "      <td>0.0001</td>\n",
       "      <td>0.0000</td>\n",
       "      <td>0.0001</td>\n",
       "      <td>0.000000</td>\n",
       "      <td>0.000085</td>\n",
       "      <td>0.000000</td>\n",
       "      <td>0.000085</td>\n",
       "      <td>0</td>\n",
       "      <td>0</td>\n",
       "    </tr>\n",
       "    <tr>\n",
       "      <th>2017-08-02 13:41:00</th>\n",
       "      <td>1.1827</td>\n",
       "      <td>1.1831</td>\n",
       "      <td>1.1827</td>\n",
       "      <td>1.1831</td>\n",
       "      <td>11</td>\n",
       "      <td>1.18290</td>\n",
       "      <td>1.18290</td>\n",
       "      <td>-0.0004</td>\n",
       "      <td>0.0004</td>\n",
       "      <td>0.0004</td>\n",
       "      <td>0.0004</td>\n",
       "      <td>-0.000338</td>\n",
       "      <td>0.000338</td>\n",
       "      <td>0.000338</td>\n",
       "      <td>0.000338</td>\n",
       "      <td>1</td>\n",
       "      <td>0</td>\n",
       "    </tr>\n",
       "    <tr>\n",
       "      <th>2017-08-02 13:42:00</th>\n",
       "      <td>1.1832</td>\n",
       "      <td>1.1832</td>\n",
       "      <td>1.1831</td>\n",
       "      <td>1.1832</td>\n",
       "      <td>9</td>\n",
       "      <td>1.18320</td>\n",
       "      <td>1.18315</td>\n",
       "      <td>0.0000</td>\n",
       "      <td>0.0001</td>\n",
       "      <td>0.0000</td>\n",
       "      <td>0.0001</td>\n",
       "      <td>0.000000</td>\n",
       "      <td>0.000085</td>\n",
       "      <td>0.000000</td>\n",
       "      <td>0.000085</td>\n",
       "      <td>0</td>\n",
       "      <td>0</td>\n",
       "    </tr>\n",
       "    <tr>\n",
       "      <th>2017-08-02 13:43:00</th>\n",
       "      <td>1.1831</td>\n",
       "      <td>1.1832</td>\n",
       "      <td>1.1831</td>\n",
       "      <td>1.1831</td>\n",
       "      <td>9</td>\n",
       "      <td>1.18310</td>\n",
       "      <td>1.18315</td>\n",
       "      <td>0.0000</td>\n",
       "      <td>0.0001</td>\n",
       "      <td>0.0001</td>\n",
       "      <td>0.0000</td>\n",
       "      <td>0.000000</td>\n",
       "      <td>0.000085</td>\n",
       "      <td>0.000085</td>\n",
       "      <td>0.000000</td>\n",
       "      <td>0</td>\n",
       "      <td>1</td>\n",
       "    </tr>\n",
       "  </tbody>\n",
       "</table>\n",
       "</div>"
      ],
      "text/plain": [
       "                       open     max     min   close  vol   mean_o   mean_m  \\\n",
       "datetime                                                                     \n",
       "2017-08-02 13:34:00  1.1823  1.1826  1.1822  1.1826   14  1.18245  1.18240   \n",
       "2017-08-02 13:35:00  1.1827  1.1827  1.1825  1.1826   20  1.18265  1.18260   \n",
       "2017-08-02 13:36:00  1.1825  1.1827  1.1824  1.1827   21  1.18260  1.18255   \n",
       "2017-08-02 13:37:00  1.1826  1.1828  1.1826  1.1828   13  1.18270  1.18270   \n",
       "2017-08-02 13:38:00  1.1827  1.1829  1.1827  1.1827   15  1.18270  1.18280   \n",
       "2017-08-02 13:39:00  1.1828  1.1828  1.1827  1.1827    6  1.18275  1.18275   \n",
       "2017-08-02 13:40:00  1.1828  1.1828  1.1827  1.1828    3  1.18280  1.18275   \n",
       "2017-08-02 13:41:00  1.1827  1.1831  1.1827  1.1831   11  1.18290  1.18290   \n",
       "2017-08-02 13:42:00  1.1832  1.1832  1.1831  1.1832    9  1.18320  1.18315   \n",
       "2017-08-02 13:43:00  1.1831  1.1832  1.1831  1.1831    9  1.18310  1.18315   \n",
       "\n",
       "                     delta_oc  delta_mm  delta_mo  delta_cm  delta0_oc  \\\n",
       "datetime                                                                 \n",
       "2017-08-02 13:34:00   -0.0003    0.0004    0.0003    0.0004  -0.000254   \n",
       "2017-08-02 13:35:00    0.0001    0.0002    0.0000    0.0001   0.000085   \n",
       "2017-08-02 13:36:00   -0.0002    0.0003    0.0002    0.0003  -0.000169   \n",
       "2017-08-02 13:37:00   -0.0002    0.0002    0.0002    0.0002  -0.000169   \n",
       "2017-08-02 13:38:00    0.0000    0.0002    0.0002    0.0000   0.000000   \n",
       "2017-08-02 13:39:00    0.0001    0.0001    0.0000    0.0000   0.000085   \n",
       "2017-08-02 13:40:00    0.0000    0.0001    0.0000    0.0001   0.000000   \n",
       "2017-08-02 13:41:00   -0.0004    0.0004    0.0004    0.0004  -0.000338   \n",
       "2017-08-02 13:42:00    0.0000    0.0001    0.0000    0.0001   0.000000   \n",
       "2017-08-02 13:43:00    0.0000    0.0001    0.0001    0.0000   0.000000   \n",
       "\n",
       "                     delta0_mm  delta0_mo  delta0_cm  grow  fall  \n",
       "datetime                                                          \n",
       "2017-08-02 13:34:00   0.000338   0.000254   0.000338     0     0  \n",
       "2017-08-02 13:35:00   0.000169   0.000000   0.000085     0     0  \n",
       "2017-08-02 13:36:00   0.000254   0.000169   0.000254     1     0  \n",
       "2017-08-02 13:37:00   0.000169   0.000169   0.000169     1     0  \n",
       "2017-08-02 13:38:00   0.000169   0.000169   0.000000     0     0  \n",
       "2017-08-02 13:39:00   0.000085   0.000000   0.000000     0     0  \n",
       "2017-08-02 13:40:00   0.000085   0.000000   0.000085     0     0  \n",
       "2017-08-02 13:41:00   0.000338   0.000338   0.000338     1     0  \n",
       "2017-08-02 13:42:00   0.000085   0.000000   0.000085     0     0  \n",
       "2017-08-02 13:43:00   0.000085   0.000085   0.000000     0     1  "
      ]
     },
     "execution_count": 9,
     "metadata": {},
     "output_type": "execute_result"
    }
   ],
   "source": [
    "data.drop(['diff1', 'diff2', 'diff3', 'diff4', 'diff5', 'delta5'], axis=1, inplace=True)\n",
    "data.head(10)"
   ]
  },
  {
   "cell_type": "code",
   "execution_count": 10,
   "metadata": {
    "ExecuteTime": {
     "end_time": "2018-03-04T19:10:59.593404Z",
     "start_time": "2018-03-04T19:10:59.548802Z"
    },
    "collapsed": false,
    "hidden": true
   },
   "outputs": [
    {
     "name": "stdout",
     "output_type": "stream",
     "text": [
      "(88330, 17)\n",
      "(9517, 17)\n",
      "(9697, 17)\n"
     ]
    }
   ],
   "source": [
    "print(data.shape)\n",
    "print(data[data.grow == 1].shape)\n",
    "print(data[data.fall == 1].shape)"
   ]
  },
  {
   "cell_type": "code",
   "execution_count": 11,
   "metadata": {
    "ExecuteTime": {
     "end_time": "2018-03-04T19:13:00.629886Z",
     "start_time": "2018-03-04T19:10:59.598404Z"
    },
    "collapsed": true,
    "hidden": true
   },
   "outputs": [],
   "source": [
    "data.to_excel('data_1m.xlsx')"
   ]
  },
  {
   "cell_type": "code",
   "execution_count": 14,
   "metadata": {
    "ExecuteTime": {
     "end_time": "2018-03-04T19:13:33.071793Z",
     "start_time": "2018-03-04T19:13:33.003190Z"
    },
    "collapsed": true,
    "hidden": true
   },
   "outputs": [],
   "source": [
    "data.to_pickle('data1m.pkl')"
   ]
  },
  {
   "cell_type": "code",
   "execution_count": 19,
   "metadata": {
    "ExecuteTime": {
     "end_time": "2018-03-04T15:15:20.318334Z",
     "start_time": "2018-03-04T15:15:20.301734Z"
    },
    "collapsed": false,
    "hidden": true
   },
   "outputs": [],
   "source": [
    "#url = 'http://export.finam.ru/EURUSD_170912_171112.csv?market=5&em=83&code=EURUSD&apply=0&df=12&mf=8&yf=2017&from=12.09.2017&dt=12&mt=10&yt=2017&to=12.11.2017&p=2&f=EURUSD_170912_171112&e=.csv&cn=EURUSD&dtf=1&tmf=1&MSOR=1&mstime=on&mstimever=1&sep=3&sep2=1&datf=1&at=1'\n",
    "#f = urllib.request.urlopen(url)   # Открыли соединение.\n",
    "#data1 = f.read()   # Прочитали данные.\n",
    "#f.close()          # Закрыли соединение."
   ]
  },
  {
   "cell_type": "markdown",
   "metadata": {
    "heading_collapsed": true
   },
   "source": [
    "## Построение модели grow - классификация"
   ]
  },
  {
   "cell_type": "code",
   "execution_count": 27,
   "metadata": {
    "ExecuteTime": {
     "end_time": "2018-03-04T19:15:13.497219Z",
     "start_time": "2018-03-04T19:15:13.435017Z"
    },
    "collapsed": true,
    "hidden": true
   },
   "outputs": [],
   "source": [
    "#data=pd.read_pickle('data1m.pkl')"
   ]
  },
  {
   "cell_type": "code",
   "execution_count": 12,
   "metadata": {
    "ExecuteTime": {
     "end_time": "2018-03-04T19:13:00.645486Z",
     "start_time": "2018-03-04T19:13:00.629886Z"
    },
    "collapsed": true,
    "hidden": true
   },
   "outputs": [],
   "source": [
    "boost_round = 1500\n",
    "nfolds = 5\n",
    "test_size = 0.2\n",
    "rand_state = 43\n",
    "best_params =   {'application': 'binary'}"
   ]
  },
  {
   "cell_type": "code",
   "execution_count": null,
   "metadata": {
    "collapsed": true,
    "hidden": true
   },
   "outputs": [],
   "source": []
  },
  {
   "cell_type": "code",
   "execution_count": 16,
   "metadata": {
    "ExecuteTime": {
     "end_time": "2018-03-04T19:13:46.324687Z",
     "start_time": "2018-03-04T19:13:46.309087Z"
    },
    "collapsed": true,
    "hidden": true
   },
   "outputs": [],
   "source": [
    "col2est1 = ['grow']\n",
    "col2est2 = ['fall']"
   ]
  },
  {
   "cell_type": "code",
   "execution_count": 17,
   "metadata": {
    "ExecuteTime": {
     "end_time": "2018-03-04T19:13:47.956350Z",
     "start_time": "2018-03-04T19:13:47.875746Z"
    },
    "collapsed": false,
    "hidden": true
   },
   "outputs": [],
   "source": [
    "X_train, X_test, y_train, y_test = train_test_split(data.drop(col2est1 + col2est2, axis=1), data[col2est1 + col2est2], \n",
    "                                                    test_size=test_size, random_state=rand_state)"
   ]
  },
  {
   "cell_type": "code",
   "execution_count": 18,
   "metadata": {
    "ExecuteTime": {
     "end_time": "2018-03-04T19:13:49.679621Z",
     "start_time": "2018-03-04T19:13:49.664021Z"
    },
    "collapsed": true,
    "hidden": true
   },
   "outputs": [],
   "source": [
    "ld_train = lgb.Dataset(X_train, np.ravel(y_train.drop(col2est2, axis=1)))\n",
    "ld_test = lgb.Dataset(X_test)"
   ]
  },
  {
   "cell_type": "code",
   "execution_count": 19,
   "metadata": {
    "ExecuteTime": {
     "end_time": "2018-03-04T19:13:59.284122Z",
     "start_time": "2018-03-04T19:13:50.592660Z"
    },
    "collapsed": false,
    "hidden": true
   },
   "outputs": [
    {
     "name": "stdout",
     "output_type": "stream",
     "text": [
      "[1]\tcv_agg's binary_logloss: 0.634511 + 4.65871e-05\tcv_agg's pr_auc: 0.138982 + 0.0036751\n",
      "[2]\tcv_agg's binary_logloss: 0.58668 + 8.90677e-05\tcv_agg's pr_auc: 0.140291 + 0.00295428\n",
      "[3]\tcv_agg's binary_logloss: 0.547229 + 0.000132573\tcv_agg's pr_auc: 0.14151 + 0.00300827\n",
      "[4]\tcv_agg's binary_logloss: 0.514414 + 0.000151522\tcv_agg's pr_auc: 0.142652 + 0.00440154\n",
      "[5]\tcv_agg's binary_logloss: 0.486969 + 0.000170662\tcv_agg's pr_auc: 0.142807 + 0.00453361\n",
      "[6]\tcv_agg's binary_logloss: 0.463902 + 0.000197167\tcv_agg's pr_auc: 0.143044 + 0.00463621\n",
      "[7]\tcv_agg's binary_logloss: 0.444407 + 0.000217524\tcv_agg's pr_auc: 0.143207 + 0.00395465\n",
      "[8]\tcv_agg's binary_logloss: 0.427936 + 0.000246749\tcv_agg's pr_auc: 0.143513 + 0.00393176\n",
      "[9]\tcv_agg's binary_logloss: 0.413998 + 0.000263319\tcv_agg's pr_auc: 0.143414 + 0.00393044\n",
      "[10]\tcv_agg's binary_logloss: 0.402216 + 0.000308227\tcv_agg's pr_auc: 0.143254 + 0.00398817\n",
      "[11]\tcv_agg's binary_logloss: 0.392186 + 0.000336382\tcv_agg's pr_auc: 0.143617 + 0.00391195\n",
      "[12]\tcv_agg's binary_logloss: 0.383712 + 0.000354294\tcv_agg's pr_auc: 0.144013 + 0.00370813\n",
      "[13]\tcv_agg's binary_logloss: 0.376527 + 0.000404998\tcv_agg's pr_auc: 0.144131 + 0.003895\n",
      "[14]\tcv_agg's binary_logloss: 0.370438 + 0.000452408\tcv_agg's pr_auc: 0.144211 + 0.00410282\n",
      "[15]\tcv_agg's binary_logloss: 0.365291 + 0.000472769\tcv_agg's pr_auc: 0.144392 + 0.00410708\n",
      "[16]\tcv_agg's binary_logloss: 0.36094 + 0.000502193\tcv_agg's pr_auc: 0.144819 + 0.00446963\n",
      "[17]\tcv_agg's binary_logloss: 0.357263 + 0.000548979\tcv_agg's pr_auc: 0.145622 + 0.00489728\n",
      "[18]\tcv_agg's binary_logloss: 0.354165 + 0.000582068\tcv_agg's pr_auc: 0.145922 + 0.00499336\n",
      "[19]\tcv_agg's binary_logloss: 0.351588 + 0.000627136\tcv_agg's pr_auc: 0.145984 + 0.00512533\n",
      "[20]\tcv_agg's binary_logloss: 0.349407 + 0.000663688\tcv_agg's pr_auc: 0.146229 + 0.00509145\n",
      "[21]\tcv_agg's binary_logloss: 0.347556 + 0.000678083\tcv_agg's pr_auc: 0.146532 + 0.00503765\n",
      "[22]\tcv_agg's binary_logloss: 0.346052 + 0.000694987\tcv_agg's pr_auc: 0.146434 + 0.0048872\n",
      "[23]\tcv_agg's binary_logloss: 0.344803 + 0.000721075\tcv_agg's pr_auc: 0.146154 + 0.00482307\n",
      "[24]\tcv_agg's binary_logloss: 0.343755 + 0.000748749\tcv_agg's pr_auc: 0.146124 + 0.00490542\n",
      "[25]\tcv_agg's binary_logloss: 0.342901 + 0.000791571\tcv_agg's pr_auc: 0.14595 + 0.00503009\n",
      "[26]\tcv_agg's binary_logloss: 0.342218 + 0.000806938\tcv_agg's pr_auc: 0.14576 + 0.00497152\n",
      "[27]\tcv_agg's binary_logloss: 0.341632 + 0.000830255\tcv_agg's pr_auc: 0.145743 + 0.00498189\n",
      "[28]\tcv_agg's binary_logloss: 0.34113 + 0.000838158\tcv_agg's pr_auc: 0.145808 + 0.00487426\n",
      "[29]\tcv_agg's binary_logloss: 0.340716 + 0.000859549\tcv_agg's pr_auc: 0.145776 + 0.00488459\n",
      "[30]\tcv_agg's binary_logloss: 0.340371 + 0.000878628\tcv_agg's pr_auc: 0.145732 + 0.00493268\n",
      "[31]\tcv_agg's binary_logloss: 0.340095 + 0.000883903\tcv_agg's pr_auc: 0.14573 + 0.00489029\n",
      "[32]\tcv_agg's binary_logloss: 0.339857 + 0.000884623\tcv_agg's pr_auc: 0.145993 + 0.00494872\n",
      "[33]\tcv_agg's binary_logloss: 0.339684 + 0.000892136\tcv_agg's pr_auc: 0.145944 + 0.00497868\n",
      "[34]\tcv_agg's binary_logloss: 0.33952 + 0.00090411\tcv_agg's pr_auc: 0.145929 + 0.00500138\n",
      "[35]\tcv_agg's binary_logloss: 0.339427 + 0.000881349\tcv_agg's pr_auc: 0.145767 + 0.00486687\n",
      "[36]\tcv_agg's binary_logloss: 0.339343 + 0.000917304\tcv_agg's pr_auc: 0.145816 + 0.00508304\n",
      "[37]\tcv_agg's binary_logloss: 0.339262 + 0.000881762\tcv_agg's pr_auc: 0.145841 + 0.0049445\n",
      "[38]\tcv_agg's binary_logloss: 0.339171 + 0.000886062\tcv_agg's pr_auc: 0.146006 + 0.00496333\n",
      "[39]\tcv_agg's binary_logloss: 0.339122 + 0.000887155\tcv_agg's pr_auc: 0.146017 + 0.0049798\n",
      "[40]\tcv_agg's binary_logloss: 0.339065 + 0.000889253\tcv_agg's pr_auc: 0.146138 + 0.00507731\n",
      "[41]\tcv_agg's binary_logloss: 0.339048 + 0.000886761\tcv_agg's pr_auc: 0.146071 + 0.00504334\n",
      "0.146532036983\n",
      "21\n"
     ]
    }
   ],
   "source": [
    "np.random.seed(rand_state)\n",
    "res = lgb.cv(best_params, ld_train, num_boost_round=boost_round, nfold=nfolds, feval=pr_auc_score_lgb, early_stopping_rounds=20, \n",
    "             show_stdv=True, callbacks=[lgb.print_evaluation(period=1, show_stdv=True)])\n",
    "print (res.get(\"pr_auc-mean\")[-1])\n",
    "best_num_boost_round = len(res[list(res)[0]])\n",
    "print(best_num_boost_round)"
   ]
  },
  {
   "cell_type": "code",
   "execution_count": 20,
   "metadata": {
    "ExecuteTime": {
     "end_time": "2018-03-04T19:13:59.800927Z",
     "start_time": "2018-03-04T19:13:59.285122Z"
    },
    "collapsed": true,
    "hidden": true
   },
   "outputs": [],
   "source": [
    "clf = lgb.train(best_params, ld_train, num_boost_round=best_num_boost_round, feval=pr_auc_score_lgb)\n",
    "y_score = clf.predict(X_test)"
   ]
  },
  {
   "cell_type": "code",
   "execution_count": 21,
   "metadata": {
    "ExecuteTime": {
     "end_time": "2018-03-04T19:13:59.816527Z",
     "start_time": "2018-03-04T19:13:59.800927Z"
    },
    "collapsed": false,
    "hidden": true
   },
   "outputs": [
    {
     "data": {
      "text/plain": [
       "('pr_auc', 0.14119103564425417)"
      ]
     },
     "execution_count": 21,
     "metadata": {},
     "output_type": "execute_result"
    }
   ],
   "source": [
    "y_test1 = y_test.drop(col2est2, axis=1)\n",
    "pr_auc_score(y_test1, y_score)"
   ]
  },
  {
   "cell_type": "code",
   "execution_count": 22,
   "metadata": {
    "ExecuteTime": {
     "end_time": "2018-03-04T19:14:02.964651Z",
     "start_time": "2018-03-04T19:14:01.867601Z"
    },
    "collapsed": false,
    "hidden": true
   },
   "outputs": [
    {
     "data": {
      "text/plain": [
       "Text(0.5,1,'2-class Precision-Recall curve: \\naverage precision score=0.140919573372\\nAUC-PRC = 0.141191035644')"
      ]
     },
     "execution_count": 22,
     "metadata": {},
     "output_type": "execute_result"
    },
    {
     "data": {
      "image/png": "[encoded data removed]",
      "text/plain": [
       "<matplotlib.figure.Figure at 0xb2d9588>"
      ]
     },
     "metadata": {},
     "output_type": "display_data"
    }
   ],
   "source": [
    "average_precision = average_precision_score(y_test1, y_score)\n",
    "\n",
    "precisions, recalls, thresholds = precision_recall_curve(y_test1, y_score)\n",
    "fig = plt.figure( figsize=(15, 10))\n",
    "plt.step(recalls, precisions, color='b', alpha=0.2, where='post')\n",
    "plt.fill_between(recalls, precisions, step='post', alpha=0.2, color='b')\n",
    "plt.xlabel('Recall')\n",
    "plt.ylabel('Precision')\n",
    "plt.ylim([0.0, 1.05])\n",
    "plt.xlim([0.0, 1.05])\n",
    "plt.title('2-class Precision-Recall curve: \\naverage precision score='+ str(average_precision) + \n",
    "          '\\nAUC-PRC = ' + str(auc(recalls, precisions, reorder=True)))"
   ]
  },
  {
   "cell_type": "code",
   "execution_count": 23,
   "metadata": {
    "ExecuteTime": {
     "end_time": "2018-03-04T19:14:06.317334Z",
     "start_time": "2018-03-04T19:14:06.292332Z"
    },
    "collapsed": true,
    "hidden": true
   },
   "outputs": [],
   "source": [
    "results = y_test.copy()\n",
    "results['Score'] = y_score\n",
    "res = list()\n",
    "for i in np.arange(0, len(thresholds)):\n",
    "    res.append(abs((1 - precisions[i]) - (1 - recalls[i])))"
   ]
  },
  {
   "cell_type": "code",
   "execution_count": 24,
   "metadata": {
    "ExecuteTime": {
     "end_time": "2018-03-04T19:14:07.374773Z",
     "start_time": "2018-03-04T19:14:07.343573Z"
    },
    "collapsed": false,
    "hidden": true
   },
   "outputs": [
    {
     "name": "stdout",
     "output_type": "stream",
     "text": [
      "threshold  0.418751570783 \n",
      "precision  0.0 \n",
      "recall  0.0\n"
     ]
    }
   ],
   "source": [
    "threshold = thresholds[np.argmin(res)]\n",
    "precision = precisions[np.argmin(res)]\n",
    "recall = recalls[np.argmin(res)]\n",
    "print('threshold ', threshold, '\\nprecision ', precision, '\\nrecall ', recall)"
   ]
  },
  {
   "cell_type": "code",
   "execution_count": 25,
   "metadata": {
    "ExecuteTime": {
     "end_time": "2018-03-04T19:14:09.161841Z",
     "start_time": "2018-03-04T19:14:09.038636Z"
    },
    "collapsed": false,
    "hidden": true,
    "scrolled": false
   },
   "outputs": [
    {
     "name": "stdout",
     "output_type": "stream",
     "text": [
      "FP:  1853\n",
      "TP:  0\n",
      "FN:  2\n",
      "TN:  15811\n"
     ]
    },
    {
     "data": {
      "text/html": [
       "<div>\n",
       "<style scoped>\n",
       "    .dataframe tbody tr th:only-of-type {\n",
       "        vertical-align: middle;\n",
       "    }\n",
       "\n",
       "    .dataframe tbody tr th {\n",
       "        vertical-align: top;\n",
       "    }\n",
       "\n",
       "    .dataframe thead th {\n",
       "        text-align: right;\n",
       "    }\n",
       "</style>\n",
       "<table border=\"1\" class=\"dataframe\">\n",
       "  <thead>\n",
       "    <tr style=\"text-align: right;\">\n",
       "      <th></th>\n",
       "      <th>grow</th>\n",
       "      <th>fall</th>\n",
       "      <th>Score</th>\n",
       "      <th>grow_b</th>\n",
       "    </tr>\n",
       "    <tr>\n",
       "      <th>datetime</th>\n",
       "      <th></th>\n",
       "      <th></th>\n",
       "      <th></th>\n",
       "      <th></th>\n",
       "    </tr>\n",
       "  </thead>\n",
       "  <tbody>\n",
       "    <tr>\n",
       "      <th>2017-09-07 13:00:00</th>\n",
       "      <td>0</td>\n",
       "      <td>1</td>\n",
       "      <td>0.418752</td>\n",
       "      <td>1</td>\n",
       "    </tr>\n",
       "    <tr>\n",
       "      <th>2017-09-07 12:48:00</th>\n",
       "      <td>0</td>\n",
       "      <td>0</td>\n",
       "      <td>0.418752</td>\n",
       "      <td>1</td>\n",
       "    </tr>\n",
       "  </tbody>\n",
       "</table>\n",
       "</div>"
      ],
      "text/plain": [
       "                     grow  fall     Score  grow_b\n",
       "datetime                                         \n",
       "2017-09-07 13:00:00     0     1  0.418752       1\n",
       "2017-09-07 12:48:00     0     0  0.418752       1"
      ]
     },
     "execution_count": 25,
     "metadata": {},
     "output_type": "execute_result"
    }
   ],
   "source": [
    "results['grow_b'] = results['Score'].apply(lambda x: 1 if x >= threshold  else 0)\n",
    "print('FP: ', results[(results.grow_b==0) & (results.grow==1)].shape[0])\n",
    "print('TP: ',results[(results.grow_b==1) & (results.grow==1)].shape[0])\n",
    "print('FN: ', results[(results.grow_b==1) & (results.grow==0)].shape[0])\n",
    "print('TN: ',results[(results.grow_b==0) & (results.grow==0)].shape[0])\n",
    "results[results.grow_b==1].sort_values('Score', ascending=False).tail(50)"
   ]
  },
  {
   "cell_type": "code",
   "execution_count": 26,
   "metadata": {
    "ExecuteTime": {
     "end_time": "2018-03-04T19:14:18.003583Z",
     "start_time": "2018-03-04T19:14:16.688370Z"
    },
    "collapsed": false,
    "hidden": true
   },
   "outputs": [
    {
     "data": {
      "text/plain": [
       "<matplotlib.axes._subplots.AxesSubplot at 0x17177c18>"
      ]
     },
     "execution_count": 26,
     "metadata": {},
     "output_type": "execute_result"
    },
    {
     "data": {
      "image/png": "[encoded data removed]",
      "text/plain": [
       "<matplotlib.figure.Figure at 0x17177438>"
      ]
     },
     "metadata": {},
     "output_type": "display_data"
    }
   ],
   "source": [
    "fig = plt.figure( figsize=(20, 20))\n",
    "ax = fig.add_subplot(111)\n",
    "lgb.plot_importance(clf, ax)"
   ]
  },
  {
   "cell_type": "markdown",
   "metadata": {
    "ExecuteTime": {
     "end_time": "2018-03-04T19:17:16.629911Z",
     "start_time": "2018-03-04T19:17:16.614311Z"
    }
   },
   "source": [
    "## CNN"
   ]
  },
  {
   "cell_type": "code",
   "execution_count": 44,
   "metadata": {
    "ExecuteTime": {
     "end_time": "2018-03-04T21:43:56.911988Z",
     "start_time": "2018-03-04T21:43:56.884387Z"
    },
    "collapsed": false
   },
   "outputs": [],
   "source": [
    "from sklearn import preprocessing\n",
    "from sklearn.metrics import mean_squared_error, classification_report\n",
    "import matplotlib.pylab as plt\n",
    "import datetime as dt\n",
    "import time\n",
    "\n",
    "from keras.models import Sequential\n",
    "from keras.layers.core import Dense, Dropout, Activation, Flatten\n",
    "from keras.layers.recurrent import LSTM, GRU\n",
    "from keras.layers import Conv1D, MaxPooling1D"
   ]
  },
  {
   "cell_type": "code",
   "execution_count": 29,
   "metadata": {
    "ExecuteTime": {
     "end_time": "2018-03-04T19:17:41.362607Z",
     "start_time": "2018-03-04T19:17:41.292405Z"
    },
    "collapsed": true
   },
   "outputs": [],
   "source": [
    "data=pd.read_pickle('data1m.pkl')"
   ]
  },
  {
   "cell_type": "code",
   "execution_count": 51,
   "metadata": {
    "ExecuteTime": {
     "end_time": "2018-03-04T21:56:28.459610Z",
     "start_time": "2018-03-04T21:56:28.316003Z"
    },
    "collapsed": false
   },
   "outputs": [],
   "source": [
    "def split_into_chunks(data, train, predict, step, binary=True, scale=True):\n",
    "    X, Y = [], []\n",
    "    for i in range(0, len(data), step):\n",
    "        try:\n",
    "            x_i = data[i:i+train]\n",
    "            y_i = data[i+train+predict]\n",
    "            if binary:\n",
    "                if y_i > 0.:\n",
    "                    y_i = [1., 0.]\n",
    "                else:\n",
    "                    y_i = [0., 1.]\n",
    "\n",
    "                if scale: x_i = preprocessing.scale(x_i)\n",
    "            else:\n",
    "                timeseries = np.array(data[i:i+train+predict])\n",
    "                if scale: timeseries = preprocessing.scale(timeseries)\n",
    "                x_i = timeseries[:-1]\n",
    "                y_i = timeseries[-1]\n",
    "        except:\n",
    "            break\n",
    "\n",
    "        X.append(x_i)\n",
    "        Y.append(y_i)\n",
    "    return X, Y\n",
    "\n",
    "def shuffle_in_unison(a, b):\n",
    "    # courtsey http://stackoverflow.com/users/190280/josh-bleecher-snyder\n",
    "    assert len(a) == len(b)\n",
    "    shuffled_a = np.empty(a.shape, dtype=a.dtype)\n",
    "    shuffled_b = np.empty(b.shape, dtype=b.dtype)\n",
    "    permutation = np.random.permutation(len(a))\n",
    "    for old_index, new_index in enumerate(permutation):\n",
    "        shuffled_a[new_index] = a[old_index]\n",
    "        shuffled_b[new_index] = b[old_index]\n",
    "    return shuffled_a, shuffled_b\n",
    "\n",
    "\n",
    "def create_Xt_Yt(X, y, percentage=0.8):\n",
    "    split_index = int(len(X) * percentage)\n",
    "    X_train = X[0:split_index]\n",
    "    Y_train = y[0:split_index]\n",
    "    #X_train, Y_train = shuffle_in_unison(X_train, Y_train)\n",
    "    X_test = X[split_index:]\n",
    "    Y_test = y[split_index:]\n",
    "    return X_train, X_test, Y_train, Y_test"
   ]
  },
  {
   "cell_type": "code",
   "execution_count": 72,
   "metadata": {
    "ExecuteTime": {
     "end_time": "2018-03-04T22:26:10.623433Z",
     "start_time": "2018-03-04T22:26:10.615433Z"
    },
    "collapsed": true
   },
   "outputs": [],
   "source": [
    "TRAIN_SIZE = 4#20\n",
    "TARGET_TIME = 1\n",
    "LAG_SIZE = 1\n",
    "EMB_SIZE = 1"
   ]
  },
  {
   "cell_type": "code",
   "execution_count": 35,
   "metadata": {
    "ExecuteTime": {
     "end_time": "2018-03-04T21:32:09.377138Z",
     "start_time": "2018-03-04T21:32:09.284934Z"
    },
    "collapsed": false
   },
   "outputs": [
    {
     "data": {
      "text/html": [
       "<div>\n",
       "<style scoped>\n",
       "    .dataframe tbody tr th:only-of-type {\n",
       "        vertical-align: middle;\n",
       "    }\n",
       "\n",
       "    .dataframe tbody tr th {\n",
       "        vertical-align: top;\n",
       "    }\n",
       "\n",
       "    .dataframe thead th {\n",
       "        text-align: right;\n",
       "    }\n",
       "</style>\n",
       "<table border=\"1\" class=\"dataframe\">\n",
       "  <thead>\n",
       "    <tr style=\"text-align: right;\">\n",
       "      <th></th>\n",
       "      <th>open</th>\n",
       "      <th>max</th>\n",
       "      <th>min</th>\n",
       "      <th>close</th>\n",
       "      <th>vol</th>\n",
       "      <th>mean_o</th>\n",
       "      <th>mean_m</th>\n",
       "      <th>delta_oc</th>\n",
       "      <th>delta_mm</th>\n",
       "      <th>delta_mo</th>\n",
       "      <th>delta_cm</th>\n",
       "      <th>delta0_oc</th>\n",
       "      <th>delta0_mm</th>\n",
       "      <th>delta0_mo</th>\n",
       "      <th>delta0_cm</th>\n",
       "      <th>grow</th>\n",
       "      <th>fall</th>\n",
       "    </tr>\n",
       "    <tr>\n",
       "      <th>datetime</th>\n",
       "      <th></th>\n",
       "      <th></th>\n",
       "      <th></th>\n",
       "      <th></th>\n",
       "      <th></th>\n",
       "      <th></th>\n",
       "      <th></th>\n",
       "      <th></th>\n",
       "      <th></th>\n",
       "      <th></th>\n",
       "      <th></th>\n",
       "      <th></th>\n",
       "      <th></th>\n",
       "      <th></th>\n",
       "      <th></th>\n",
       "      <th></th>\n",
       "      <th></th>\n",
       "    </tr>\n",
       "  </thead>\n",
       "  <tbody>\n",
       "    <tr>\n",
       "      <th>2017-08-02 13:34:00</th>\n",
       "      <td>1.1823</td>\n",
       "      <td>1.1826</td>\n",
       "      <td>1.1822</td>\n",
       "      <td>1.1826</td>\n",
       "      <td>14</td>\n",
       "      <td>1.18245</td>\n",
       "      <td>1.18240</td>\n",
       "      <td>-0.0003</td>\n",
       "      <td>0.0004</td>\n",
       "      <td>0.0003</td>\n",
       "      <td>0.0004</td>\n",
       "      <td>-0.000254</td>\n",
       "      <td>0.000338</td>\n",
       "      <td>0.000254</td>\n",
       "      <td>0.000338</td>\n",
       "      <td>0</td>\n",
       "      <td>0</td>\n",
       "    </tr>\n",
       "    <tr>\n",
       "      <th>2017-08-02 13:35:00</th>\n",
       "      <td>1.1827</td>\n",
       "      <td>1.1827</td>\n",
       "      <td>1.1825</td>\n",
       "      <td>1.1826</td>\n",
       "      <td>20</td>\n",
       "      <td>1.18265</td>\n",
       "      <td>1.18260</td>\n",
       "      <td>0.0001</td>\n",
       "      <td>0.0002</td>\n",
       "      <td>0.0000</td>\n",
       "      <td>0.0001</td>\n",
       "      <td>0.000085</td>\n",
       "      <td>0.000169</td>\n",
       "      <td>0.000000</td>\n",
       "      <td>0.000085</td>\n",
       "      <td>0</td>\n",
       "      <td>0</td>\n",
       "    </tr>\n",
       "    <tr>\n",
       "      <th>2017-08-02 13:36:00</th>\n",
       "      <td>1.1825</td>\n",
       "      <td>1.1827</td>\n",
       "      <td>1.1824</td>\n",
       "      <td>1.1827</td>\n",
       "      <td>21</td>\n",
       "      <td>1.18260</td>\n",
       "      <td>1.18255</td>\n",
       "      <td>-0.0002</td>\n",
       "      <td>0.0003</td>\n",
       "      <td>0.0002</td>\n",
       "      <td>0.0003</td>\n",
       "      <td>-0.000169</td>\n",
       "      <td>0.000254</td>\n",
       "      <td>0.000169</td>\n",
       "      <td>0.000254</td>\n",
       "      <td>1</td>\n",
       "      <td>0</td>\n",
       "    </tr>\n",
       "    <tr>\n",
       "      <th>2017-08-02 13:37:00</th>\n",
       "      <td>1.1826</td>\n",
       "      <td>1.1828</td>\n",
       "      <td>1.1826</td>\n",
       "      <td>1.1828</td>\n",
       "      <td>13</td>\n",
       "      <td>1.18270</td>\n",
       "      <td>1.18270</td>\n",
       "      <td>-0.0002</td>\n",
       "      <td>0.0002</td>\n",
       "      <td>0.0002</td>\n",
       "      <td>0.0002</td>\n",
       "      <td>-0.000169</td>\n",
       "      <td>0.000169</td>\n",
       "      <td>0.000169</td>\n",
       "      <td>0.000169</td>\n",
       "      <td>1</td>\n",
       "      <td>0</td>\n",
       "    </tr>\n",
       "    <tr>\n",
       "      <th>2017-08-02 13:38:00</th>\n",
       "      <td>1.1827</td>\n",
       "      <td>1.1829</td>\n",
       "      <td>1.1827</td>\n",
       "      <td>1.1827</td>\n",
       "      <td>15</td>\n",
       "      <td>1.18270</td>\n",
       "      <td>1.18280</td>\n",
       "      <td>0.0000</td>\n",
       "      <td>0.0002</td>\n",
       "      <td>0.0002</td>\n",
       "      <td>0.0000</td>\n",
       "      <td>0.000000</td>\n",
       "      <td>0.000169</td>\n",
       "      <td>0.000169</td>\n",
       "      <td>0.000000</td>\n",
       "      <td>0</td>\n",
       "      <td>0</td>\n",
       "    </tr>\n",
       "  </tbody>\n",
       "</table>\n",
       "</div>"
      ],
      "text/plain": [
       "                       open     max     min   close  vol   mean_o   mean_m  \\\n",
       "datetime                                                                     \n",
       "2017-08-02 13:34:00  1.1823  1.1826  1.1822  1.1826   14  1.18245  1.18240   \n",
       "2017-08-02 13:35:00  1.1827  1.1827  1.1825  1.1826   20  1.18265  1.18260   \n",
       "2017-08-02 13:36:00  1.1825  1.1827  1.1824  1.1827   21  1.18260  1.18255   \n",
       "2017-08-02 13:37:00  1.1826  1.1828  1.1826  1.1828   13  1.18270  1.18270   \n",
       "2017-08-02 13:38:00  1.1827  1.1829  1.1827  1.1827   15  1.18270  1.18280   \n",
       "\n",
       "                     delta_oc  delta_mm  delta_mo  delta_cm  delta0_oc  \\\n",
       "datetime                                                                 \n",
       "2017-08-02 13:34:00   -0.0003    0.0004    0.0003    0.0004  -0.000254   \n",
       "2017-08-02 13:35:00    0.0001    0.0002    0.0000    0.0001   0.000085   \n",
       "2017-08-02 13:36:00   -0.0002    0.0003    0.0002    0.0003  -0.000169   \n",
       "2017-08-02 13:37:00   -0.0002    0.0002    0.0002    0.0002  -0.000169   \n",
       "2017-08-02 13:38:00    0.0000    0.0002    0.0002    0.0000   0.000000   \n",
       "\n",
       "                     delta0_mm  delta0_mo  delta0_cm  grow  fall  \n",
       "datetime                                                          \n",
       "2017-08-02 13:34:00   0.000338   0.000254   0.000338     0     0  \n",
       "2017-08-02 13:35:00   0.000169   0.000000   0.000085     0     0  \n",
       "2017-08-02 13:36:00   0.000254   0.000169   0.000254     1     0  \n",
       "2017-08-02 13:37:00   0.000169   0.000169   0.000169     1     0  \n",
       "2017-08-02 13:38:00   0.000169   0.000169   0.000000     0     0  "
      ]
     },
     "execution_count": 35,
     "metadata": {},
     "output_type": "execute_result"
    }
   ],
   "source": [
    "data.head()"
   ]
  },
  {
   "cell_type": "code",
   "execution_count": 73,
   "metadata": {
    "ExecuteTime": {
     "end_time": "2018-03-04T22:26:12.468707Z",
     "start_time": "2018-03-04T22:26:12.437506Z"
    },
    "collapsed": false
   },
   "outputs": [],
   "source": [
    "X = data[['open', 'max', 'min', 'close']].as_matrix()\n",
    "X = np.expand_dims(X, axis=2)\n",
    "Y = data.grow.as_matrix()\n",
    "\n",
    "X_train, X_test, Y_train, Y_test = create_Xt_Yt(X, Y, percentage=0.9)"
   ]
  },
  {
   "cell_type": "code",
   "execution_count": 74,
   "metadata": {
    "ExecuteTime": {
     "end_time": "2018-03-04T22:26:14.158182Z",
     "start_time": "2018-03-04T22:26:14.147182Z"
    },
    "collapsed": false
   },
   "outputs": [
    {
     "data": {
      "text/plain": [
       "(79497, 4, 1)"
      ]
     },
     "execution_count": 74,
     "metadata": {},
     "output_type": "execute_result"
    }
   ],
   "source": [
    "X_train.shape"
   ]
  },
  {
   "cell_type": "code",
   "execution_count": 75,
   "metadata": {
    "ExecuteTime": {
     "end_time": "2018-03-04T22:26:15.793664Z",
     "start_time": "2018-03-04T22:26:15.139631Z"
    },
    "collapsed": false
   },
   "outputs": [
    {
     "name": "stderr",
     "output_type": "stream",
     "text": [
      "C:\\ProgramData\\Anaconda3\\lib\\site-packages\\ipykernel\\__main__.py:3: UserWarning: Update your `Conv1D` call to the Keras 2 API: `Conv1D(input_shape=(4, 1), activation=\"relu\", filters=64, kernel_size=2, strides=1, padding=\"valid\")`\n",
      "  app.launch_new_instance()\n",
      "C:\\ProgramData\\Anaconda3\\lib\\site-packages\\ipykernel\\__main__.py:4: UserWarning: Update your `MaxPooling1D` call to the Keras 2 API: `MaxPooling1D(pool_size=2)`\n"
     ]
    }
   ],
   "source": [
    "model = Sequential()\n",
    "model.add(Conv1D(input_shape=(TRAIN_SIZE, EMB_SIZE), nb_filter=64, filter_length=2, border_mode='valid',\n",
    "                        activation='relu',subsample_length=1))\n",
    "model.add(MaxPooling1D(pool_length=2))\n",
    "\n",
    "model.add(Dropout(0.25))\n",
    "model.add(Flatten())\n",
    "\n",
    "model.add(Dense(250))\n",
    "model.add(Dropout(0.25))\n",
    "model.add(Activation('relu'))\n",
    "model.add(Dense(2))\n",
    "model.add(Activation('softmax'))\n",
    "\n",
    "model.compile(optimizer='adam',loss='binary_crossentropy', metrics=['accuracy'])"
   ]
  },
  {
   "cell_type": "code",
   "execution_count": 76,
   "metadata": {
    "ExecuteTime": {
     "end_time": "2018-03-04T22:26:17.205525Z",
     "start_time": "2018-03-04T22:26:17.137323Z"
    },
    "collapsed": false
   },
   "outputs": [
    {
     "name": "stderr",
     "output_type": "stream",
     "text": [
      "C:\\ProgramData\\Anaconda3\\lib\\site-packages\\keras\\models.py:874: UserWarning: The `nb_epoch` argument in `fit` has been renamed `epochs`.\n",
      "  warnings.warn('The `nb_epoch` argument in `fit` '\n"
     ]
    },
    {
     "ename": "ValueError",
     "evalue": "Error when checking target: expected activation_14 to have shape (None, 2) but got array with shape (79497, 1)",
     "output_type": "error",
     "traceback": [
      "\u001b[0;31m---------------------------------------------------------------------------\u001b[0m",
      "\u001b[0;31mValueError\u001b[0m                                Traceback (most recent call last)",
      "\u001b[0;32m<ipython-input-76-e973eb50bc10>\u001b[0m in \u001b[0;36m<module>\u001b[0;34m()\u001b[0m\n\u001b[1;32m      4\u001b[0m           \u001b[0mbatch_size\u001b[0m \u001b[1;33m=\u001b[0m \u001b[1;36m128\u001b[0m\u001b[1;33m,\u001b[0m\u001b[1;33m\u001b[0m\u001b[0m\n\u001b[1;32m      5\u001b[0m           \u001b[0mverbose\u001b[0m\u001b[1;33m=\u001b[0m\u001b[1;36m1\u001b[0m\u001b[1;33m,\u001b[0m\u001b[1;33m\u001b[0m\u001b[0m\n\u001b[0;32m----> 6\u001b[0;31m           validation_split=0.1)\n\u001b[0m\u001b[1;32m      7\u001b[0m \u001b[0mscore\u001b[0m \u001b[1;33m=\u001b[0m \u001b[0mmodel\u001b[0m\u001b[1;33m.\u001b[0m\u001b[0mevaluate\u001b[0m\u001b[1;33m(\u001b[0m\u001b[0mX_test\u001b[0m\u001b[1;33m,\u001b[0m \u001b[0mY_test\u001b[0m\u001b[1;33m,\u001b[0m \u001b[0mbatch_size\u001b[0m\u001b[1;33m=\u001b[0m\u001b[1;36m128\u001b[0m\u001b[1;33m)\u001b[0m\u001b[1;33m\u001b[0m\u001b[0m\n\u001b[1;32m      8\u001b[0m \u001b[0mprint\u001b[0m\u001b[1;33m(\u001b[0m \u001b[0mscore\u001b[0m\u001b[1;33m)\u001b[0m\u001b[1;33m\u001b[0m\u001b[0m\n",
      "\u001b[0;32mC:\\ProgramData\\Anaconda3\\lib\\site-packages\\keras\\models.py\u001b[0m in \u001b[0;36mfit\u001b[0;34m(self, x, y, batch_size, epochs, verbose, callbacks, validation_split, validation_data, shuffle, class_weight, sample_weight, initial_epoch, **kwargs)\u001b[0m\n\u001b[1;32m    891\u001b[0m                               \u001b[0mclass_weight\u001b[0m\u001b[1;33m=\u001b[0m\u001b[0mclass_weight\u001b[0m\u001b[1;33m,\u001b[0m\u001b[1;33m\u001b[0m\u001b[0m\n\u001b[1;32m    892\u001b[0m                               \u001b[0msample_weight\u001b[0m\u001b[1;33m=\u001b[0m\u001b[0msample_weight\u001b[0m\u001b[1;33m,\u001b[0m\u001b[1;33m\u001b[0m\u001b[0m\n\u001b[0;32m--> 893\u001b[0;31m                               initial_epoch=initial_epoch)\n\u001b[0m\u001b[1;32m    894\u001b[0m \u001b[1;33m\u001b[0m\u001b[0m\n\u001b[1;32m    895\u001b[0m     def evaluate(self, x, y, batch_size=32, verbose=1,\n",
      "\u001b[0;32mC:\\ProgramData\\Anaconda3\\lib\\site-packages\\keras\\engine\\training.py\u001b[0m in \u001b[0;36mfit\u001b[0;34m(self, x, y, batch_size, epochs, verbose, callbacks, validation_split, validation_data, shuffle, class_weight, sample_weight, initial_epoch, steps_per_epoch, validation_steps, **kwargs)\u001b[0m\n\u001b[1;32m   1553\u001b[0m             \u001b[0mclass_weight\u001b[0m\u001b[1;33m=\u001b[0m\u001b[0mclass_weight\u001b[0m\u001b[1;33m,\u001b[0m\u001b[1;33m\u001b[0m\u001b[0m\n\u001b[1;32m   1554\u001b[0m             \u001b[0mcheck_batch_axis\u001b[0m\u001b[1;33m=\u001b[0m\u001b[1;32mFalse\u001b[0m\u001b[1;33m,\u001b[0m\u001b[1;33m\u001b[0m\u001b[0m\n\u001b[0;32m-> 1555\u001b[0;31m             batch_size=batch_size)\n\u001b[0m\u001b[1;32m   1556\u001b[0m         \u001b[1;31m# Prepare validation data.\u001b[0m\u001b[1;33m\u001b[0m\u001b[1;33m\u001b[0m\u001b[0m\n\u001b[1;32m   1557\u001b[0m         \u001b[0mdo_validation\u001b[0m \u001b[1;33m=\u001b[0m \u001b[1;32mFalse\u001b[0m\u001b[1;33m\u001b[0m\u001b[0m\n",
      "\u001b[0;32mC:\\ProgramData\\Anaconda3\\lib\\site-packages\\keras\\engine\\training.py\u001b[0m in \u001b[0;36m_standardize_user_data\u001b[0;34m(self, x, y, sample_weight, class_weight, check_batch_axis, batch_size)\u001b[0m\n\u001b[1;32m   1411\u001b[0m                                     \u001b[0moutput_shapes\u001b[0m\u001b[1;33m,\u001b[0m\u001b[1;33m\u001b[0m\u001b[0m\n\u001b[1;32m   1412\u001b[0m                                     \u001b[0mcheck_batch_axis\u001b[0m\u001b[1;33m=\u001b[0m\u001b[1;32mFalse\u001b[0m\u001b[1;33m,\u001b[0m\u001b[1;33m\u001b[0m\u001b[0m\n\u001b[0;32m-> 1413\u001b[0;31m                                     exception_prefix='target')\n\u001b[0m\u001b[1;32m   1414\u001b[0m         sample_weights = _standardize_sample_weights(sample_weight,\n\u001b[1;32m   1415\u001b[0m                                                      self._feed_output_names)\n",
      "\u001b[0;32mC:\\ProgramData\\Anaconda3\\lib\\site-packages\\keras\\engine\\training.py\u001b[0m in \u001b[0;36m_standardize_input_data\u001b[0;34m(data, names, shapes, check_batch_axis, exception_prefix)\u001b[0m\n\u001b[1;32m    152\u001b[0m                             \u001b[1;34m' to have shape '\u001b[0m \u001b[1;33m+\u001b[0m \u001b[0mstr\u001b[0m\u001b[1;33m(\u001b[0m\u001b[0mshapes\u001b[0m\u001b[1;33m[\u001b[0m\u001b[0mi\u001b[0m\u001b[1;33m]\u001b[0m\u001b[1;33m)\u001b[0m \u001b[1;33m+\u001b[0m\u001b[1;33m\u001b[0m\u001b[0m\n\u001b[1;32m    153\u001b[0m                             \u001b[1;34m' but got array with shape '\u001b[0m \u001b[1;33m+\u001b[0m\u001b[1;33m\u001b[0m\u001b[0m\n\u001b[0;32m--> 154\u001b[0;31m                             str(array.shape))\n\u001b[0m\u001b[1;32m    155\u001b[0m     \u001b[1;32mreturn\u001b[0m \u001b[0marrays\u001b[0m\u001b[1;33m\u001b[0m\u001b[0m\n\u001b[1;32m    156\u001b[0m \u001b[1;33m\u001b[0m\u001b[0m\n",
      "\u001b[0;31mValueError\u001b[0m: Error when checking target: expected activation_14 to have shape (None, 2) but got array with shape (79497, 1)"
     ]
    }
   ],
   "source": [
    "model.fit(X_train, \n",
    "          Y_train, \n",
    "          nb_epoch=5, \n",
    "          batch_size = 128, \n",
    "          verbose=1, \n",
    "          validation_split=0.1)\n",
    "score = model.evaluate(X_test, Y_test, batch_size=128)\n",
    "print( score)"
   ]
  },
  {
   "cell_type": "code",
   "execution_count": 87,
   "metadata": {
    "ExecuteTime": {
     "end_time": "2018-03-04T22:33:14.872758Z",
     "start_time": "2018-03-04T22:33:14.834156Z"
    },
    "collapsed": true
   },
   "outputs": [],
   "source": [
    "import numpy as np\n",
    "import keras\n",
    "from keras.models import Sequential\n",
    "from keras.layers import Dense, Dropout, Flatten\n",
    "from keras.layers import Conv2D, MaxPooling2D\n",
    "from keras.optimizers import SGD\n",
    "from keras.models import Sequential\n",
    "from keras.layers import Dense, Dropout\n",
    "from keras.layers import Embedding\n",
    "from keras.layers import Conv1D, GlobalAveragePooling1D, MaxPooling1D\n",
    "\n",
    "# Generate dummy data\n",
    "x_train = np.random.random((100, 100, 3))\n",
    "y_train = keras.utils.to_categorical(np.random.randint(10, size=(100, 1)), num_classes=10)\n",
    "x_test = np.random.random((20, 100, 3))\n",
    "y_test = keras.utils.to_categorical(np.random.randint(10, size=(20, 1)), num_classes=10)\n",
    "\n",
    "seq_length = 100"
   ]
  },
  {
   "cell_type": "code",
   "execution_count": 90,
   "metadata": {
    "ExecuteTime": {
     "end_time": "2018-03-04T22:34:00.982135Z",
     "start_time": "2018-03-04T22:34:00.966535Z"
    },
    "collapsed": false
   },
   "outputs": [
    {
     "data": {
      "text/plain": [
       "(100, 10)"
      ]
     },
     "execution_count": 90,
     "metadata": {},
     "output_type": "execute_result"
    }
   ],
   "source": [
    "y_train.shape"
   ]
  },
  {
   "cell_type": "code",
   "execution_count": 88,
   "metadata": {
    "ExecuteTime": {
     "end_time": "2018-03-04T22:33:16.795247Z",
     "start_time": "2018-03-04T22:33:16.006210Z"
    },
    "collapsed": false
   },
   "outputs": [
    {
     "ename": "ValueError",
     "evalue": "Error when checking input: expected conv1d_23_input to have shape (None, 100, 100) but got array with shape (100, 100, 3)",
     "output_type": "error",
     "traceback": [
      "\u001b[0;31m---------------------------------------------------------------------------\u001b[0m",
      "\u001b[0;31mValueError\u001b[0m                                Traceback (most recent call last)",
      "\u001b[0;32m<ipython-input-88-197e759a75e3>\u001b[0m in \u001b[0;36m<module>\u001b[0;34m()\u001b[0m\n\u001b[1;32m     13\u001b[0m               metrics=['accuracy'])\n\u001b[1;32m     14\u001b[0m \u001b[1;33m\u001b[0m\u001b[0m\n\u001b[0;32m---> 15\u001b[0;31m \u001b[0mmodel\u001b[0m\u001b[1;33m.\u001b[0m\u001b[0mfit\u001b[0m\u001b[1;33m(\u001b[0m\u001b[0mx_train\u001b[0m\u001b[1;33m,\u001b[0m \u001b[0my_train\u001b[0m\u001b[1;33m,\u001b[0m \u001b[0mbatch_size\u001b[0m\u001b[1;33m=\u001b[0m\u001b[1;36m16\u001b[0m\u001b[1;33m,\u001b[0m \u001b[0mepochs\u001b[0m\u001b[1;33m=\u001b[0m\u001b[1;36m10\u001b[0m\u001b[1;33m)\u001b[0m\u001b[1;33m\u001b[0m\u001b[0m\n\u001b[0m\u001b[1;32m     16\u001b[0m \u001b[0mscore\u001b[0m \u001b[1;33m=\u001b[0m \u001b[0mmodel\u001b[0m\u001b[1;33m.\u001b[0m\u001b[0mevaluate\u001b[0m\u001b[1;33m(\u001b[0m\u001b[0mx_test\u001b[0m\u001b[1;33m,\u001b[0m \u001b[0my_test\u001b[0m\u001b[1;33m,\u001b[0m \u001b[0mbatch_size\u001b[0m\u001b[1;33m=\u001b[0m\u001b[1;36m16\u001b[0m\u001b[1;33m)\u001b[0m\u001b[1;33m\u001b[0m\u001b[0m\n",
      "\u001b[0;32mC:\\ProgramData\\Anaconda3\\lib\\site-packages\\keras\\models.py\u001b[0m in \u001b[0;36mfit\u001b[0;34m(self, x, y, batch_size, epochs, verbose, callbacks, validation_split, validation_data, shuffle, class_weight, sample_weight, initial_epoch, **kwargs)\u001b[0m\n\u001b[1;32m    891\u001b[0m                               \u001b[0mclass_weight\u001b[0m\u001b[1;33m=\u001b[0m\u001b[0mclass_weight\u001b[0m\u001b[1;33m,\u001b[0m\u001b[1;33m\u001b[0m\u001b[0m\n\u001b[1;32m    892\u001b[0m                               \u001b[0msample_weight\u001b[0m\u001b[1;33m=\u001b[0m\u001b[0msample_weight\u001b[0m\u001b[1;33m,\u001b[0m\u001b[1;33m\u001b[0m\u001b[0m\n\u001b[0;32m--> 893\u001b[0;31m                               initial_epoch=initial_epoch)\n\u001b[0m\u001b[1;32m    894\u001b[0m \u001b[1;33m\u001b[0m\u001b[0m\n\u001b[1;32m    895\u001b[0m     def evaluate(self, x, y, batch_size=32, verbose=1,\n",
      "\u001b[0;32mC:\\ProgramData\\Anaconda3\\lib\\site-packages\\keras\\engine\\training.py\u001b[0m in \u001b[0;36mfit\u001b[0;34m(self, x, y, batch_size, epochs, verbose, callbacks, validation_split, validation_data, shuffle, class_weight, sample_weight, initial_epoch, steps_per_epoch, validation_steps, **kwargs)\u001b[0m\n\u001b[1;32m   1553\u001b[0m             \u001b[0mclass_weight\u001b[0m\u001b[1;33m=\u001b[0m\u001b[0mclass_weight\u001b[0m\u001b[1;33m,\u001b[0m\u001b[1;33m\u001b[0m\u001b[0m\n\u001b[1;32m   1554\u001b[0m             \u001b[0mcheck_batch_axis\u001b[0m\u001b[1;33m=\u001b[0m\u001b[1;32mFalse\u001b[0m\u001b[1;33m,\u001b[0m\u001b[1;33m\u001b[0m\u001b[0m\n\u001b[0;32m-> 1555\u001b[0;31m             batch_size=batch_size)\n\u001b[0m\u001b[1;32m   1556\u001b[0m         \u001b[1;31m# Prepare validation data.\u001b[0m\u001b[1;33m\u001b[0m\u001b[1;33m\u001b[0m\u001b[0m\n\u001b[1;32m   1557\u001b[0m         \u001b[0mdo_validation\u001b[0m \u001b[1;33m=\u001b[0m \u001b[1;32mFalse\u001b[0m\u001b[1;33m\u001b[0m\u001b[0m\n",
      "\u001b[0;32mC:\\ProgramData\\Anaconda3\\lib\\site-packages\\keras\\engine\\training.py\u001b[0m in \u001b[0;36m_standardize_user_data\u001b[0;34m(self, x, y, sample_weight, class_weight, check_batch_axis, batch_size)\u001b[0m\n\u001b[1;32m   1407\u001b[0m                                     \u001b[0mself\u001b[0m\u001b[1;33m.\u001b[0m\u001b[0m_feed_input_shapes\u001b[0m\u001b[1;33m,\u001b[0m\u001b[1;33m\u001b[0m\u001b[0m\n\u001b[1;32m   1408\u001b[0m                                     \u001b[0mcheck_batch_axis\u001b[0m\u001b[1;33m=\u001b[0m\u001b[1;32mFalse\u001b[0m\u001b[1;33m,\u001b[0m\u001b[1;33m\u001b[0m\u001b[0m\n\u001b[0;32m-> 1409\u001b[0;31m                                     exception_prefix='input')\n\u001b[0m\u001b[1;32m   1410\u001b[0m         y = _standardize_input_data(y, self._feed_output_names,\n\u001b[1;32m   1411\u001b[0m                                     \u001b[0moutput_shapes\u001b[0m\u001b[1;33m,\u001b[0m\u001b[1;33m\u001b[0m\u001b[0m\n",
      "\u001b[0;32mC:\\ProgramData\\Anaconda3\\lib\\site-packages\\keras\\engine\\training.py\u001b[0m in \u001b[0;36m_standardize_input_data\u001b[0;34m(data, names, shapes, check_batch_axis, exception_prefix)\u001b[0m\n\u001b[1;32m    152\u001b[0m                             \u001b[1;34m' to have shape '\u001b[0m \u001b[1;33m+\u001b[0m \u001b[0mstr\u001b[0m\u001b[1;33m(\u001b[0m\u001b[0mshapes\u001b[0m\u001b[1;33m[\u001b[0m\u001b[0mi\u001b[0m\u001b[1;33m]\u001b[0m\u001b[1;33m)\u001b[0m \u001b[1;33m+\u001b[0m\u001b[1;33m\u001b[0m\u001b[0m\n\u001b[1;32m    153\u001b[0m                             \u001b[1;34m' but got array with shape '\u001b[0m \u001b[1;33m+\u001b[0m\u001b[1;33m\u001b[0m\u001b[0m\n\u001b[0;32m--> 154\u001b[0;31m                             str(array.shape))\n\u001b[0m\u001b[1;32m    155\u001b[0m     \u001b[1;32mreturn\u001b[0m \u001b[0marrays\u001b[0m\u001b[1;33m\u001b[0m\u001b[0m\n\u001b[1;32m    156\u001b[0m \u001b[1;33m\u001b[0m\u001b[0m\n",
      "\u001b[0;31mValueError\u001b[0m: Error when checking input: expected conv1d_23_input to have shape (None, 100, 100) but got array with shape (100, 100, 3)"
     ]
    }
   ],
   "source": [
    "model = Sequential()\n",
    "model.add(Conv1D(64, 3, activation='relu', input_shape=(seq_length, 100)))\n",
    "model.add(Conv1D(64, 3, activation='relu'))\n",
    "model.add(MaxPooling1D(3))\n",
    "model.add(Conv1D(128, 3, activation='relu'))\n",
    "model.add(Conv1D(128, 3, activation='relu'))\n",
    "model.add(GlobalAveragePooling1D())\n",
    "model.add(Dropout(0.5))\n",
    "model.add(Dense(1, activation='sigmoid'))\n",
    "\n",
    "model.compile(loss='binary_crossentropy',\n",
    "              optimizer='rmsprop',\n",
    "              metrics=['accuracy'])\n",
    "\n",
    "model.fit(x_train, y_train, batch_size=16, epochs=10)\n",
    "score = model.evaluate(x_test, y_test, batch_size=16)"
   ]
  },
  {
   "cell_type": "code",
   "execution_count": 2,
   "metadata": {
    "ExecuteTime": {
     "end_time": "2018-03-06T21:54:10.421623Z",
     "start_time": "2018-03-06T21:54:01.652217Z"
    },
    "collapsed": false
   },
   "outputs": [
    {
     "name": "stderr",
     "output_type": "stream",
     "text": [
      "Using TensorFlow backend.\n"
     ]
    }
   ],
   "source": [
    "from keras.models import Sequential\n",
    "from keras.layers import LSTM, Dense\n",
    "import numpy as np"
   ]
  },
  {
   "cell_type": "code",
   "execution_count": 3,
   "metadata": {
    "ExecuteTime": {
     "end_time": "2018-03-06T21:54:10.458625Z",
     "start_time": "2018-03-06T21:54:10.429624Z"
    },
    "collapsed": true
   },
   "outputs": [],
   "source": [
    "data_dim = 16\n",
    "timesteps = 8\n",
    "num_classes = 10"
   ]
  },
  {
   "cell_type": "code",
   "execution_count": 4,
   "metadata": {
    "ExecuteTime": {
     "end_time": "2018-03-06T21:54:17.251246Z",
     "start_time": "2018-03-06T21:54:14.120546Z"
    },
    "collapsed": true
   },
   "outputs": [],
   "source": [
    "# expected input data shape: (batch_size, timesteps, data_dim)\n",
    "model = Sequential()\n",
    "model.add(LSTM(32, return_sequences=True,\n",
    "               input_shape=(timesteps, data_dim)))  # returns a sequence of vectors of dimension 32\n",
    "model.add(LSTM(32, return_sequences=True))  # returns a sequence of vectors of dimension 32\n",
    "model.add(LSTM(32))  # return a single vector of dimension 32\n",
    "model.add(Dense(10, activation='softmax'))\n",
    "\n",
    "model.compile(loss='categorical_crossentropy',\n",
    "              optimizer='rmsprop',\n",
    "              metrics=['accuracy'])"
   ]
  },
  {
   "cell_type": "code",
   "execution_count": 5,
   "metadata": {
    "ExecuteTime": {
     "end_time": "2018-03-06T21:54:20.445760Z",
     "start_time": "2018-03-06T21:54:20.422160Z"
    },
    "collapsed": true
   },
   "outputs": [],
   "source": [
    "# Generate dummy training data\n",
    "x_train = np.random.random((1000, timesteps, data_dim))\n",
    "y_train = np.random.random((1000, num_classes))\n",
    "\n",
    "# Generate dummy validation data\n",
    "x_val = np.random.random((100, timesteps, data_dim))\n",
    "y_val = np.random.random((100, num_classes))"
   ]
  },
  {
   "cell_type": "code",
   "execution_count": 11,
   "metadata": {
    "ExecuteTime": {
     "end_time": "2018-03-06T21:57:07.826112Z",
     "start_time": "2018-03-06T21:57:07.799511Z"
    },
    "collapsed": false
   },
   "outputs": [
    {
     "name": "stdout",
     "output_type": "stream",
     "text": [
      "(1000, 8, 16) (1000, 10)\n"
     ]
    },
    {
     "data": {
      "text/plain": [
       "array([[ 0.14675335,  0.21612542,  0.34720199,  0.49703416,  0.87481557,\n",
       "         0.99670648,  0.58412686,  0.62028556,  0.16236316,  0.35568692,\n",
       "         0.57818563,  0.75131802,  0.50571923,  0.34361128,  0.0352589 ,\n",
       "         0.71907537],\n",
       "       [ 0.74037026,  0.47069345,  0.62109021,  0.96350457,  0.06074478,\n",
       "         0.4275972 ,  0.25239499,  0.10972094,  0.34449708,  0.96445658,\n",
       "         0.69342297,  0.52981179,  0.50831871,  0.68188784,  0.06831177,\n",
       "         0.3612039 ],\n",
       "       [ 0.35364487,  0.91657684,  0.56323864,  0.45371951,  0.82228939,\n",
       "         0.66349695,  0.54671008,  0.34291517,  0.21369173,  0.06813416,\n",
       "         0.21194305,  0.6986253 ,  0.11086936,  0.55966161,  0.39549891,\n",
       "         0.5210541 ],\n",
       "       [ 0.35867017,  0.58974124,  0.93793504,  0.92970642,  0.45902919,\n",
       "         0.07575488,  0.40636904,  0.03905426,  0.98732955,  0.70012055,\n",
       "         0.96034439,  0.50123619,  0.3602934 ,  0.43192912,  0.79142514,\n",
       "         0.3221944 ],\n",
       "       [ 0.97806731,  0.45292433,  0.84539071,  0.43877093,  0.70311859,\n",
       "         0.48073529,  0.7403388 ,  0.02454544,  0.36006179,  0.73866237,\n",
       "         0.13567603,  0.39172628,  0.72848984,  0.04586387,  0.20214038,\n",
       "         0.72751504],\n",
       "       [ 0.92666509,  0.9580853 ,  0.42130427,  0.74777803,  0.93306988,\n",
       "         0.10928686,  0.03508676,  0.40171937,  0.49089961,  0.01214024,\n",
       "         0.13945034,  0.5258942 ,  0.79408722,  0.19706061,  0.46422178,\n",
       "         0.5210958 ],\n",
       "       [ 0.85364515,  0.88181415,  0.91264792,  0.51815017,  0.32126915,\n",
       "         0.6429367 ,  0.22005052,  0.19965226,  0.53241856,  0.71405749,\n",
       "         0.56112123,  0.4722269 ,  0.50755831,  0.5440419 ,  0.88688212,\n",
       "         0.50887874],\n",
       "       [ 0.31076226,  0.39845415,  0.10720727,  0.75537233,  0.44319864,\n",
       "         0.48804014,  0.02092418,  0.30562328,  0.628156  ,  0.35306274,\n",
       "         0.44515868,  0.97702139,  0.76898675,  0.77072308,  0.98676589,\n",
       "         0.39219592]])"
      ]
     },
     "execution_count": 11,
     "metadata": {},
     "output_type": "execute_result"
    }
   ],
   "source": [
    "print(x_train.shape, y_train.shape)\n",
    "x_train[0,:,:]"
   ]
  },
  {
   "cell_type": "code",
   "execution_count": 13,
   "metadata": {
    "ExecuteTime": {
     "end_time": "2018-03-06T21:57:38.308950Z",
     "start_time": "2018-03-06T21:57:38.284349Z"
    },
    "collapsed": false
   },
   "outputs": [
    {
     "data": {
      "text/plain": [
       "array([[ 0.19536941,  0.63141399,  0.31124566,  0.85042309,  0.0791793 ,\n",
       "         0.07092348,  0.81630142,  0.48410194,  0.50270833,  0.2484653 ,\n",
       "         0.05968927,  0.82442585,  0.00857208,  0.74313462,  0.52323336,\n",
       "         0.7206905 ],\n",
       "       [ 0.95933303,  0.74432674,  0.65098264,  0.4242433 ,  0.77788084,\n",
       "         0.05227335,  0.02913989,  0.45521832,  0.63782453,  0.50779621,\n",
       "         0.55265271,  0.70608158,  0.05971332,  0.20434997,  0.63455921,\n",
       "         0.39061639],\n",
       "       [ 0.65657617,  0.22469732,  0.53654187,  0.59715859,  0.6483383 ,\n",
       "         0.25332549,  0.48555058,  0.68734649,  0.15956979,  0.03665417,\n",
       "         0.65988223,  0.54822845,  0.86387564,  0.89352023,  0.16537229,\n",
       "         0.68018319],\n",
       "       [ 0.42227262,  0.73139504,  0.40290637,  0.64185735,  0.34015589,\n",
       "         0.37878837,  0.37899242,  0.90115858,  0.73000436,  0.46312818,\n",
       "         0.05998522,  0.85555036,  0.36528831,  0.31680515,  0.2704995 ,\n",
       "         0.28951411],\n",
       "       [ 0.91179107,  0.9180386 ,  0.79115064,  0.29262623,  0.52763712,\n",
       "         0.68147461,  0.59411748,  0.33205444,  0.2902537 ,  0.13858079,\n",
       "         0.36152904,  0.36502879,  0.61435524,  0.62349461,  0.9211143 ,\n",
       "         0.83790147],\n",
       "       [ 0.18796967,  0.71191546,  0.06768846,  0.58440981,  0.9057808 ,\n",
       "         0.12255744,  0.51924136,  0.57782063,  0.46288299,  0.07528718,\n",
       "         0.47706152,  0.80120453,  0.38492851,  0.47359876,  0.070178  ,\n",
       "         0.34316226],\n",
       "       [ 0.03199902,  0.77363459,  0.07520475,  0.48870423,  0.84741431,\n",
       "         0.57224186,  0.24513257,  0.17964983,  0.35536841,  0.32865155,\n",
       "         0.67251525,  0.20470921,  0.87033333,  0.34963042,  0.19888237,\n",
       "         0.36021882],\n",
       "       [ 0.48736143,  0.88270178,  0.54305152,  0.09759462,  0.60749776,\n",
       "         0.63312724,  0.3767814 ,  0.13717567,  0.50299451,  0.10801019,\n",
       "         0.80181574,  0.1408855 ,  0.9903759 ,  0.28784258,  0.8073902 ,\n",
       "         0.94196055]])"
      ]
     },
     "execution_count": 13,
     "metadata": {},
     "output_type": "execute_result"
    }
   ],
   "source": [
    "x_train[1,:,:]"
   ]
  },
  {
   "cell_type": "code",
   "execution_count": 14,
   "metadata": {
    "ExecuteTime": {
     "end_time": "2018-03-06T22:03:39.398348Z",
     "start_time": "2018-03-06T21:58:01.081184Z"
    },
    "collapsed": false
   },
   "outputs": [
    {
     "name": "stdout",
     "output_type": "stream",
     "text": [
      "Train on 1000 samples, validate on 100 samples\n",
      "Epoch 1/5\n",
      "1000/1000 [==============================] - 320s 320ms/step - loss: 11.5680 - acc: 0.1020 - val_loss: 11.3426 - val_acc: 0.1000\b\b\b\b\b\b\b\b\b\b\b\b\b\b\b\b\b\b\b\b\b\b\b\b\b\b\b\b\b\b\b\b\b\b\b\b\b\b\b\b\b\b\b\b\b\b\b\b\b\b\b\b\b\b\b\b\b\b\b\b\b\b\b\b\b\b\b\b\b\b\b\b\b\b\b\b\b\b\b\b\b\b\b\b\b\b\b\b\b\b\b\b\b\b\b\b\b\b\b\b\b\b\b\b\b\b\b\b\b\b\b\b\b\b\b\b\b\b\b\b\b\b\b\b\b\b\b\b\b\b\b\b\b\b\b\b\b\b\b\b\b\b\b\b\b\b\b\b\b\b\b\b\b\b\b\b\b\b\b\b\b\b\b\b\b\b\b\b\b\b\b\b\b\b\b\b\b\b\b\b\b\b\b\b\b\b\b\b\b\b\b\b\b\b\b\b\b\b\b\b\b\b\b\b\b\b\b\b\b\b\b\b\b\b\b\b\b\b\b\b\b\b\b\b\b\b\b\b\b\b\b\b\b\b\b\b\b\b\b\b\b\b\b\b\b\b\b\b\b\b\b\b\b\b\b\b\b\b\b\b\b\b\b\b\b\b\b\b\b\b\b\b\b\b\b\b\b\b\b\b\b\b\b\b\b\b\b\b\b\b\b\b\b\b\b\b\b\b\b\b\b\b\b\b\b\b\b\b\b\b\b\b\b\b\b\b\b\b\b\b\b\b\b\b\b\b\b\b\b\b\b\b\b\b\b\b\b\b\b\b\b\b\b\b\b\b\b\b\b\b\b\b\b\b\b\b\b\b\b\b\b\b\b\b\b\b\b\b\b\b\b\b\b\b\b\b\b\b\b\b\b\b\b\b\b\b\b\b\b\b\b\b\b\b\b\b\b\b\b\b\b\b\b\b\b\b\b\b\b\b\b\b\b\b\b\b\b\b\b\b\b\b\b\b\b\b\b\b\b\b\b\b\b\b\b\b\b\b\b\b\b\b\b\b\b\b\b\b\b\b\b\b\b\b\b\b\b\b\b\b\b\b\b\b\b\b\b\b\b\b\b\b\b\b\b\b\b\b\b\b\b\b\b\b\b\b\b\b\b\b\b\b\b\b\b\b\b\b\b\b\b\b\b\b\b\b\b\b\b\b\b\b\b\b\b\b\b\b\b\b\b\b\b\b\b\b\b\b\b\b\b\b\b\b\b\b\b\b\b\b\b\b\b\b\b\b\b\b\b\b\b\b\b\b\b\b\b\b\b\b\b\b\b\b\b\b\b\b\b\b\b\b\b\b\b\b\b\b\b\b\b\b\b\b\b\b\b\b\b\b\b\b\b\b\b\b\b\b\b\b\b\b\b\b\b\b\b\b\b\b\b\b\b\b\b\b\b\b\b\b\b\b\b\b\b\b\b\b\b\b\b\b\b\b\b\b\b\b\b\b\b\b\b\b\b\b\b\b\b\b\b\b\b\b\b\b\b\b\b\b\b\b\b\b\b\b\b\b\b\b\b\b\b\b\b\b\b\b\b\b\b\b\b\b\b\b\b\b\b\b\b\b\b\b\b\b\b\b\b\b\b\b\b\b\b\b\b\b\b\b\b\b\b\b\b\b\b\b\b\b\b\b\b\b\b\b\b\b\b\b\b\b\b\b\b\b\b\b\b\b\b\b\b\b\b\b\b\b\b\b\b\b\b\b\b\b\b\b\b\b\b\b\b\b\b\b\b\b\b\b\b\b\b\b\b\b\b\b\b\b\b\b\b\b\b\b\b\b\b\b\b\b\b\b\b\b\b\b\b\b\b\b\b\b\b\b\b\b\b\b\b\b\b\b\b\b\b\b\b\b\b\b\b\b\b\b\b\b\b\b\b\b\b\b\b\b\b\b\b\b\b\b\b\b\b\b\b\b\b\b\b\b\b\b\b\b\b\b\b\b\b\b\b\b\b\b\b\b\b\b\b\b\b\b\b\b\b\b\b\b\b\b\b\b\b\b\b\b\b\b\b\b\b\b\b\b\b\b\b\b\b\b\b\b\b\b\b\b\b\b\b\b\b\b\b\b\b\b\b\b\b\b\b\b\b\b\b\b\b\b\b\b\b\b\b\b\b\b\b\b\b\b\b\b\b\b\b\b\b\b\b\b\b\b\b\b\b\b\b\b\b\b\b\b\b\b\b\b\b\b\b\b\b\b\b\b\b\b\b\b\b\b\b\b\b\b\b\b\b\b\b\b\b\b\b\b\b\b\b\b\b\b\b\b\b\b\b\b\b\b\b\b\b\b\b\b\b\b\b\b\b\b\b\b\b\b\b\b\b\b\b\b\b\b\b\b\b\b\b\b\b\b\b\b\b\b\b\b\b\b\b\b\b\b\b\b\b\b\b\b\b\b\b\b\b\b\b\b\b\b\b\b\b\b\b\b\b\b\b\b\b\b\b\b\b\b\b\b\b\b\b\b\b\b\b\b\b\b\b\b\b\b\b\b\b\b\b\b\b\b\b\b\b\b\b\b\b\b\b\b\b\b\b\b\b\b\b\b\b\b\b\b\b\b\b\b\b\b\b\b\b\b\b\b\b\b\b\b\b\b\b\b\b\b\b\b\b\b\b\b\b\b\b\b\b\b\b\b\b\b\b\b\b\b\b\b\b\b\b\b\b\b\b\b\b\b\b\b\b\b\b\b\b\b\b\b\b\b\b\b\b\b\b\b\b\b\b\b\b\b\b\b\b\b\b\b\b\b\b\b\b\b\b\b\n",
      "Epoch 2/5\n",
      "1000/1000 [==============================] - 3s 3ms/step - loss: 11.5664 - acc: 0.1160 - val_loss: 11.3390 - val_acc: 0.0800\b\b\b\b\b\b\b\b\b\b\b\b\b\b\b\b\b\b\b\b\b\b\b\b\b\b\b\b\b\b\b\b\b\b\b\b\b\b\b\b\b\b\b\b\b\b\b\b\b\b\b\b\b\b\b\b\b\b\b\b\b\b\b\b\b\b\b\b\b\b\b\b\b\b\b\b\b\b\b\b\b\b\b\b\b\b\b\b\b\b\b\b\b\b\b\b\b\b\b\b\b\b\b\b\b\b\b\b\b\b\b\b\b\b\b\b\b\b\b\b\b\b\b\b\b\b\b\b\b\b\b\b\b\b\b\b\b\b\b\b\b\b\b\b\b\b\b\b\b\b\b\b\b\b\b\b\b\b\b\b\b\b\b\b\b\b\b\b\b\b\b\b\b\b\b\b\b\b\b\b\b\b\b\b\b\b\b\b\b\b\b\b\b\b\b\b\b\b\b\b\b\b\b\b\b\b\b\b\b\b\b\b\b\b\b\b\b\b\b\b\b\b\b\b\b\b\b\b\b\b\b\b\b\b\b\b\b\b\b\b\b\b\b\b\b\b\b\b\b\b\b\b\b\b\b\b\b\b\b\b\b\b\b\b\b\b\b\b\b\b\b\b\b\b\b\b\b\b\b\b\b\b\b\b\b\b\b\b\b\b\b\b\b\b\b\b\b\b\b\b\b\b\b\b\b\b\b\b\b\b\b\b\b\b\b\b\b\b\b\b\b\b\b\b\b\b\b\b\b\b\b\b\b\b\b\b\b\b\b\b\b\b\b\b\b\b\b\b\b\b\b\b\b\b\b\b\b\b\b\b\b\b\b\b\b\b\b\b\b\b\b\b\b\b\b\b\b\b\b\b\b\b\b\b\b\b\b\b\b\b\b\b\b\b\b\b\b\b\b\b\b\b\b\b\b\b\b\b\b\b\b\b\b\b\b\b\b\b\b\b\b\b\b\b\b\b\b\b\b\b\b\b\b\b\b\b\b\b\b\b\b\b\b\b\b\b\b\b\b\b\b\b\b\b\b\b\b\b\b\b\b\b\b\b\b\b\b\b\b\b\b\b\b\b\b\b\b\b\b\b\b\b\b\b\b\b\b\b\b\b\b\b\b\b\b\b\b\b\b\b\b\b\b\b\b\b\b\b\b\b\b\b\b\b\b\b\b\b\b\b\b\b\b\b\b\b\b\b\b\b\b\b\b\b\b\b\b\b\b\b\b\b\b\b\b\b\b\b\b\b\b\b\b\b\b\b\b\b\b\b\b\b\b\b\b\b\b\b\b\b\b\b\b\b\b\b\b\b\b\b\b\b\b\b\b\b\b\b\b\b\b\b\b\b\b\b\b\b\b\b\b\b\b\b\b\b\b\b\b\b\b\b\b\b\b\b\b\b\b\b\b\b\b\b\b\b\b\b\b\b\b\b\b\b\b\b\b\b\b\b\b\b\b\b\b\b\b\b\b\b\b\b\b\b\b\b\b\b\b\b\b\b\b\b\b\b\b\b\b\b\b\b\b\b\b\b\b\b\b\b\b\b\b\b\b\b\b\b\b\b\b\b\b\b\b\b\b\b\b\b\b\b\b\b\b\b\b\b\b\b\b\b\b\b\b\b\b\b\b\b\b\b\b\b\b\b\b\b\b\b\b\b\b\b\b\b\b\b\b\b\b\b\b\b\b\b\b\b\b\b\b\b\b\b\b\b\b\b\b\b\b\b\b\b\b\b\b\b\b\b\b\b\b\b\b\b\b\b\b\b\b\b\b\b\b\b\b\b\b\b\b\b\b\b\b\b\b\b\b\b\b\b\b\b\b\b\b\b\b\b\b\b\b\b\b\b\b\b\b\b\b\b\b\b\b\b\b\b\b\b\b\b\b\b\b\b\b\b\b\b\b\b\b\b\b\b\b\b\b\b\b\b\b\b\b\b\b\b\b\b\b\b\b\b\b\b\b\b\b\b\b\b\b\b\b\b\b\b\b\b\b\b\b\b\b\b\b\b\b\b\b\b\b\b\b\b\b\b\b\b\b\b\b\b\b\b\b\b\b\b\b\b\b\b\b\b\b\b\b\b\b\b\b\b\b\b\b\b\b\b\b\b\b\b\b\b\b\b\b\b\b\b\b\b\b\b\b\b\b\b\b\b\b\b\b\b\b\b\b\b\b\b\b\b\b\b\b\b\b\b\b\b\b\b\b\b\b\b\b\b\b\b\b\b\b\b\b\b\b\b\b\b\b\b\b\b\b\b\b\b\b\b\b\b\b\b\b\b\b\b\b\b\b\b\b\b\b\b\b\b\b\b\b\b\b\b\b\b\b\b\b\b\b\b\b\b\b\b\b\b\b\b\b\b\b\b\b\b\b\b\b\b\b\b\b\b\b\b\b\b\b\b\b\b\b\b\b\b\b\b\b\b\b\b\b\b\b\b\b\b\b\b\b\b\b\b\b\b\b\b\b\b\b\b\b\b\b\b\b\b\b\b\b\b\b\b\b\b\b\b\b\b\b\b\b\b\b\b\b\b\b\b\b\b\b\b\b\b\b\b\b\b\b\b\b\b\b\b\b\b\b\b\b\b\b\b\b\b\b\b\b\b\b\b\b\b\b\b\b\b\b\b\b\b\b\b\b\b\b\b\b\b\b\b\b\b\b\b\b\b\b\b\b\b\b\b\b\b\n",
      "Epoch 3/5\n",
      "1000/1000 [==============================] - 2s 2ms/step - loss: 11.5655 - acc: 0.1080 - val_loss: 11.3382 - val_acc: 0.0900\b\b\b\b\b\b\b\b\b\b\b\b\b\b\b\b\b\b\b\b\b\b\b\b\b\b\b\b\b\b\b\b\b\b\b\b\b\b\b\b\b\b\b\b\b\b\b\b\b\b\b\b\b\b\b\b\b\b\b\b\b\b\b\b\b\b\b\b\b\b\b\b\b\b\b\b\b\b\b\b\b\b\b\b\b\b\b\b\b\b\b\b\b\b\b\b\b\b\b\b\b\b\b\b\b\b\b\b\b\b\b\b\b\b\b\b\b\b\b\b\b\b\b\b\b\b\b\b\b\b\b\b\b\b\b\b\b\b\b\b\b\b\b\b\b\b\b\b\b\b\b\b\b\b\b\b\b\b\b\b\b\b\b\b\b\b\b\b\b\b\b\b\b\b\b\b\b\b\b\b\b\b\b\b\b\b\b\b\b\b\b\b\b\b\b\b\b\b\b\b\b\b\b\b\b\b\b\b\b\b\b\b\b\b\b\b\b\b\b\b\b\b\b\b\b\b\b\b\b\b\b\b\b\b\b\b\b\b\b\b\b\b\b\b\b\b\b\b\b\b\b\b\b\b\b\b\b\b\b\b\b\b\b\b\b\b\b\b\b\b\b\b\b\b\b\b\b\b\b\b\b\b\b\b\b\b\b\b\b\b\b\b\b\b\b\b\b\b\b\b\b\b\b\b\b\b\b\b\b\b\b\b\b\b\b\b\b\b\b\b\b\b\b\b\b\b\b\b\b\b\b\b\b\b\b\b\b\b\b\b\b\b\b\b\b\b\b\b\b\b\b\b\b\b\b\b\b\b\b\b\b\b\b\b\b\b\b\b\b\b\b\b\b\b\b\b\b\b\b\b\b\b\b\b\b\b\b\b\b\b\b\b\b\b\b\b\b\b\b\b\b\b\b\b\b\b\b\b\b\b\b\b\b\b\b\b\b\b\b\b\b\b\b\b\b\b\b\b\b\b\b\b\b\b\b\b\b\b\b\b\b\b\b\b\b\b\b\b\b\b\b\b\b\b\b\b\b\b\b\b\b\b\b\b\b\b\b\b\b\b\b\b\b\b\b\b\b\b\b\b\b\b\b\b\b\b\b\b\b\b\b\b\b\b\b\b\b\b\b\b\b\b\b\b\b\b\b\b\b\b\b\b\b\b\b\b\b\b\b\b\b\b\b\b\b\b\b\b\b\b\b\b\b\b\b\b\b\b\b\b\b\b\b\b\b\b\b\b\b\b\b\b\b\b\b\b\b\b\b\b\b\b\b\b\b\b\b\b\b\b\b\b\b\b\b\b\b\b\b\b\b\b\b\b\b\b\b\b\b\b\b\b\b\b\b\b\b\b\b\b\b\b\b\b\b\b\b\b\b\b\b\b\b\b\b\b\b\b\b\b\b\b\b\b\b\b\b\b\b\b\b\b\b\b\b\b\b\b\b\b\b\b\b\b\b\b\b\b\b\b\b\b\b\b\b\b\b\b\b\b\b\b\b\b\b\b\b\b\b\b\b\b\b\b\b\b\b\b\b\b\b\b\b\b\b\b\b\b\b\b\b\b\b\b\b\b\b\b\b\b\b\b\b\b\b\b\b\b\b\b\b\b\b\b\b\b\b\b\b\b\b\b\b\b\b\b\b\b\b\b\b\b\b\b\b\b\b\b\b\b\b\b\b\b\b\b\b\b\b\b\b\b\b\b\b\b\b\b\b\b\b\b\b\b\b\b\b\b\b\b\b\b\b\b\b\b\b\b\b\b\b\b\b\b\b\b\b\b\b\b\b\b\b\b\b\b\b\b\b\b\b\b\b\b\b\b\b\b\b\b\b\b\b\b\b\b\b\b\b\b\b\b\b\b\b\b\b\b\b\b\b\b\b\b\b\b\b\b\b\b\b\b\b\b\b\b\b\b\b\b\b\b\b\b\b\b\b\b\b\b\b\b\b\b\b\b\b\b\b\b\b\b\b\b\b\b\b\b\b\b\b\b\b\b\b\b\b\b\b\b\b\b\b\b\b\b\b\b\b\b\b\b\b\b\b\b\b\b\b\b\b\b\b\b\b\b\b\b\b\b\b\b\b\b\b\b\b\b\b\b\b\b\b\b\b\b\b\b\b\b\b\b\b\b\b\b\b\b\b\b\b\b\b\b\b\b\b\b\b\b\b\b\b\b\b\b\b\b\b\b\b\b\b\b\b\b\b\b\b\b\b\b\b\b\b\b\b\b\b\b\b\b\b\b\b\b\b\b\b\b\b\b\b\b\b\b\b\b\b\b\b\b\b\b\b\b\b\b\b\b\b\b\b\b\b\b\b\b\b\b\b\b\b\b\b\b\b\b\b\b\b\b\b\b\b\b\b\b\b\b\b\b\b\b\b\b\b\b\b\b\b\b\b\b\b\b\b\b\b\b\b\b\b\b\b\b\b\b\b\b\b\b\b\b\b\b\b\b\b\b\b\b\b\b\b\b\b\b\b\b\b\b\b\b\b\b\b\b\b\b\b\b\b\b\b\b\b\b\b\b\b\b\b\b\b\b\b\b\b\b\b\b\b\b\b\b\b\b\b\b\b\b\b\b\b\b\b\b\b\b\b\b\b\b\b\b\b\b\b\b\b\b\b\b\b\b\b\b\b\b\b\b\b\b\b\b\b\b\b\b\b\b\b\b\b\b\b\b\n",
      "Epoch 4/5\n",
      "1000/1000 [==============================] - 2s 2ms/step - loss: 11.5651 - acc: 0.1150 - val_loss: 11.3380 - val_acc: 0.1400\b\b\b\b\b\b\b\b\b\b\b\b\b\b\b\b\b\b\b\b\b\b\b\b\b\b\b\b\b\b\b\b\b\b\b\b\b\b\b\b\b\b\b\b\b\b\b\b\b\b\b\b\b\b\b\b\b\b\b\b\b\b\b\b\b\b\b\b\b\b\b\b\b\b\b\b\b\b\b\b\b\b\b\b\b\b\b\b\b\b\b\b\b\b\b\b\b\b\b\b\b\b\b\b\b\b\b\b\b\b\b\b\b\b\b\b\b\b\b\b\b\b\b\b\b\b\b\b\b\b\b\b\b\b\b\b\b\b\b\b\b\b\b\b\b\b\b\b\b\b\b\b\b\b\b\b\b\b\b\b\b\b\b\b\b\b\b\b\b\b\b\b\b\b\b\b\b\b\b\b\b\b\b\b\b\b\b\b\b\b\b\b\b\b\b\b\b\b\b\b\b\b\b\b\b\b\b\b\b\b\b\b\b\b\b\b\b\b\b\b\b\b\b\b\b\b\b\b\b\b\b\b\b\b\b\b\b\b\b\b\b\b\b\b\b\b\b\b\b\b\b\b\b\b\b\b\b\b\b\b\b\b\b\b\b\b\b\b\b\b\b\b\b\b\b\b\b\b\b\b\b\b\b\b\b\b\b\b\b\b\b\b\b\b\b\b\b\b\b\b\b\b\b\b\b\b\b\b\b\b\b\b\b\b\b\b\b\b\b\b\b\b\b\b\b\b\b\b\b\b\b\b\b\b\b\b\b\b\b\b\b\b\b\b\b\b\b\b\b\b\b\b\b\b\b\b\b\b\b\b\b\b\b\b\b\b\b\b\b\b\b\b\b\b\b\b\b\b\b\b\b\b\b\b\b\b\b\b\b\b\b\b\b\b\b\b\b\b\b\b\b\b\b\b\b\b\b\b\b\b\b\b\b\b\b\b\b\b\b\b\b\b\b\b\b\b\b\b\b\b\b\b\b\b\b\b\b\b\b\b\b\b\b\b\b\b\b\b\b\b\b\b\b\b\b\b\b\b\b\b\b\b\b\b\b\b\b\b\b\b\b\b\b\b\b\b\b\b\b\b\b\b\b\b\b\b\b\b\b\b\b\b\b\b\b\b\b\b\b\b\b\b\b\b\b\b\b\b\b\b\b\b\b\b\b\b\b\b\b\b\b\b\b\b\b\b\b\b\b\b\b\b\b\b\b\b\b\b\b\b\b\b\b\b\b\b\b\b\b\b\b\b\b\b\b\b\b\b\b\b\b\b\b\b\b\b\b\b\b\b\b\b\b\b\b\b\b\b\b\b\b\b\b\b\b\b\b\b\b\b\b\b\b\b\b\b\b\b\b\b\b\b\b\b\b\b\b\b\b\b\b\b\b\b\b\b\b\b\b\b\b\b\b\b\b\b\b\b\b\b\b\b\b\b\b\b\b\b\b\b\b\b\b\b\b\b\b\b\b\b\b\b\b\b\b\b\b\b\b\b\b\b\b\b\b\b\b\b\b\b\b\b\b\b\b\b\b\b\b\b\b\b\b\b\b\b\b\b\b\b\b\b\b\b\b\b\b\b\b\b\b\b\b\b\b\b\b\b\b\b\b\b\b\b\b\b\b\b\b\b\b\b\b\b\b\b\b\b\b\b\b\b\b\b\b\b\b\b\b\b\b\b\b\b\b\b\b\b\b\b\b\b\b\b\b\b\b\b\b\b\b\b\b\b\b\b\b\b\b\b\b\b\b\b\b\b\b\b\b\b\b\b\b\b\b\b\b\b\b\b\b\b\b\b\b\b\b\b\b\b\b\b\b\b\b\b\b\b\b\b\b\b\b\b\b\b\b\b\b\b\b\b\b\b\b\b\b\b\b\b\b\b\b\b\b\b\b\b\b\b\b\b\b\b\b\b\b\b\b\b\b\b\b\b\b\b\b\b\b\b\b\b\b\b\b\b\b\b\b\b\b\b\b\b\b\b\b\b\b\b\b\b\b\b\b\b\b\b\b\b\b\b\b\b\b\b\b\b\b\b\b\b\b\b\b\b\b\b\b\b\b\b\b\b\b\b\b\b\b\b\b\b\b\b\b\b\b\b\b\b\b\b\b\b\b\b\b\b\b\b\b\b\b\b\b\b\b\b\b\b\b\b\b\b\b\b\b\b\b\b\b\b\b\b\b\b\b\b\b\b\b\b\b\b\b\b\b\b\b\b\b\b\b\b\b\b\b\b\b\b\b\b\b\b\b\b\b\b\b\b\b\b\b\b\b\b\b\b\b\b\b\b\b\b\b\b\b\b\b\b\b\b\b\b\b\b\b\b\b\b\b\b\b\b\b\b\b\b\b\b\b\b\b\b\b\b\b\b\b\b\b\b\b\b\b\b\b\b\b\b\b\b\b\b\b\b\b\b\b\b\b\b\b\b\b\b\b\b\b\b\b\b\b\b\b\b\b\b\b\b\b\b\b\b\b\b\b\b\b\b\b\b\b\b\b\b\b\b\b\b\b\b\b\b\b\b\b\b\b\b\b\b\b\b\b\b\b\b\b\b\b\b\b\b\b\b\b\b\b\b\b\b\b\b\b\b\b\b\b\b\b\b\b\b\b\b\b\b\b\b\b\b\b\b\b\b\b\b\b\b\b\b\b\b\b\b\b\b\b\b\b\b\b\b\b\b\b\b\n",
      "Epoch 5/5\n",
      "1000/1000 [==============================] - 2s 2ms/step - loss: 11.5650 - acc: 0.1110 - val_loss: 11.3383 - val_acc: 0.1300\b\b\b\b\b\b\b\b\b\b\b\b\b\b\b\b\b\b\b\b\b\b\b\b\b\b\b\b\b\b\b\b\b\b\b\b\b\b\b\b\b\b\b\b\b\b\b\b\b\b\b\b\b\b\b\b\b\b\b\b\b\b\b\b\b\b\b\b\b\b\b\b\b\b\b\b\b\b\b\b\b\b\b\b\b\b\b\b\b\b\b\b\b\b\b\b\b\b\b\b\b\b\b\b\b\b\b\b\b\b\b\b\b\b\b\b\b\b\b\b\b\b\b\b\b\b\b\b\b\b\b\b\b\b\b\b\b\b\b\b\b\b\b\b\b\b\b\b\b\b\b\b\b\b\b\b\b\b\b\b\b\b\b\b\b\b\b\b\b\b\b\b\b\b\b\b\b\b\b\b\b\b\b\b\b\b\b\b\b\b\b\b\b\b\b\b\b\b\b\b\b\b\b\b\b\b\b\b\b\b\b\b\b\b\b\b\b\b\b\b\b\b\b\b\b\b\b\b\b\b\b\b\b\b\b\b\b\b\b\b\b\b\b\b\b\b\b\b\b\b\b\b\b\b\b\b\b\b\b\b\b\b\b\b\b\b\b\b\b\b\b\b\b\b\b\b\b\b\b\b\b\b\b\b\b\b\b\b\b\b\b\b\b\b\b\b\b\b\b\b\b\b\b\b\b\b\b\b\b\b\b\b\b\b\b\b\b\b\b\b\b\b\b\b\b\b\b\b\b\b\b\b\b\b\b\b\b\b\b\b\b\b\b\b\b\b\b\b\b\b\b\b\b\b\b\b\b\b\b\b\b\b\b\b\b\b\b\b\b\b\b\b\b\b\b\b\b\b\b\b\b\b\b\b\b\b\b\b\b\b\b\b\b\b\b\b\b\b\b\b\b\b\b\b\b\b\b\b\b\b\b\b\b\b\b\b\b\b\b\b\b\b\b\b\b\b\b\b\b\b\b\b\b\b\b\b\b\b\b\b\b\b\b\b\b\b\b\b\b\b\b\b\b\b\b\b\b\b\b\b\b\b\b\b\b\b\b\b\b\b\b\b\b\b\b\b\b\b\b\b\b\b\b\b\b\b\b\b\b\b\b\b\b\b\b\b\b\b\b\b\b\b\b\b\b\b\b\b\b\b\b\b\b\b\b\b\b\b\b\b\b\b\b\b\b\b\b\b\b\b\b\b\b\b\b\b\b\b\b\b\b\b\b\b\b\b\b\b\b\b\b\b\b\b\b\b\b\b\b\b\b\b\b\b\b\b\b\b\b\b\b\b\b\b\b\b\b\b\b\b\b\b\b\b\b\b\b\b\b\b\b\b\b\b\b\b\b\b\b\b\b\b\b\b\b\b\b\b\b\b\b\b\b\b\b\b\b\b\b\b\b\b\b\b\b\b\b\b\b\b\b\b\b\b\b\b\b\b\b\b\b\b\b\b\b\b\b\b\b\b\b\b\b\b\b\b\b\b\b\b\b\b\b\b\b\b\b\b\b\b\b\b\b\b\b\b\b\b\b\b\b\b\b\b\b\b\b\b\b\b\b\b\b\b\b\b\b\b\b\b\b\b\b\b\b\b\b\b\b\b\b\b\b\b\b\b\b\b\b\b\b\b\b\b\b\b\b\b\b\b\b\b\b\b\b\b\b\b\b\b\b\b\b\b\b\b\b\b\b\b\b\b\b\b\b\b\b\b\b\b\b\b\b\b\b\b\b\b\b\b\b\b\b\b\b\b\b\b\b\b\b\b\b\b\b\b\b\b\b\b\b\b\b\b\b\b\b\b\b\b\b\b\b\b\b\b\b\b\b\b\b\b\b\b\b\b\b\b\b\b\b\b\b\b\b\b\b\b\b\b\b\b\b\b\b\b\b\b\b\b\b\b\b\b\b\b\b\b\b\b\b\b\b\b\b\b\b\b\b\b\b\b\b\b\b\b\b\b\b\b\b\b\b\b\b\b\b\b\b\b\b\b\b\b\b\b\b\b\b\b\b\b\b\b\b\b\b\b\b\b\b\b\b\b\b\b\b\b\b\b\b\b\b\b\b\b\b\b\b\b\b\b\b\b\b\b\b\b\b\b\b\b\b\b\b\b\b\b\b\b\b\b\b\b\b\b\b\b\b\b\b\b\b\b\b\b\b\b\b\b\b\b\b\b\b\b\b\b\b\b\b\b\b\b\b\b\b\b\b\b\b\b\b\b\b\b\b\b\b\b\b\b\b\b\b\b\b\b\b\b\b\b\b\b\b\b\b\b\b\b\b\b\b\b\b\b\b\b\b\b\b\b\b\b\b\b\b\b\b\b\b\b\b\b\b\b\b\b\b\b\b\b\b\b\b\b\b\b\b\b\b\b\b\b\b\b\b\b\b\b\b\b\b\b\b\b\b\b\b\b\b\b\b\b\b\b\b\b\b\b\b\b\b\b\b\b\b\b\b\b\b\b\b\b\b\b\b\b\b\b\b\b\b\b\b\b\b\b\b\b\b\b\b\b\b\b\b\b\b\b\b\b\b\b\b\b\b\b\b\b\b\b\b\b\b\b\b\b\b\b\b\b\b\b\b\b\b\b\b\b\b\b\b\b\b\b\b\b\b\b\b\b\b\b\b\b\b\b\b\b\b\b\b\b\b\b\b\b\b\b\b\b\b\b\b\b\b\b\n"
     ]
    },
    {
     "data": {
      "text/plain": [
       "<keras.callbacks.History at 0x13358b38>"
      ]
     },
     "execution_count": 14,
     "metadata": {},
     "output_type": "execute_result"
    }
   ],
   "source": [
    "model.fit(x_train, y_train,\n",
    "          batch_size=64, epochs=5,\n",
    "          validation_data=(x_val, y_val))"
   ]
  }
 ],
 "metadata": {
  "kernelspec": {
   "display_name": "Python 3",
   "language": "python",
   "name": "python3"
  },
  "language_info": {
   "codemirror_mode": {
    "name": "ipython",
    "version": 3
   },
   "file_extension": ".py",
   "mimetype": "text/x-python",
   "name": "python",
   "nbconvert_exporter": "python",
   "pygments_lexer": "ipython3",
   "version": "3.6.0"
  }
 },
 "nbformat": 4,
 "nbformat_minor": 2
}
