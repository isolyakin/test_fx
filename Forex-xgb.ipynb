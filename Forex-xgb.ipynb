{
 "cells": [
  {
   "cell_type": "code",
   "execution_count": 1,
   "metadata": {
    "ExecuteTime": {
     "end_time": "2018-03-06T21:52:32.199546Z",
     "start_time": "2018-03-06T21:52:23.184506Z"
    },
    "collapsed": false
   },
   "outputs": [
    {
     "name": "stderr",
     "output_type": "stream",
     "text": [
      "C:\\ProgramData\\Anaconda3\\lib\\site-packages\\sklearn\\cross_validation.py:41: DeprecationWarning: This module was deprecated in version 0.18 in favor of the model_selection module into which all the refactored classes and functions are moved. Also note that the interface of the new CV iterators are different from that of this module. This module will be removed in 0.20.\n",
      "  \"This module will be removed in 0.20.\", DeprecationWarning)\n"
     ]
    }
   ],
   "source": [
    "import urllib  # Импортировали библиотеку для работы с адресами и запросами Internet.\n",
    "import pandas as pd\n",
    "import numpy as np\n",
    "\n",
    "import matplotlib.pyplot as plt\n",
    "import seaborn as sns\n",
    "\n",
    "from sklearn.model_selection import train_test_split, KFold, cross_val_score\n",
    "from sklearn.preprocessing import LabelEncoder\n",
    "from sklearn import linear_model\n",
    "from sklearn.metrics import mean_squared_error, r2_score, roc_auc_score, roc_curve, make_scorer, precision_recall_curve, auc, average_precision_score\n",
    "\n",
    "import hyperopt\n",
    "from hyperopt import fmin, tpe, hp, STATUS_OK, Trials\n",
    "from hyperopt import space_eval\n",
    "\n",
    "import lightgbm as lgb\n",
    "import xgboost as xgb"
   ]
  },
  {
   "cell_type": "code",
   "execution_count": 2,
   "metadata": {
    "ExecuteTime": {
     "end_time": "2018-03-04T19:09:54.699635Z",
     "start_time": "2018-03-04T19:09:54.656034Z"
    },
    "collapsed": true
   },
   "outputs": [],
   "source": [
    "%matplotlib inline\n",
    "pd.options.display.max_columns = None"
   ]
  },
  {
   "cell_type": "markdown",
   "metadata": {},
   "source": [
    "### Параметры"
   ]
  },
  {
   "cell_type": "code",
   "execution_count": 3,
   "metadata": {
    "ExecuteTime": {
     "end_time": "2018-03-04T19:09:54.877646Z",
     "start_time": "2018-03-04T19:09:54.710636Z"
    },
    "collapsed": true
   },
   "outputs": [],
   "source": [
    "tax = 0.000097"
   ]
  },
  {
   "cell_type": "code",
   "execution_count": 4,
   "metadata": {
    "ExecuteTime": {
     "end_time": "2018-03-04T19:09:55.004653Z",
     "start_time": "2018-03-04T19:09:54.885646Z"
    },
    "collapsed": true
   },
   "outputs": [],
   "source": [
    "#метрика для несбалансированных класов\n",
    "def pr_auc_score(y_true, y_score):\n",
    "    #Generates the Area Under the Curve for precision and recall.\n",
    "    y_true = np.asarray(y_true)\n",
    "    y_score = np.asarray(y_score)\n",
    "    precision, recall, thresholds = precision_recall_curve(y_true, y_score)\n",
    "    return 'pr_auc', auc(recall, precision, reorder=True)\n",
    "\n",
    "def pr_auc_score_xgb(preds, train_data):\n",
    "    #Generates the Area Under the Curve for precision and recall.\n",
    "    labels = train_data.get_label()\n",
    "    y_true = np.ravel(labels)\n",
    "    y_score = np.ravel(preds)\n",
    "    return 'pr_auc', average_precision_score(y_true, y_score)\n",
    "\n",
    "def pr_auc_score_lgb(preds, train_data):\n",
    "    #Generates the Area Under the Curve for precision and recall.\n",
    "    labels = train_data.get_label()\n",
    "    y_true = np.ravel(labels)\n",
    "    y_score = np.ravel(preds)\n",
    "    return 'pr_auc', average_precision_score(y_true, y_score), True\n",
    "\n",
    "# функция для балансировки классов\n",
    "def fpreproc(dtrain, dtest, param):\n",
    "    label = dtrain.get_label()\n",
    "    ratio = float(np.sum(label == 0)) / np.sum(label==1)\n",
    "    param['scale_pos_weight'] = ratio\n",
    "    return (dtrain, dtest, param)"
   ]
  },
  {
   "cell_type": "markdown",
   "metadata": {},
   "source": [
    "## Обработка данных "
   ]
  },
  {
   "cell_type": "code",
   "execution_count": 43,
   "metadata": {
    "collapsed": true
   },
   "outputs": [],
   "source": [
    "data = pd.read_csv('EURUSD.csv', header=None)\n",
    "data.columns=['date', 'time', 'open', 'max', 'min', 'close', 'vol']\n",
    "\n",
    "# вычисляем данные \n",
    "data['mean_o'] = (data['open'] + data['close'])/2\n",
    "data['mean_m'] = (data['max'] + data['min'])/2\n",
    "\n",
    "data['delta_oc'] = (data['open']  - data['close'])\n",
    "data['delta_mm'] = (data['max']   - data['min'])\n",
    "data['delta_mo'] = (data['max']   - data['open'])\n",
    "data['delta_cm'] = (data['close'] - data['min'])\n",
    "\n",
    "data['delta0_oc'] = (data['open']  - data['close'])/data['mean_m']\n",
    "data['delta0_mm'] = (data['max']   - data['min']  )/data['mean_m']\n",
    "data['delta0_mo'] = (data['max']   - data['open'])/data['mean_m']\n",
    "data['delta0_cm'] = (data['close'] - data['min'] )/data['mean_m']"
   ]
  },
  {
   "cell_type": "code",
   "execution_count": 44,
   "metadata": {
    "ExecuteTime": {
     "end_time": "2018-03-04T19:10:31.530203Z",
     "start_time": "2018-03-04T19:10:30.488389Z"
    },
    "collapsed": false,
    "scrolled": false
   },
   "outputs": [
    {
     "data": {
      "text/html": [
       "<div>\n",
       "<style scoped>\n",
       "    .dataframe tbody tr th:only-of-type {\n",
       "        vertical-align: middle;\n",
       "    }\n",
       "\n",
       "    .dataframe tbody tr th {\n",
       "        vertical-align: top;\n",
       "    }\n",
       "\n",
       "    .dataframe thead th {\n",
       "        text-align: right;\n",
       "    }\n",
       "</style>\n",
       "<table border=\"1\" class=\"dataframe\">\n",
       "  <thead>\n",
       "    <tr style=\"text-align: right;\">\n",
       "      <th></th>\n",
       "      <th>open</th>\n",
       "      <th>max</th>\n",
       "      <th>min</th>\n",
       "      <th>close</th>\n",
       "      <th>vol</th>\n",
       "      <th>mean_o</th>\n",
       "      <th>mean_m</th>\n",
       "      <th>delta_oc</th>\n",
       "      <th>delta_mm</th>\n",
       "      <th>delta_mo</th>\n",
       "      <th>delta_cm</th>\n",
       "      <th>delta0_oc</th>\n",
       "      <th>delta0_mm</th>\n",
       "      <th>delta0_mo</th>\n",
       "      <th>delta0_cm</th>\n",
       "      <th>diff</th>\n",
       "      <th>diff_</th>\n",
       "      <th>diff1</th>\n",
       "      <th>diff2</th>\n",
       "      <th>diff3</th>\n",
       "      <th>diff4</th>\n",
       "      <th>diff5</th>\n",
       "    </tr>\n",
       "    <tr>\n",
       "      <th>datetime</th>\n",
       "      <th></th>\n",
       "      <th></th>\n",
       "      <th></th>\n",
       "      <th></th>\n",
       "      <th></th>\n",
       "      <th></th>\n",
       "      <th></th>\n",
       "      <th></th>\n",
       "      <th></th>\n",
       "      <th></th>\n",
       "      <th></th>\n",
       "      <th></th>\n",
       "      <th></th>\n",
       "      <th></th>\n",
       "      <th></th>\n",
       "      <th></th>\n",
       "      <th></th>\n",
       "      <th></th>\n",
       "      <th></th>\n",
       "      <th></th>\n",
       "      <th></th>\n",
       "      <th></th>\n",
       "    </tr>\n",
       "  </thead>\n",
       "  <tbody>\n",
       "    <tr>\n",
       "      <th>2017-11-10 21:46:00</th>\n",
       "      <td>1.1663</td>\n",
       "      <td>1.1664</td>\n",
       "      <td>1.1663</td>\n",
       "      <td>1.1663</td>\n",
       "      <td>7</td>\n",
       "      <td>1.16630</td>\n",
       "      <td>1.16635</td>\n",
       "      <td>0.0000</td>\n",
       "      <td>0.0001</td>\n",
       "      <td>0.0001</td>\n",
       "      <td>0.0000</td>\n",
       "      <td>0.000000</td>\n",
       "      <td>0.000086</td>\n",
       "      <td>0.000086</td>\n",
       "      <td>0.000000</td>\n",
       "      <td>0.0000</td>\n",
       "      <td>0.0003</td>\n",
       "      <td>0.0001</td>\n",
       "      <td>-0.0001</td>\n",
       "      <td>0.0002</td>\n",
       "      <td>0.0002</td>\n",
       "      <td>-0.0001</td>\n",
       "    </tr>\n",
       "    <tr>\n",
       "      <th>2017-11-10 21:47:00</th>\n",
       "      <td>1.1664</td>\n",
       "      <td>1.1664</td>\n",
       "      <td>1.1663</td>\n",
       "      <td>1.1664</td>\n",
       "      <td>3</td>\n",
       "      <td>1.16640</td>\n",
       "      <td>1.16635</td>\n",
       "      <td>0.0000</td>\n",
       "      <td>0.0001</td>\n",
       "      <td>0.0000</td>\n",
       "      <td>0.0001</td>\n",
       "      <td>0.000000</td>\n",
       "      <td>0.000086</td>\n",
       "      <td>0.000000</td>\n",
       "      <td>0.000086</td>\n",
       "      <td>0.0001</td>\n",
       "      <td>0.0002</td>\n",
       "      <td>-0.0001</td>\n",
       "      <td>0.0002</td>\n",
       "      <td>0.0002</td>\n",
       "      <td>-0.0001</td>\n",
       "      <td>0.0000</td>\n",
       "    </tr>\n",
       "    <tr>\n",
       "      <th>2017-11-10 21:48:00</th>\n",
       "      <td>1.1663</td>\n",
       "      <td>1.1664</td>\n",
       "      <td>1.1663</td>\n",
       "      <td>1.1664</td>\n",
       "      <td>4</td>\n",
       "      <td>1.16635</td>\n",
       "      <td>1.16635</td>\n",
       "      <td>-0.0001</td>\n",
       "      <td>0.0001</td>\n",
       "      <td>0.0001</td>\n",
       "      <td>0.0001</td>\n",
       "      <td>-0.000086</td>\n",
       "      <td>0.000086</td>\n",
       "      <td>0.000086</td>\n",
       "      <td>0.000086</td>\n",
       "      <td>-0.0001</td>\n",
       "      <td>0.0002</td>\n",
       "      <td>0.0002</td>\n",
       "      <td>0.0002</td>\n",
       "      <td>-0.0001</td>\n",
       "      <td>0.0000</td>\n",
       "      <td>-0.0001</td>\n",
       "    </tr>\n",
       "    <tr>\n",
       "      <th>2017-11-10 21:49:00</th>\n",
       "      <td>1.1665</td>\n",
       "      <td>1.1668</td>\n",
       "      <td>1.1665</td>\n",
       "      <td>1.1668</td>\n",
       "      <td>10</td>\n",
       "      <td>1.16665</td>\n",
       "      <td>1.16665</td>\n",
       "      <td>-0.0003</td>\n",
       "      <td>0.0003</td>\n",
       "      <td>0.0003</td>\n",
       "      <td>0.0003</td>\n",
       "      <td>-0.000257</td>\n",
       "      <td>0.000257</td>\n",
       "      <td>0.000257</td>\n",
       "      <td>0.000257</td>\n",
       "      <td>0.0002</td>\n",
       "      <td>-0.0001</td>\n",
       "      <td>0.0002</td>\n",
       "      <td>-0.0001</td>\n",
       "      <td>0.0000</td>\n",
       "      <td>-0.0001</td>\n",
       "      <td>-0.0001</td>\n",
       "    </tr>\n",
       "    <tr>\n",
       "      <th>2017-11-10 21:50:00</th>\n",
       "      <td>1.1667</td>\n",
       "      <td>1.1667</td>\n",
       "      <td>1.1664</td>\n",
       "      <td>1.1665</td>\n",
       "      <td>11</td>\n",
       "      <td>1.16660</td>\n",
       "      <td>1.16655</td>\n",
       "      <td>0.0002</td>\n",
       "      <td>0.0003</td>\n",
       "      <td>0.0000</td>\n",
       "      <td>0.0001</td>\n",
       "      <td>0.000171</td>\n",
       "      <td>0.000257</td>\n",
       "      <td>0.000000</td>\n",
       "      <td>0.000086</td>\n",
       "      <td>0.0002</td>\n",
       "      <td>-0.0003</td>\n",
       "      <td>-0.0001</td>\n",
       "      <td>0.0000</td>\n",
       "      <td>-0.0001</td>\n",
       "      <td>-0.0001</td>\n",
       "      <td>0.0000</td>\n",
       "    </tr>\n",
       "    <tr>\n",
       "      <th>2017-11-10 21:51:00</th>\n",
       "      <td>1.1666</td>\n",
       "      <td>1.1666</td>\n",
       "      <td>1.1665</td>\n",
       "      <td>1.1665</td>\n",
       "      <td>6</td>\n",
       "      <td>1.16655</td>\n",
       "      <td>1.16655</td>\n",
       "      <td>0.0001</td>\n",
       "      <td>0.0001</td>\n",
       "      <td>0.0000</td>\n",
       "      <td>0.0000</td>\n",
       "      <td>0.000086</td>\n",
       "      <td>0.000086</td>\n",
       "      <td>0.000000</td>\n",
       "      <td>0.000000</td>\n",
       "      <td>-0.0001</td>\n",
       "      <td>-0.0002</td>\n",
       "      <td>0.0000</td>\n",
       "      <td>-0.0001</td>\n",
       "      <td>-0.0001</td>\n",
       "      <td>0.0000</td>\n",
       "      <td>0.0000</td>\n",
       "    </tr>\n",
       "    <tr>\n",
       "      <th>2017-11-10 21:52:00</th>\n",
       "      <td>1.1666</td>\n",
       "      <td>1.1666</td>\n",
       "      <td>1.1666</td>\n",
       "      <td>1.1666</td>\n",
       "      <td>1</td>\n",
       "      <td>1.16660</td>\n",
       "      <td>1.16660</td>\n",
       "      <td>0.0000</td>\n",
       "      <td>0.0000</td>\n",
       "      <td>0.0000</td>\n",
       "      <td>0.0000</td>\n",
       "      <td>0.000000</td>\n",
       "      <td>0.000000</td>\n",
       "      <td>0.000000</td>\n",
       "      <td>0.000000</td>\n",
       "      <td>0.0000</td>\n",
       "      <td>-0.0002</td>\n",
       "      <td>-0.0001</td>\n",
       "      <td>-0.0001</td>\n",
       "      <td>0.0000</td>\n",
       "      <td>0.0000</td>\n",
       "      <td>0.0000</td>\n",
       "    </tr>\n",
       "  </tbody>\n",
       "</table>\n",
       "</div>"
      ],
      "text/plain": [
       "                       open     max     min   close  vol   mean_o   mean_m  \\\n",
       "datetime                                                                     \n",
       "2017-11-10 21:46:00  1.1663  1.1664  1.1663  1.1663    7  1.16630  1.16635   \n",
       "2017-11-10 21:47:00  1.1664  1.1664  1.1663  1.1664    3  1.16640  1.16635   \n",
       "2017-11-10 21:48:00  1.1663  1.1664  1.1663  1.1664    4  1.16635  1.16635   \n",
       "2017-11-10 21:49:00  1.1665  1.1668  1.1665  1.1668   10  1.16665  1.16665   \n",
       "2017-11-10 21:50:00  1.1667  1.1667  1.1664  1.1665   11  1.16660  1.16655   \n",
       "2017-11-10 21:51:00  1.1666  1.1666  1.1665  1.1665    6  1.16655  1.16655   \n",
       "2017-11-10 21:52:00  1.1666  1.1666  1.1666  1.1666    1  1.16660  1.16660   \n",
       "\n",
       "                     delta_oc  delta_mm  delta_mo  delta_cm  delta0_oc  \\\n",
       "datetime                                                                 \n",
       "2017-11-10 21:46:00    0.0000    0.0001    0.0001    0.0000   0.000000   \n",
       "2017-11-10 21:47:00    0.0000    0.0001    0.0000    0.0001   0.000000   \n",
       "2017-11-10 21:48:00   -0.0001    0.0001    0.0001    0.0001  -0.000086   \n",
       "2017-11-10 21:49:00   -0.0003    0.0003    0.0003    0.0003  -0.000257   \n",
       "2017-11-10 21:50:00    0.0002    0.0003    0.0000    0.0001   0.000171   \n",
       "2017-11-10 21:51:00    0.0001    0.0001    0.0000    0.0000   0.000086   \n",
       "2017-11-10 21:52:00    0.0000    0.0000    0.0000    0.0000   0.000000   \n",
       "\n",
       "                     delta0_mm  delta0_mo  delta0_cm    diff   diff_   diff1  \\\n",
       "datetime                                                                       \n",
       "2017-11-10 21:46:00   0.000086   0.000086   0.000000  0.0000  0.0003  0.0001   \n",
       "2017-11-10 21:47:00   0.000086   0.000000   0.000086  0.0001  0.0002 -0.0001   \n",
       "2017-11-10 21:48:00   0.000086   0.000086   0.000086 -0.0001  0.0002  0.0002   \n",
       "2017-11-10 21:49:00   0.000257   0.000257   0.000257  0.0002 -0.0001  0.0002   \n",
       "2017-11-10 21:50:00   0.000257   0.000000   0.000086  0.0002 -0.0003 -0.0001   \n",
       "2017-11-10 21:51:00   0.000086   0.000000   0.000000 -0.0001 -0.0002  0.0000   \n",
       "2017-11-10 21:52:00   0.000000   0.000000   0.000000  0.0000 -0.0002 -0.0001   \n",
       "\n",
       "                      diff2   diff3   diff4   diff5  \n",
       "datetime                                             \n",
       "2017-11-10 21:46:00 -0.0001  0.0002  0.0002 -0.0001  \n",
       "2017-11-10 21:47:00  0.0002  0.0002 -0.0001  0.0000  \n",
       "2017-11-10 21:48:00  0.0002 -0.0001  0.0000 -0.0001  \n",
       "2017-11-10 21:49:00 -0.0001  0.0000 -0.0001 -0.0001  \n",
       "2017-11-10 21:50:00  0.0000 -0.0001 -0.0001  0.0000  \n",
       "2017-11-10 21:51:00 -0.0001 -0.0001  0.0000  0.0000  \n",
       "2017-11-10 21:52:00 -0.0001  0.0000  0.0000  0.0000  "
      ]
     },
     "execution_count": 44,
     "metadata": {},
     "output_type": "execute_result"
    }
   ],
   "source": [
    "# вычисляем разницу\n",
    "data['diff'] = data['open'].diff(1)\n",
    "data['diff_'] = data['open'].diff(5)\n",
    "data['diff_'] = data['diff_'].shift(-5)\n",
    "\n",
    "\n",
    "data['diff1'] =  data['diff'].shift(-1)\n",
    "data['diff2'] =  data['diff'].shift(-2)\n",
    "data['diff3'] =  data['diff'].shift(-3)\n",
    "data['diff4'] =  data['diff'].shift(-4)\n",
    "data['diff5'] =  data['diff'].shift(-5)\n",
    "\n",
    "# конструируем индекс \n",
    "data['datetime'] = data['date'] + ' ' + data['time']\n",
    "data['datetime'] = pd.to_datetime(data['datetime'])\n",
    "data.index = data['datetime']\n",
    "data.drop(['date', 'time', 'datetime'], axis=1, inplace=True)\n",
    "#data.dropna(inplace=True)\n",
    "\n",
    "data.dropna(inplace=True)\n",
    "data.tail(7)"
   ]
  },
  {
   "cell_type": "code",
   "execution_count": 45,
   "metadata": {
    "ExecuteTime": {
     "end_time": "2018-03-04T19:10:59.413997Z",
     "start_time": "2018-03-04T19:10:41.162080Z"
    },
    "collapsed": false
   },
   "outputs": [],
   "source": [
    "data['delta5'] = data['diff_']/data['close']\n",
    "data['delta5'] = data['delta5'].apply(lambda x: (np.abs(x)))\n",
    "\n",
    "data['grow'] = data.apply(lambda x: 1 if (x['diff1']>=0 and x['diff2']>=0 and x['diff3']>=0 and \n",
    "                                          x['diff4']>=0 and x['diff5']>=0 and x['delta5']>(tax*2)) else 0, axis=1)\n",
    "data['fall'] = data.apply(lambda x: 1 if (x['diff1']<=0 and x['diff2']<=0 and x['diff3']<=0 and \n",
    "                                          x['diff4']<=0 and x['diff5']<=0 and x['delta5']>(tax*2)) else 0, axis=1)"
   ]
  },
  {
   "cell_type": "code",
   "execution_count": 46,
   "metadata": {
    "ExecuteTime": {
     "end_time": "2018-03-04T19:10:59.548802Z",
     "start_time": "2018-03-04T19:10:59.413997Z"
    },
    "collapsed": false
   },
   "outputs": [
    {
     "data": {
      "text/html": [
       "<div>\n",
       "<style scoped>\n",
       "    .dataframe tbody tr th:only-of-type {\n",
       "        vertical-align: middle;\n",
       "    }\n",
       "\n",
       "    .dataframe tbody tr th {\n",
       "        vertical-align: top;\n",
       "    }\n",
       "\n",
       "    .dataframe thead th {\n",
       "        text-align: right;\n",
       "    }\n",
       "</style>\n",
       "<table border=\"1\" class=\"dataframe\">\n",
       "  <thead>\n",
       "    <tr style=\"text-align: right;\">\n",
       "      <th></th>\n",
       "      <th>open</th>\n",
       "      <th>max</th>\n",
       "      <th>min</th>\n",
       "      <th>close</th>\n",
       "      <th>vol</th>\n",
       "      <th>mean_o</th>\n",
       "      <th>mean_m</th>\n",
       "      <th>delta_oc</th>\n",
       "      <th>delta_mm</th>\n",
       "      <th>delta_mo</th>\n",
       "      <th>delta_cm</th>\n",
       "      <th>delta0_oc</th>\n",
       "      <th>delta0_mm</th>\n",
       "      <th>delta0_mo</th>\n",
       "      <th>delta0_cm</th>\n",
       "      <th>grow</th>\n",
       "      <th>fall</th>\n",
       "    </tr>\n",
       "    <tr>\n",
       "      <th>datetime</th>\n",
       "      <th></th>\n",
       "      <th></th>\n",
       "      <th></th>\n",
       "      <th></th>\n",
       "      <th></th>\n",
       "      <th></th>\n",
       "      <th></th>\n",
       "      <th></th>\n",
       "      <th></th>\n",
       "      <th></th>\n",
       "      <th></th>\n",
       "      <th></th>\n",
       "      <th></th>\n",
       "      <th></th>\n",
       "      <th></th>\n",
       "      <th></th>\n",
       "      <th></th>\n",
       "    </tr>\n",
       "  </thead>\n",
       "  <tbody>\n",
       "    <tr>\n",
       "      <th>2017-08-02 13:35:00</th>\n",
       "      <td>1.1827</td>\n",
       "      <td>1.1827</td>\n",
       "      <td>1.1825</td>\n",
       "      <td>1.1826</td>\n",
       "      <td>20</td>\n",
       "      <td>1.18265</td>\n",
       "      <td>1.18260</td>\n",
       "      <td>0.0001</td>\n",
       "      <td>0.0002</td>\n",
       "      <td>0.0000</td>\n",
       "      <td>0.0001</td>\n",
       "      <td>0.000085</td>\n",
       "      <td>0.000169</td>\n",
       "      <td>0.000000</td>\n",
       "      <td>0.000085</td>\n",
       "      <td>0</td>\n",
       "      <td>0</td>\n",
       "    </tr>\n",
       "    <tr>\n",
       "      <th>2017-08-02 13:36:00</th>\n",
       "      <td>1.1825</td>\n",
       "      <td>1.1827</td>\n",
       "      <td>1.1824</td>\n",
       "      <td>1.1827</td>\n",
       "      <td>21</td>\n",
       "      <td>1.18260</td>\n",
       "      <td>1.18255</td>\n",
       "      <td>-0.0002</td>\n",
       "      <td>0.0003</td>\n",
       "      <td>0.0002</td>\n",
       "      <td>0.0003</td>\n",
       "      <td>-0.000169</td>\n",
       "      <td>0.000254</td>\n",
       "      <td>0.000169</td>\n",
       "      <td>0.000254</td>\n",
       "      <td>0</td>\n",
       "      <td>0</td>\n",
       "    </tr>\n",
       "    <tr>\n",
       "      <th>2017-08-02 13:37:00</th>\n",
       "      <td>1.1826</td>\n",
       "      <td>1.1828</td>\n",
       "      <td>1.1826</td>\n",
       "      <td>1.1828</td>\n",
       "      <td>13</td>\n",
       "      <td>1.18270</td>\n",
       "      <td>1.18270</td>\n",
       "      <td>-0.0002</td>\n",
       "      <td>0.0002</td>\n",
       "      <td>0.0002</td>\n",
       "      <td>0.0002</td>\n",
       "      <td>-0.000169</td>\n",
       "      <td>0.000169</td>\n",
       "      <td>0.000169</td>\n",
       "      <td>0.000169</td>\n",
       "      <td>0</td>\n",
       "      <td>0</td>\n",
       "    </tr>\n",
       "    <tr>\n",
       "      <th>2017-08-02 13:38:00</th>\n",
       "      <td>1.1827</td>\n",
       "      <td>1.1829</td>\n",
       "      <td>1.1827</td>\n",
       "      <td>1.1827</td>\n",
       "      <td>15</td>\n",
       "      <td>1.18270</td>\n",
       "      <td>1.18280</td>\n",
       "      <td>0.0000</td>\n",
       "      <td>0.0002</td>\n",
       "      <td>0.0002</td>\n",
       "      <td>0.0000</td>\n",
       "      <td>0.000000</td>\n",
       "      <td>0.000169</td>\n",
       "      <td>0.000169</td>\n",
       "      <td>0.000000</td>\n",
       "      <td>0</td>\n",
       "      <td>0</td>\n",
       "    </tr>\n",
       "    <tr>\n",
       "      <th>2017-08-02 13:39:00</th>\n",
       "      <td>1.1828</td>\n",
       "      <td>1.1828</td>\n",
       "      <td>1.1827</td>\n",
       "      <td>1.1827</td>\n",
       "      <td>6</td>\n",
       "      <td>1.18275</td>\n",
       "      <td>1.18275</td>\n",
       "      <td>0.0001</td>\n",
       "      <td>0.0001</td>\n",
       "      <td>0.0000</td>\n",
       "      <td>0.0000</td>\n",
       "      <td>0.000085</td>\n",
       "      <td>0.000085</td>\n",
       "      <td>0.000000</td>\n",
       "      <td>0.000000</td>\n",
       "      <td>0</td>\n",
       "      <td>0</td>\n",
       "    </tr>\n",
       "    <tr>\n",
       "      <th>2017-08-02 13:40:00</th>\n",
       "      <td>1.1828</td>\n",
       "      <td>1.1828</td>\n",
       "      <td>1.1827</td>\n",
       "      <td>1.1828</td>\n",
       "      <td>3</td>\n",
       "      <td>1.18280</td>\n",
       "      <td>1.18275</td>\n",
       "      <td>0.0000</td>\n",
       "      <td>0.0001</td>\n",
       "      <td>0.0000</td>\n",
       "      <td>0.0001</td>\n",
       "      <td>0.000000</td>\n",
       "      <td>0.000085</td>\n",
       "      <td>0.000000</td>\n",
       "      <td>0.000085</td>\n",
       "      <td>0</td>\n",
       "      <td>0</td>\n",
       "    </tr>\n",
       "    <tr>\n",
       "      <th>2017-08-02 13:41:00</th>\n",
       "      <td>1.1827</td>\n",
       "      <td>1.1831</td>\n",
       "      <td>1.1827</td>\n",
       "      <td>1.1831</td>\n",
       "      <td>11</td>\n",
       "      <td>1.18290</td>\n",
       "      <td>1.18290</td>\n",
       "      <td>-0.0004</td>\n",
       "      <td>0.0004</td>\n",
       "      <td>0.0004</td>\n",
       "      <td>0.0004</td>\n",
       "      <td>-0.000338</td>\n",
       "      <td>0.000338</td>\n",
       "      <td>0.000338</td>\n",
       "      <td>0.000338</td>\n",
       "      <td>0</td>\n",
       "      <td>0</td>\n",
       "    </tr>\n",
       "    <tr>\n",
       "      <th>2017-08-02 13:42:00</th>\n",
       "      <td>1.1832</td>\n",
       "      <td>1.1832</td>\n",
       "      <td>1.1831</td>\n",
       "      <td>1.1832</td>\n",
       "      <td>9</td>\n",
       "      <td>1.18320</td>\n",
       "      <td>1.18315</td>\n",
       "      <td>0.0000</td>\n",
       "      <td>0.0001</td>\n",
       "      <td>0.0000</td>\n",
       "      <td>0.0001</td>\n",
       "      <td>0.000000</td>\n",
       "      <td>0.000085</td>\n",
       "      <td>0.000000</td>\n",
       "      <td>0.000085</td>\n",
       "      <td>0</td>\n",
       "      <td>0</td>\n",
       "    </tr>\n",
       "    <tr>\n",
       "      <th>2017-08-02 13:43:00</th>\n",
       "      <td>1.1831</td>\n",
       "      <td>1.1832</td>\n",
       "      <td>1.1831</td>\n",
       "      <td>1.1831</td>\n",
       "      <td>9</td>\n",
       "      <td>1.18310</td>\n",
       "      <td>1.18315</td>\n",
       "      <td>0.0000</td>\n",
       "      <td>0.0001</td>\n",
       "      <td>0.0001</td>\n",
       "      <td>0.0000</td>\n",
       "      <td>0.000000</td>\n",
       "      <td>0.000085</td>\n",
       "      <td>0.000085</td>\n",
       "      <td>0.000000</td>\n",
       "      <td>0</td>\n",
       "      <td>0</td>\n",
       "    </tr>\n",
       "    <tr>\n",
       "      <th>2017-08-02 13:44:00</th>\n",
       "      <td>1.1830</td>\n",
       "      <td>1.1830</td>\n",
       "      <td>1.1829</td>\n",
       "      <td>1.1830</td>\n",
       "      <td>5</td>\n",
       "      <td>1.18300</td>\n",
       "      <td>1.18295</td>\n",
       "      <td>0.0000</td>\n",
       "      <td>0.0001</td>\n",
       "      <td>0.0000</td>\n",
       "      <td>0.0001</td>\n",
       "      <td>0.000000</td>\n",
       "      <td>0.000085</td>\n",
       "      <td>0.000000</td>\n",
       "      <td>0.000085</td>\n",
       "      <td>0</td>\n",
       "      <td>0</td>\n",
       "    </tr>\n",
       "  </tbody>\n",
       "</table>\n",
       "</div>"
      ],
      "text/plain": [
       "                       open     max     min   close  vol   mean_o   mean_m  \\\n",
       "datetime                                                                     \n",
       "2017-08-02 13:35:00  1.1827  1.1827  1.1825  1.1826   20  1.18265  1.18260   \n",
       "2017-08-02 13:36:00  1.1825  1.1827  1.1824  1.1827   21  1.18260  1.18255   \n",
       "2017-08-02 13:37:00  1.1826  1.1828  1.1826  1.1828   13  1.18270  1.18270   \n",
       "2017-08-02 13:38:00  1.1827  1.1829  1.1827  1.1827   15  1.18270  1.18280   \n",
       "2017-08-02 13:39:00  1.1828  1.1828  1.1827  1.1827    6  1.18275  1.18275   \n",
       "2017-08-02 13:40:00  1.1828  1.1828  1.1827  1.1828    3  1.18280  1.18275   \n",
       "2017-08-02 13:41:00  1.1827  1.1831  1.1827  1.1831   11  1.18290  1.18290   \n",
       "2017-08-02 13:42:00  1.1832  1.1832  1.1831  1.1832    9  1.18320  1.18315   \n",
       "2017-08-02 13:43:00  1.1831  1.1832  1.1831  1.1831    9  1.18310  1.18315   \n",
       "2017-08-02 13:44:00  1.1830  1.1830  1.1829  1.1830    5  1.18300  1.18295   \n",
       "\n",
       "                     delta_oc  delta_mm  delta_mo  delta_cm  delta0_oc  \\\n",
       "datetime                                                                 \n",
       "2017-08-02 13:35:00    0.0001    0.0002    0.0000    0.0001   0.000085   \n",
       "2017-08-02 13:36:00   -0.0002    0.0003    0.0002    0.0003  -0.000169   \n",
       "2017-08-02 13:37:00   -0.0002    0.0002    0.0002    0.0002  -0.000169   \n",
       "2017-08-02 13:38:00    0.0000    0.0002    0.0002    0.0000   0.000000   \n",
       "2017-08-02 13:39:00    0.0001    0.0001    0.0000    0.0000   0.000085   \n",
       "2017-08-02 13:40:00    0.0000    0.0001    0.0000    0.0001   0.000000   \n",
       "2017-08-02 13:41:00   -0.0004    0.0004    0.0004    0.0004  -0.000338   \n",
       "2017-08-02 13:42:00    0.0000    0.0001    0.0000    0.0001   0.000000   \n",
       "2017-08-02 13:43:00    0.0000    0.0001    0.0001    0.0000   0.000000   \n",
       "2017-08-02 13:44:00    0.0000    0.0001    0.0000    0.0001   0.000000   \n",
       "\n",
       "                     delta0_mm  delta0_mo  delta0_cm  grow  fall  \n",
       "datetime                                                          \n",
       "2017-08-02 13:35:00   0.000169   0.000000   0.000085     0     0  \n",
       "2017-08-02 13:36:00   0.000254   0.000169   0.000254     0     0  \n",
       "2017-08-02 13:37:00   0.000169   0.000169   0.000169     0     0  \n",
       "2017-08-02 13:38:00   0.000169   0.000169   0.000000     0     0  \n",
       "2017-08-02 13:39:00   0.000085   0.000000   0.000000     0     0  \n",
       "2017-08-02 13:40:00   0.000085   0.000000   0.000085     0     0  \n",
       "2017-08-02 13:41:00   0.000338   0.000338   0.000338     0     0  \n",
       "2017-08-02 13:42:00   0.000085   0.000000   0.000085     0     0  \n",
       "2017-08-02 13:43:00   0.000085   0.000085   0.000000     0     0  \n",
       "2017-08-02 13:44:00   0.000085   0.000000   0.000085     0     0  "
      ]
     },
     "execution_count": 46,
     "metadata": {},
     "output_type": "execute_result"
    }
   ],
   "source": [
    "data.drop(['diff', 'diff_', 'diff1', 'diff2', 'diff3', 'diff4', 'diff5', 'delta5'], axis=1, inplace=True)\n",
    "data.head(10)"
   ]
  },
  {
   "cell_type": "code",
   "execution_count": 47,
   "metadata": {
    "ExecuteTime": {
     "end_time": "2018-03-04T19:10:59.593404Z",
     "start_time": "2018-03-04T19:10:59.548802Z"
    },
    "collapsed": false
   },
   "outputs": [
    {
     "name": "stdout",
     "output_type": "stream",
     "text": [
      "(88329, 17)\n",
      "(4103, 17)\n",
      "(4162, 17)\n"
     ]
    }
   ],
   "source": [
    "print(data.shape)\n",
    "print(data[data.grow == 1].shape)\n",
    "print(data[data.fall == 1].shape)"
   ]
  },
  {
   "cell_type": "markdown",
   "metadata": {},
   "source": [
    "```python\n",
    "(88330, 17)\n",
    "(9517, 17)\n",
    "(9697, 17)```"
   ]
  },
  {
   "cell_type": "code",
   "execution_count": 49,
   "metadata": {
    "ExecuteTime": {
     "end_time": "2018-03-04T19:13:00.629886Z",
     "start_time": "2018-03-04T19:10:59.598404Z"
    },
    "collapsed": false
   },
   "outputs": [],
   "source": [
    "data.to_excel('data_1m.xlsx')"
   ]
  },
  {
   "cell_type": "code",
   "execution_count": 50,
   "metadata": {
    "ExecuteTime": {
     "end_time": "2018-03-04T19:13:33.071793Z",
     "start_time": "2018-03-04T19:13:33.003190Z"
    },
    "collapsed": true
   },
   "outputs": [],
   "source": [
    "data.to_pickle('data1m.pkl')"
   ]
  },
  {
   "cell_type": "code",
   "execution_count": 51,
   "metadata": {
    "ExecuteTime": {
     "end_time": "2018-03-04T15:15:20.318334Z",
     "start_time": "2018-03-04T15:15:20.301734Z"
    },
    "collapsed": false
   },
   "outputs": [],
   "source": [
    "url = 'http://export.finam.ru/EURUSD_180101_180301.csv?market=5&em=83&code=EURUSD&apply=0&df=1&mf=0&yf=2018&from=01.01.2018&dt=1&mt=2&yt=2018&to=01.03.2018&p=2&f=EURUSD_180101_180301&e=.csv&cn=EURUSD&dtf=1&tmf=1&MSOR=1&mstime=on&mstimever=1&sep=3&sep2=1&datf=5&at=1&fsp=1'\n",
    "data_f = pd.read_csv(url, delimiter=';')\n",
    "#f = urllib.request.urlopen(url)   # Открыли соединение.\n",
    "#data1 = f.read()   # Прочитали данные.\n",
    "#f.close()          # Закрыли соединение."
   ]
  },
  {
   "cell_type": "code",
   "execution_count": 52,
   "metadata": {
    "collapsed": false
   },
   "outputs": [
    {
     "name": "stdout",
     "output_type": "stream",
     "text": [
      "<class 'pandas.core.frame.DataFrame'>\n",
      "RangeIndex: 64101 entries, 0 to 64100\n",
      "Data columns (total 7 columns):\n",
      "<DATE>     64101 non-null int64\n",
      "<TIME>     64101 non-null int64\n",
      "<OPEN>     64101 non-null float64\n",
      "<HIGH>     64101 non-null float64\n",
      "<LOW>      64101 non-null float64\n",
      "<CLOSE>    64101 non-null float64\n",
      "<VOL>      64101 non-null int64\n",
      "dtypes: float64(4), int64(3)\n",
      "memory usage: 3.4 MB\n"
     ]
    }
   ],
   "source": [
    "data_f.info()"
   ]
  },
  {
   "cell_type": "code",
   "execution_count": 55,
   "metadata": {
    "collapsed": false
   },
   "outputs": [
    {
     "data": {
      "text/html": [
       "<div>\n",
       "<style scoped>\n",
       "    .dataframe tbody tr th:only-of-type {\n",
       "        vertical-align: middle;\n",
       "    }\n",
       "\n",
       "    .dataframe tbody tr th {\n",
       "        vertical-align: top;\n",
       "    }\n",
       "\n",
       "    .dataframe thead th {\n",
       "        text-align: right;\n",
       "    }\n",
       "</style>\n",
       "<table border=\"1\" class=\"dataframe\">\n",
       "  <thead>\n",
       "    <tr style=\"text-align: right;\">\n",
       "      <th></th>\n",
       "      <th>&lt;DATE&gt;</th>\n",
       "      <th>&lt;TIME&gt;</th>\n",
       "      <th>&lt;OPEN&gt;</th>\n",
       "      <th>&lt;HIGH&gt;</th>\n",
       "      <th>&lt;LOW&gt;</th>\n",
       "      <th>&lt;CLOSE&gt;</th>\n",
       "      <th>&lt;VOL&gt;</th>\n",
       "    </tr>\n",
       "  </thead>\n",
       "  <tbody>\n",
       "    <tr>\n",
       "      <th>0</th>\n",
       "      <td>20180101</td>\n",
       "      <td>10100</td>\n",
       "      <td>1.19966</td>\n",
       "      <td>1.19966</td>\n",
       "      <td>1.19966</td>\n",
       "      <td>1.19966</td>\n",
       "      <td>1</td>\n",
       "    </tr>\n",
       "    <tr>\n",
       "      <th>1</th>\n",
       "      <td>20180101</td>\n",
       "      <td>90200</td>\n",
       "      <td>1.20020</td>\n",
       "      <td>1.20020</td>\n",
       "      <td>1.20020</td>\n",
       "      <td>1.20020</td>\n",
       "      <td>1</td>\n",
       "    </tr>\n",
       "    <tr>\n",
       "      <th>2</th>\n",
       "      <td>20180101</td>\n",
       "      <td>90300</td>\n",
       "      <td>1.20020</td>\n",
       "      <td>1.20020</td>\n",
       "      <td>1.20020</td>\n",
       "      <td>1.20020</td>\n",
       "      <td>1</td>\n",
       "    </tr>\n",
       "    <tr>\n",
       "      <th>3</th>\n",
       "      <td>20180101</td>\n",
       "      <td>90400</td>\n",
       "      <td>1.20020</td>\n",
       "      <td>1.20020</td>\n",
       "      <td>1.20020</td>\n",
       "      <td>1.20020</td>\n",
       "      <td>1</td>\n",
       "    </tr>\n",
       "    <tr>\n",
       "      <th>4</th>\n",
       "      <td>20180101</td>\n",
       "      <td>90500</td>\n",
       "      <td>1.20020</td>\n",
       "      <td>1.20020</td>\n",
       "      <td>1.20020</td>\n",
       "      <td>1.20020</td>\n",
       "      <td>1</td>\n",
       "    </tr>\n",
       "  </tbody>\n",
       "</table>\n",
       "</div>"
      ],
      "text/plain": [
       "     <DATE>  <TIME>   <OPEN>   <HIGH>    <LOW>  <CLOSE>  <VOL>\n",
       "0  20180101   10100  1.19966  1.19966  1.19966  1.19966      1\n",
       "1  20180101   90200  1.20020  1.20020  1.20020  1.20020      1\n",
       "2  20180101   90300  1.20020  1.20020  1.20020  1.20020      1\n",
       "3  20180101   90400  1.20020  1.20020  1.20020  1.20020      1\n",
       "4  20180101   90500  1.20020  1.20020  1.20020  1.20020      1"
      ]
     },
     "execution_count": 55,
     "metadata": {},
     "output_type": "execute_result"
    }
   ],
   "source": [
    "data_f.head()"
   ]
  },
  {
   "cell_type": "markdown",
   "metadata": {},
   "source": [
    "## Построение модели grow - классификация"
   ]
  },
  {
   "cell_type": "code",
   "execution_count": 27,
   "metadata": {
    "ExecuteTime": {
     "end_time": "2018-03-04T19:15:13.497219Z",
     "start_time": "2018-03-04T19:15:13.435017Z"
    },
    "collapsed": true
   },
   "outputs": [],
   "source": [
    "#data=pd.read_pickle('data1m.pkl')"
   ]
  },
  {
   "cell_type": "code",
   "execution_count": 56,
   "metadata": {
    "ExecuteTime": {
     "end_time": "2018-03-04T19:13:00.645486Z",
     "start_time": "2018-03-04T19:13:00.629886Z"
    },
    "collapsed": true
   },
   "outputs": [],
   "source": [
    "boost_round = 1500\n",
    "nfolds = 5\n",
    "test_size = 0.2\n",
    "rand_state = 43\n",
    "best_params =   {'application': 'binary'}"
   ]
  },
  {
   "cell_type": "code",
   "execution_count": 57,
   "metadata": {
    "ExecuteTime": {
     "end_time": "2018-03-04T19:13:46.324687Z",
     "start_time": "2018-03-04T19:13:46.309087Z"
    },
    "collapsed": true
   },
   "outputs": [],
   "source": [
    "col2est1 = ['grow']\n",
    "col2est2 = ['fall']"
   ]
  },
  {
   "cell_type": "code",
   "execution_count": 58,
   "metadata": {
    "ExecuteTime": {
     "end_time": "2018-03-04T19:13:47.956350Z",
     "start_time": "2018-03-04T19:13:47.875746Z"
    },
    "collapsed": false
   },
   "outputs": [],
   "source": [
    "X_train, X_test, y_train, y_test = train_test_split(data.drop(col2est1 + col2est2, axis=1), data[col2est1 + col2est2], \n",
    "                                                    test_size=test_size, random_state=rand_state)"
   ]
  },
  {
   "cell_type": "code",
   "execution_count": 59,
   "metadata": {
    "ExecuteTime": {
     "end_time": "2018-03-04T19:13:49.679621Z",
     "start_time": "2018-03-04T19:13:49.664021Z"
    },
    "collapsed": true
   },
   "outputs": [],
   "source": [
    "ld_train = lgb.Dataset(X_train, np.ravel(y_train.drop(col2est2, axis=1)))\n",
    "ld_test = lgb.Dataset(X_test)"
   ]
  },
  {
   "cell_type": "code",
   "execution_count": 60,
   "metadata": {
    "ExecuteTime": {
     "end_time": "2018-03-04T19:13:59.284122Z",
     "start_time": "2018-03-04T19:13:50.592660Z"
    },
    "collapsed": false
   },
   "outputs": [
    {
     "name": "stdout",
     "output_type": "stream",
     "text": [
      "[1]\tcv_agg's binary_logloss: 0.614524 + 4.10848e-05\tcv_agg's pr_auc: 0.080087 + 0.00372273\n",
      "[2]\tcv_agg's binary_logloss: 0.550229 + 6.66255e-05\tcv_agg's pr_auc: 0.0803826 + 0.00287965\n",
      "[3]\tcv_agg's binary_logloss: 0.496863 + 0.000108268\tcv_agg's pr_auc: 0.0803017 + 0.00333937\n",
      "[4]\tcv_agg's binary_logloss: 0.452083 + 0.00012946\tcv_agg's pr_auc: 0.0803769 + 0.00330996\n",
      "[5]\tcv_agg's binary_logloss: 0.414147 + 0.000148779\tcv_agg's pr_auc: 0.080595 + 0.00318781\n",
      "[6]\tcv_agg's binary_logloss: 0.38182 + 0.000180724\tcv_agg's pr_auc: 0.0807297 + 0.0032978\n",
      "[7]\tcv_agg's binary_logloss: 0.354121 + 0.000201014\tcv_agg's pr_auc: 0.080627 + 0.00351051\n",
      "[8]\tcv_agg's binary_logloss: 0.330278 + 0.000223755\tcv_agg's pr_auc: 0.0807175 + 0.00378963\n",
      "[9]\tcv_agg's binary_logloss: 0.309691 + 0.000250833\tcv_agg's pr_auc: 0.0812082 + 0.00396266\n",
      "[10]\tcv_agg's binary_logloss: 0.29189 + 0.000275815\tcv_agg's pr_auc: 0.0811416 + 0.00411222\n",
      "[11]\tcv_agg's binary_logloss: 0.276468 + 0.000286843\tcv_agg's pr_auc: 0.0813036 + 0.00358403\n",
      "[12]\tcv_agg's binary_logloss: 0.263076 + 0.000298589\tcv_agg's pr_auc: 0.0814249 + 0.00324002\n",
      "[13]\tcv_agg's binary_logloss: 0.251437 + 0.000326716\tcv_agg's pr_auc: 0.0817797 + 0.00361961\n",
      "[14]\tcv_agg's binary_logloss: 0.241333 + 0.00034895\tcv_agg's pr_auc: 0.0818044 + 0.00374977\n",
      "[15]\tcv_agg's binary_logloss: 0.232541 + 0.000387652\tcv_agg's pr_auc: 0.0819116 + 0.00416816\n",
      "[16]\tcv_agg's binary_logloss: 0.224898 + 0.000405024\tcv_agg's pr_auc: 0.081753 + 0.00418272\n",
      "[17]\tcv_agg's binary_logloss: 0.218236 + 0.000440555\tcv_agg's pr_auc: 0.0821556 + 0.00447243\n",
      "[18]\tcv_agg's binary_logloss: 0.212443 + 0.00046831\tcv_agg's pr_auc: 0.0823956 + 0.00456541\n",
      "[19]\tcv_agg's binary_logloss: 0.207443 + 0.00050079\tcv_agg's pr_auc: 0.0821831 + 0.00438905\n",
      "[20]\tcv_agg's binary_logloss: 0.203084 + 0.000533012\tcv_agg's pr_auc: 0.0823078 + 0.00430654\n",
      "[21]\tcv_agg's binary_logloss: 0.199309 + 0.000557777\tcv_agg's pr_auc: 0.082416 + 0.00430202\n",
      "[22]\tcv_agg's binary_logloss: 0.196039 + 0.000591737\tcv_agg's pr_auc: 0.0825146 + 0.00451073\n",
      "[23]\tcv_agg's binary_logloss: 0.193202 + 0.000602988\tcv_agg's pr_auc: 0.0827946 + 0.00426799\n",
      "[24]\tcv_agg's binary_logloss: 0.190753 + 0.000646145\tcv_agg's pr_auc: 0.0830323 + 0.00441659\n",
      "[25]\tcv_agg's binary_logloss: 0.188654 + 0.000703261\tcv_agg's pr_auc: 0.0830883 + 0.00461412\n",
      "[26]\tcv_agg's binary_logloss: 0.186819 + 0.000761836\tcv_agg's pr_auc: 0.0834581 + 0.00480359\n",
      "[27]\tcv_agg's binary_logloss: 0.185238 + 0.000798079\tcv_agg's pr_auc: 0.0837038 + 0.00485885\n",
      "[28]\tcv_agg's binary_logloss: 0.18391 + 0.000821841\tcv_agg's pr_auc: 0.0837322 + 0.00494592\n",
      "[29]\tcv_agg's binary_logloss: 0.182756 + 0.000882041\tcv_agg's pr_auc: 0.0836378 + 0.00512107\n",
      "[30]\tcv_agg's binary_logloss: 0.18176 + 0.000875753\tcv_agg's pr_auc: 0.0838324 + 0.00524431\n",
      "[31]\tcv_agg's binary_logloss: 0.180918 + 0.000900758\tcv_agg's pr_auc: 0.0838073 + 0.00522119\n",
      "[32]\tcv_agg's binary_logloss: 0.180171 + 0.000918213\tcv_agg's pr_auc: 0.0840328 + 0.00510633\n",
      "[33]\tcv_agg's binary_logloss: 0.17955 + 0.000961386\tcv_agg's pr_auc: 0.0842162 + 0.00519019\n",
      "[34]\tcv_agg's binary_logloss: 0.179002 + 0.000976197\tcv_agg's pr_auc: 0.0843236 + 0.00518275\n",
      "[35]\tcv_agg's binary_logloss: 0.178542 + 0.00100022\tcv_agg's pr_auc: 0.0845275 + 0.00502715\n",
      "[36]\tcv_agg's binary_logloss: 0.178151 + 0.00102634\tcv_agg's pr_auc: 0.0845964 + 0.00500271\n",
      "[37]\tcv_agg's binary_logloss: 0.177814 + 0.00104615\tcv_agg's pr_auc: 0.0846633 + 0.00522083\n",
      "[38]\tcv_agg's binary_logloss: 0.177542 + 0.00108139\tcv_agg's pr_auc: 0.0847358 + 0.0052239\n",
      "[39]\tcv_agg's binary_logloss: 0.177306 + 0.00110414\tcv_agg's pr_auc: 0.0847793 + 0.00525855\n",
      "[40]\tcv_agg's binary_logloss: 0.177105 + 0.00112329\tcv_agg's pr_auc: 0.0848169 + 0.00517531\n",
      "[41]\tcv_agg's binary_logloss: 0.176943 + 0.00115547\tcv_agg's pr_auc: 0.0849539 + 0.00524755\n",
      "[42]\tcv_agg's binary_logloss: 0.176805 + 0.00117166\tcv_agg's pr_auc: 0.0849726 + 0.00525186\n",
      "[43]\tcv_agg's binary_logloss: 0.176698 + 0.00115448\tcv_agg's pr_auc: 0.084882 + 0.00485081\n",
      "[44]\tcv_agg's binary_logloss: 0.176588 + 0.00116959\tcv_agg's pr_auc: 0.0848791 + 0.00488451\n",
      "[45]\tcv_agg's binary_logloss: 0.176508 + 0.00117183\tcv_agg's pr_auc: 0.0848202 + 0.00459332\n",
      "[46]\tcv_agg's binary_logloss: 0.176417 + 0.00118586\tcv_agg's pr_auc: 0.0847509 + 0.00456367\n",
      "[47]\tcv_agg's binary_logloss: 0.176366 + 0.00120602\tcv_agg's pr_auc: 0.0846986 + 0.00453315\n",
      "[48]\tcv_agg's binary_logloss: 0.176294 + 0.00119582\tcv_agg's pr_auc: 0.084857 + 0.00454119\n",
      "[49]\tcv_agg's binary_logloss: 0.17627 + 0.00119132\tcv_agg's pr_auc: 0.0847606 + 0.0043816\n",
      "[50]\tcv_agg's binary_logloss: 0.176197 + 0.0011892\tcv_agg's pr_auc: 0.0848866 + 0.00443645\n",
      "[51]\tcv_agg's binary_logloss: 0.176146 + 0.00116024\tcv_agg's pr_auc: 0.0849742 + 0.00429663\n",
      "[52]\tcv_agg's binary_logloss: 0.176167 + 0.00116713\tcv_agg's pr_auc: 0.0850666 + 0.00437298\n",
      "[53]\tcv_agg's binary_logloss: 0.176127 + 0.00116064\tcv_agg's pr_auc: 0.085028 + 0.00421292\n",
      "[54]\tcv_agg's binary_logloss: 0.176101 + 0.00116225\tcv_agg's pr_auc: 0.085135 + 0.00429212\n",
      "[55]\tcv_agg's binary_logloss: 0.17607 + 0.0011254\tcv_agg's pr_auc: 0.0854532 + 0.00423363\n",
      "[56]\tcv_agg's binary_logloss: 0.176045 + 0.00113764\tcv_agg's pr_auc: 0.0852843 + 0.00424275\n",
      "[57]\tcv_agg's binary_logloss: 0.176034 + 0.00116032\tcv_agg's pr_auc: 0.0853066 + 0.00429893\n",
      "[58]\tcv_agg's binary_logloss: 0.175991 + 0.00114216\tcv_agg's pr_auc: 0.0853722 + 0.00406245\n",
      "[59]\tcv_agg's binary_logloss: 0.175983 + 0.00113397\tcv_agg's pr_auc: 0.0855497 + 0.00413903\n",
      "[60]\tcv_agg's binary_logloss: 0.175991 + 0.00109258\tcv_agg's pr_auc: 0.085284 + 0.003889\n",
      "[61]\tcv_agg's binary_logloss: 0.176003 + 0.00109932\tcv_agg's pr_auc: 0.0854716 + 0.00389949\n",
      "[62]\tcv_agg's binary_logloss: 0.176031 + 0.00111008\tcv_agg's pr_auc: 0.0853891 + 0.00393387\n",
      "[63]\tcv_agg's binary_logloss: 0.176039 + 0.00114208\tcv_agg's pr_auc: 0.0855261 + 0.004057\n",
      "[64]\tcv_agg's binary_logloss: 0.176031 + 0.00116134\tcv_agg's pr_auc: 0.085633 + 0.00421733\n",
      "[65]\tcv_agg's binary_logloss: 0.176046 + 0.00119341\tcv_agg's pr_auc: 0.0856122 + 0.00431079\n",
      "[66]\tcv_agg's binary_logloss: 0.176066 + 0.00121404\tcv_agg's pr_auc: 0.08552 + 0.00435622\n",
      "[67]\tcv_agg's binary_logloss: 0.176073 + 0.0012162\tcv_agg's pr_auc: 0.0855073 + 0.00424666\n",
      "[68]\tcv_agg's binary_logloss: 0.176072 + 0.00120921\tcv_agg's pr_auc: 0.0853465 + 0.00419288\n",
      "[69]\tcv_agg's binary_logloss: 0.17609 + 0.00118643\tcv_agg's pr_auc: 0.0852719 + 0.00400538\n",
      "[70]\tcv_agg's binary_logloss: 0.176117 + 0.00120287\tcv_agg's pr_auc: 0.0852375 + 0.0040599\n",
      "[71]\tcv_agg's binary_logloss: 0.176137 + 0.00121642\tcv_agg's pr_auc: 0.0852134 + 0.00400546\n",
      "[72]\tcv_agg's binary_logloss: 0.176148 + 0.00121416\tcv_agg's pr_auc: 0.085251 + 0.00404982\n",
      "[73]\tcv_agg's binary_logloss: 0.176199 + 0.00122791\tcv_agg's pr_auc: 0.0851696 + 0.0040286\n",
      "[74]\tcv_agg's binary_logloss: 0.17622 + 0.00122081\tcv_agg's pr_auc: 0.085127 + 0.00403554\n",
      "[75]\tcv_agg's binary_logloss: 0.176227 + 0.00121571\tcv_agg's pr_auc: 0.0851718 + 0.00395443\n",
      "[76]\tcv_agg's binary_logloss: 0.176274 + 0.00118517\tcv_agg's pr_auc: 0.0850662 + 0.00382473\n",
      "[77]\tcv_agg's binary_logloss: 0.176309 + 0.00118517\tcv_agg's pr_auc: 0.084967 + 0.00374126\n",
      "[78]\tcv_agg's binary_logloss: 0.176365 + 0.00119749\tcv_agg's pr_auc: 0.0847465 + 0.0037704\n",
      "[79]\tcv_agg's binary_logloss: 0.176372 + 0.00118504\tcv_agg's pr_auc: 0.0847013 + 0.00384584\n",
      "0.0855497148087\n",
      "59\n"
     ]
    }
   ],
   "source": [
    "np.random.seed(rand_state)\n",
    "res = lgb.cv(best_params, ld_train, num_boost_round=boost_round, nfold=nfolds, feval=pr_auc_score_lgb, early_stopping_rounds=20, \n",
    "             show_stdv=True, callbacks=[lgb.print_evaluation(period=1, show_stdv=True)])\n",
    "print (res.get(\"pr_auc-mean\")[-1])\n",
    "best_num_boost_round = len(res[list(res)[0]])\n",
    "print(best_num_boost_round)"
   ]
  },
  {
   "cell_type": "code",
   "execution_count": 61,
   "metadata": {
    "ExecuteTime": {
     "end_time": "2018-03-04T19:13:59.800927Z",
     "start_time": "2018-03-04T19:13:59.285122Z"
    },
    "collapsed": true
   },
   "outputs": [],
   "source": [
    "clf = lgb.train(best_params, ld_train, num_boost_round=best_num_boost_round, feval=pr_auc_score_lgb)\n",
    "y_score = clf.predict(X_test)"
   ]
  },
  {
   "cell_type": "code",
   "execution_count": 62,
   "metadata": {
    "ExecuteTime": {
     "end_time": "2018-03-04T19:13:59.816527Z",
     "start_time": "2018-03-04T19:13:59.800927Z"
    },
    "collapsed": false
   },
   "outputs": [
    {
     "data": {
      "text/plain": [
       "('pr_auc', 0.095632777815455983)"
      ]
     },
     "execution_count": 62,
     "metadata": {},
     "output_type": "execute_result"
    }
   ],
   "source": [
    "y_test1 = y_test.drop(col2est2, axis=1)\n",
    "pr_auc_score(y_test1, y_score)"
   ]
  },
  {
   "cell_type": "code",
   "execution_count": 63,
   "metadata": {
    "ExecuteTime": {
     "end_time": "2018-03-04T19:14:02.964651Z",
     "start_time": "2018-03-04T19:14:01.867601Z"
    },
    "collapsed": false
   },
   "outputs": [
    {
     "data": {
      "text/plain": [
       "Text(0.5,1,'2-class Precision-Recall curve: \\naverage precision score=0.0957608429504\\nAUC-PRC = 0.0956327778155')"
      ]
     },
     "execution_count": 63,
     "metadata": {},
     "output_type": "execute_result"
    },
    {
     "data": {
      "image/png": "[encoded data removed]",
      "text/plain": [
       "<matplotlib.figure.Figure at 0x25df2d68>"
      ]
     },
     "metadata": {},
     "output_type": "display_data"
    }
   ],
   "source": [
    "average_precision = average_precision_score(y_test1, y_score)\n",
    "\n",
    "precisions, recalls, thresholds = precision_recall_curve(y_test1, y_score)\n",
    "fig = plt.figure( figsize=(15, 10))\n",
    "plt.step(recalls, precisions, color='b', alpha=0.2, where='post')\n",
    "plt.fill_between(recalls, precisions, step='post', alpha=0.2, color='b')\n",
    "plt.xlabel('Recall')\n",
    "plt.ylabel('Precision')\n",
    "plt.ylim([0.0, 1.05])\n",
    "plt.xlim([0.0, 1.05])\n",
    "plt.title('2-class Precision-Recall curve: \\naverage precision score='+ str(average_precision) + \n",
    "          '\\nAUC-PRC = ' + str(auc(recalls, precisions, reorder=True)))"
   ]
  },
  {
   "cell_type": "code",
   "execution_count": 64,
   "metadata": {
    "ExecuteTime": {
     "end_time": "2018-03-04T19:14:06.317334Z",
     "start_time": "2018-03-04T19:14:06.292332Z"
    },
    "collapsed": true
   },
   "outputs": [],
   "source": [
    "results = y_test.copy()\n",
    "results['Score'] = y_score\n",
    "res = list()\n",
    "for i in np.arange(0, len(thresholds)):\n",
    "    res.append(abs((1 - precisions[i]) - (1 - recalls[i])))"
   ]
  },
  {
   "cell_type": "code",
   "execution_count": 65,
   "metadata": {
    "ExecuteTime": {
     "end_time": "2018-03-04T19:14:07.374773Z",
     "start_time": "2018-03-04T19:14:07.343573Z"
    },
    "collapsed": false
   },
   "outputs": [
    {
     "name": "stdout",
     "output_type": "stream",
     "text": [
      "threshold  0.105141910917 \n",
      "precision  0.115201900238 \n",
      "recall  0.115201900238\n"
     ]
    }
   ],
   "source": [
    "threshold = thresholds[np.argmin(res)]\n",
    "precision = precisions[np.argmin(res)]\n",
    "recall = recalls[np.argmin(res)]\n",
    "print('threshold ', threshold, '\\nprecision ', precision, '\\nrecall ', recall)"
   ]
  },
  {
   "cell_type": "code",
   "execution_count": 66,
   "metadata": {
    "ExecuteTime": {
     "end_time": "2018-03-04T19:14:09.161841Z",
     "start_time": "2018-03-04T19:14:09.038636Z"
    },
    "collapsed": false,
    "scrolled": false
   },
   "outputs": [
    {
     "name": "stdout",
     "output_type": "stream",
     "text": [
      "FP:  745\n",
      "TP:  97\n",
      "FN:  745\n",
      "TN:  16079\n"
     ]
    },
    {
     "data": {
      "text/html": [
       "<div>\n",
       "<style scoped>\n",
       "    .dataframe tbody tr th:only-of-type {\n",
       "        vertical-align: middle;\n",
       "    }\n",
       "\n",
       "    .dataframe tbody tr th {\n",
       "        vertical-align: top;\n",
       "    }\n",
       "\n",
       "    .dataframe thead th {\n",
       "        text-align: right;\n",
       "    }\n",
       "</style>\n",
       "<table border=\"1\" class=\"dataframe\">\n",
       "  <thead>\n",
       "    <tr style=\"text-align: right;\">\n",
       "      <th></th>\n",
       "      <th>grow</th>\n",
       "      <th>fall</th>\n",
       "      <th>Score</th>\n",
       "      <th>grow_b</th>\n",
       "    </tr>\n",
       "    <tr>\n",
       "      <th>datetime</th>\n",
       "      <th></th>\n",
       "      <th></th>\n",
       "      <th></th>\n",
       "      <th></th>\n",
       "    </tr>\n",
       "  </thead>\n",
       "  <tbody>\n",
       "    <tr>\n",
       "      <th>2017-08-30 09:23:00</th>\n",
       "      <td>0</td>\n",
       "      <td>0</td>\n",
       "      <td>0.106681</td>\n",
       "      <td>1</td>\n",
       "    </tr>\n",
       "    <tr>\n",
       "      <th>2017-09-06 01:54:00</th>\n",
       "      <td>0</td>\n",
       "      <td>0</td>\n",
       "      <td>0.106681</td>\n",
       "      <td>1</td>\n",
       "    </tr>\n",
       "    <tr>\n",
       "      <th>2017-09-05 01:40:00</th>\n",
       "      <td>1</td>\n",
       "      <td>0</td>\n",
       "      <td>0.106681</td>\n",
       "      <td>1</td>\n",
       "    </tr>\n",
       "    <tr>\n",
       "      <th>2017-08-10 07:16:00</th>\n",
       "      <td>0</td>\n",
       "      <td>0</td>\n",
       "      <td>0.106635</td>\n",
       "      <td>1</td>\n",
       "    </tr>\n",
       "    <tr>\n",
       "      <th>2017-10-24 12:23:00</th>\n",
       "      <td>0</td>\n",
       "      <td>0</td>\n",
       "      <td>0.106607</td>\n",
       "      <td>1</td>\n",
       "    </tr>\n",
       "    <tr>\n",
       "      <th>2017-08-20 21:05:00</th>\n",
       "      <td>0</td>\n",
       "      <td>0</td>\n",
       "      <td>0.106607</td>\n",
       "      <td>1</td>\n",
       "    </tr>\n",
       "    <tr>\n",
       "      <th>2017-09-21 07:36:00</th>\n",
       "      <td>0</td>\n",
       "      <td>0</td>\n",
       "      <td>0.106535</td>\n",
       "      <td>1</td>\n",
       "    </tr>\n",
       "    <tr>\n",
       "      <th>2017-09-20 20:46:00</th>\n",
       "      <td>0</td>\n",
       "      <td>0</td>\n",
       "      <td>0.106535</td>\n",
       "      <td>1</td>\n",
       "    </tr>\n",
       "    <tr>\n",
       "      <th>2017-08-17 17:26:00</th>\n",
       "      <td>1</td>\n",
       "      <td>0</td>\n",
       "      <td>0.106503</td>\n",
       "      <td>1</td>\n",
       "    </tr>\n",
       "    <tr>\n",
       "      <th>2017-09-15 17:34:00</th>\n",
       "      <td>0</td>\n",
       "      <td>0</td>\n",
       "      <td>0.106476</td>\n",
       "      <td>1</td>\n",
       "    </tr>\n",
       "    <tr>\n",
       "      <th>2017-10-02 14:14:00</th>\n",
       "      <td>0</td>\n",
       "      <td>0</td>\n",
       "      <td>0.106414</td>\n",
       "      <td>1</td>\n",
       "    </tr>\n",
       "    <tr>\n",
       "      <th>2017-10-20 08:56:00</th>\n",
       "      <td>0</td>\n",
       "      <td>0</td>\n",
       "      <td>0.106406</td>\n",
       "      <td>1</td>\n",
       "    </tr>\n",
       "    <tr>\n",
       "      <th>2017-09-26 17:53:00</th>\n",
       "      <td>0</td>\n",
       "      <td>0</td>\n",
       "      <td>0.106406</td>\n",
       "      <td>1</td>\n",
       "    </tr>\n",
       "    <tr>\n",
       "      <th>2017-10-27 07:51:00</th>\n",
       "      <td>0</td>\n",
       "      <td>0</td>\n",
       "      <td>0.106380</td>\n",
       "      <td>1</td>\n",
       "    </tr>\n",
       "    <tr>\n",
       "      <th>2017-09-06 09:03:00</th>\n",
       "      <td>0</td>\n",
       "      <td>0</td>\n",
       "      <td>0.106314</td>\n",
       "      <td>1</td>\n",
       "    </tr>\n",
       "    <tr>\n",
       "      <th>2017-09-18 03:26:00</th>\n",
       "      <td>0</td>\n",
       "      <td>0</td>\n",
       "      <td>0.106314</td>\n",
       "      <td>1</td>\n",
       "    </tr>\n",
       "    <tr>\n",
       "      <th>2017-08-31 07:00:00</th>\n",
       "      <td>0</td>\n",
       "      <td>0</td>\n",
       "      <td>0.106278</td>\n",
       "      <td>1</td>\n",
       "    </tr>\n",
       "    <tr>\n",
       "      <th>2017-09-11 07:19:00</th>\n",
       "      <td>0</td>\n",
       "      <td>0</td>\n",
       "      <td>0.106212</td>\n",
       "      <td>1</td>\n",
       "    </tr>\n",
       "    <tr>\n",
       "      <th>2017-09-07 17:51:00</th>\n",
       "      <td>0</td>\n",
       "      <td>0</td>\n",
       "      <td>0.106212</td>\n",
       "      <td>1</td>\n",
       "    </tr>\n",
       "    <tr>\n",
       "      <th>2017-08-08 16:15:00</th>\n",
       "      <td>0</td>\n",
       "      <td>0</td>\n",
       "      <td>0.106210</td>\n",
       "      <td>1</td>\n",
       "    </tr>\n",
       "    <tr>\n",
       "      <th>2017-09-25 06:12:00</th>\n",
       "      <td>0</td>\n",
       "      <td>0</td>\n",
       "      <td>0.106131</td>\n",
       "      <td>1</td>\n",
       "    </tr>\n",
       "    <tr>\n",
       "      <th>2017-09-20 06:39:00</th>\n",
       "      <td>0</td>\n",
       "      <td>0</td>\n",
       "      <td>0.106118</td>\n",
       "      <td>1</td>\n",
       "    </tr>\n",
       "    <tr>\n",
       "      <th>2017-09-19 18:40:00</th>\n",
       "      <td>0</td>\n",
       "      <td>0</td>\n",
       "      <td>0.106118</td>\n",
       "      <td>1</td>\n",
       "    </tr>\n",
       "    <tr>\n",
       "      <th>2017-09-27 15:16:00</th>\n",
       "      <td>0</td>\n",
       "      <td>0</td>\n",
       "      <td>0.106090</td>\n",
       "      <td>1</td>\n",
       "    </tr>\n",
       "    <tr>\n",
       "      <th>2017-08-18 15:39:00</th>\n",
       "      <td>0</td>\n",
       "      <td>0</td>\n",
       "      <td>0.106090</td>\n",
       "      <td>1</td>\n",
       "    </tr>\n",
       "    <tr>\n",
       "      <th>2017-09-27 09:29:00</th>\n",
       "      <td>0</td>\n",
       "      <td>0</td>\n",
       "      <td>0.106040</td>\n",
       "      <td>1</td>\n",
       "    </tr>\n",
       "    <tr>\n",
       "      <th>2017-08-16 07:01:00</th>\n",
       "      <td>0</td>\n",
       "      <td>1</td>\n",
       "      <td>0.105961</td>\n",
       "      <td>1</td>\n",
       "    </tr>\n",
       "    <tr>\n",
       "      <th>2017-09-22 01:15:00</th>\n",
       "      <td>0</td>\n",
       "      <td>0</td>\n",
       "      <td>0.105947</td>\n",
       "      <td>1</td>\n",
       "    </tr>\n",
       "    <tr>\n",
       "      <th>2017-08-03 17:54:00</th>\n",
       "      <td>0</td>\n",
       "      <td>0</td>\n",
       "      <td>0.105937</td>\n",
       "      <td>1</td>\n",
       "    </tr>\n",
       "    <tr>\n",
       "      <th>2017-08-03 12:13:00</th>\n",
       "      <td>0</td>\n",
       "      <td>0</td>\n",
       "      <td>0.105924</td>\n",
       "      <td>1</td>\n",
       "    </tr>\n",
       "    <tr>\n",
       "      <th>2017-10-06 07:20:00</th>\n",
       "      <td>0</td>\n",
       "      <td>0</td>\n",
       "      <td>0.105868</td>\n",
       "      <td>1</td>\n",
       "    </tr>\n",
       "    <tr>\n",
       "      <th>2017-08-04 11:04:00</th>\n",
       "      <td>0</td>\n",
       "      <td>0</td>\n",
       "      <td>0.105758</td>\n",
       "      <td>1</td>\n",
       "    </tr>\n",
       "    <tr>\n",
       "      <th>2017-10-11 19:44:00</th>\n",
       "      <td>0</td>\n",
       "      <td>0</td>\n",
       "      <td>0.105758</td>\n",
       "      <td>1</td>\n",
       "    </tr>\n",
       "    <tr>\n",
       "      <th>2017-08-03 14:43:00</th>\n",
       "      <td>1</td>\n",
       "      <td>0</td>\n",
       "      <td>0.105758</td>\n",
       "      <td>1</td>\n",
       "    </tr>\n",
       "    <tr>\n",
       "      <th>2017-10-25 10:40:00</th>\n",
       "      <td>0</td>\n",
       "      <td>0</td>\n",
       "      <td>0.105660</td>\n",
       "      <td>1</td>\n",
       "    </tr>\n",
       "    <tr>\n",
       "      <th>2017-09-28 16:46:00</th>\n",
       "      <td>0</td>\n",
       "      <td>0</td>\n",
       "      <td>0.105660</td>\n",
       "      <td>1</td>\n",
       "    </tr>\n",
       "    <tr>\n",
       "      <th>2017-09-19 05:51:00</th>\n",
       "      <td>0</td>\n",
       "      <td>0</td>\n",
       "      <td>0.105596</td>\n",
       "      <td>1</td>\n",
       "    </tr>\n",
       "    <tr>\n",
       "      <th>2017-10-25 16:18:00</th>\n",
       "      <td>1</td>\n",
       "      <td>0</td>\n",
       "      <td>0.105545</td>\n",
       "      <td>1</td>\n",
       "    </tr>\n",
       "    <tr>\n",
       "      <th>2017-09-21 12:13:00</th>\n",
       "      <td>0</td>\n",
       "      <td>0</td>\n",
       "      <td>0.105506</td>\n",
       "      <td>1</td>\n",
       "    </tr>\n",
       "    <tr>\n",
       "      <th>2017-08-02 17:12:00</th>\n",
       "      <td>0</td>\n",
       "      <td>0</td>\n",
       "      <td>0.105506</td>\n",
       "      <td>1</td>\n",
       "    </tr>\n",
       "    <tr>\n",
       "      <th>2017-08-31 20:46:00</th>\n",
       "      <td>0</td>\n",
       "      <td>0</td>\n",
       "      <td>0.105506</td>\n",
       "      <td>1</td>\n",
       "    </tr>\n",
       "    <tr>\n",
       "      <th>2017-09-25 09:11:00</th>\n",
       "      <td>0</td>\n",
       "      <td>0</td>\n",
       "      <td>0.105506</td>\n",
       "      <td>1</td>\n",
       "    </tr>\n",
       "    <tr>\n",
       "      <th>2017-09-01 09:11:00</th>\n",
       "      <td>1</td>\n",
       "      <td>0</td>\n",
       "      <td>0.105506</td>\n",
       "      <td>1</td>\n",
       "    </tr>\n",
       "    <tr>\n",
       "      <th>2017-09-08 09:14:00</th>\n",
       "      <td>0</td>\n",
       "      <td>0</td>\n",
       "      <td>0.105322</td>\n",
       "      <td>1</td>\n",
       "    </tr>\n",
       "    <tr>\n",
       "      <th>2017-09-22 09:47:00</th>\n",
       "      <td>0</td>\n",
       "      <td>0</td>\n",
       "      <td>0.105305</td>\n",
       "      <td>1</td>\n",
       "    </tr>\n",
       "    <tr>\n",
       "      <th>2017-08-29 10:57:00</th>\n",
       "      <td>0</td>\n",
       "      <td>0</td>\n",
       "      <td>0.105294</td>\n",
       "      <td>1</td>\n",
       "    </tr>\n",
       "    <tr>\n",
       "      <th>2017-09-12 14:16:00</th>\n",
       "      <td>0</td>\n",
       "      <td>0</td>\n",
       "      <td>0.105254</td>\n",
       "      <td>1</td>\n",
       "    </tr>\n",
       "    <tr>\n",
       "      <th>2017-09-25 11:35:00</th>\n",
       "      <td>0</td>\n",
       "      <td>0</td>\n",
       "      <td>0.105218</td>\n",
       "      <td>1</td>\n",
       "    </tr>\n",
       "    <tr>\n",
       "      <th>2017-08-03 22:37:00</th>\n",
       "      <td>0</td>\n",
       "      <td>0</td>\n",
       "      <td>0.105218</td>\n",
       "      <td>1</td>\n",
       "    </tr>\n",
       "    <tr>\n",
       "      <th>2017-11-09 11:42:00</th>\n",
       "      <td>0</td>\n",
       "      <td>0</td>\n",
       "      <td>0.105142</td>\n",
       "      <td>1</td>\n",
       "    </tr>\n",
       "  </tbody>\n",
       "</table>\n",
       "</div>"
      ],
      "text/plain": [
       "                     grow  fall     Score  grow_b\n",
       "datetime                                         \n",
       "2017-08-30 09:23:00     0     0  0.106681       1\n",
       "2017-09-06 01:54:00     0     0  0.106681       1\n",
       "2017-09-05 01:40:00     1     0  0.106681       1\n",
       "2017-08-10 07:16:00     0     0  0.106635       1\n",
       "2017-10-24 12:23:00     0     0  0.106607       1\n",
       "2017-08-20 21:05:00     0     0  0.106607       1\n",
       "2017-09-21 07:36:00     0     0  0.106535       1\n",
       "2017-09-20 20:46:00     0     0  0.106535       1\n",
       "2017-08-17 17:26:00     1     0  0.106503       1\n",
       "2017-09-15 17:34:00     0     0  0.106476       1\n",
       "2017-10-02 14:14:00     0     0  0.106414       1\n",
       "2017-10-20 08:56:00     0     0  0.106406       1\n",
       "2017-09-26 17:53:00     0     0  0.106406       1\n",
       "2017-10-27 07:51:00     0     0  0.106380       1\n",
       "2017-09-06 09:03:00     0     0  0.106314       1\n",
       "2017-09-18 03:26:00     0     0  0.106314       1\n",
       "2017-08-31 07:00:00     0     0  0.106278       1\n",
       "2017-09-11 07:19:00     0     0  0.106212       1\n",
       "2017-09-07 17:51:00     0     0  0.106212       1\n",
       "2017-08-08 16:15:00     0     0  0.106210       1\n",
       "2017-09-25 06:12:00     0     0  0.106131       1\n",
       "2017-09-20 06:39:00     0     0  0.106118       1\n",
       "2017-09-19 18:40:00     0     0  0.106118       1\n",
       "2017-09-27 15:16:00     0     0  0.106090       1\n",
       "2017-08-18 15:39:00     0     0  0.106090       1\n",
       "2017-09-27 09:29:00     0     0  0.106040       1\n",
       "2017-08-16 07:01:00     0     1  0.105961       1\n",
       "2017-09-22 01:15:00     0     0  0.105947       1\n",
       "2017-08-03 17:54:00     0     0  0.105937       1\n",
       "2017-08-03 12:13:00     0     0  0.105924       1\n",
       "2017-10-06 07:20:00     0     0  0.105868       1\n",
       "2017-08-04 11:04:00     0     0  0.105758       1\n",
       "2017-10-11 19:44:00     0     0  0.105758       1\n",
       "2017-08-03 14:43:00     1     0  0.105758       1\n",
       "2017-10-25 10:40:00     0     0  0.105660       1\n",
       "2017-09-28 16:46:00     0     0  0.105660       1\n",
       "2017-09-19 05:51:00     0     0  0.105596       1\n",
       "2017-10-25 16:18:00     1     0  0.105545       1\n",
       "2017-09-21 12:13:00     0     0  0.105506       1\n",
       "2017-08-02 17:12:00     0     0  0.105506       1\n",
       "2017-08-31 20:46:00     0     0  0.105506       1\n",
       "2017-09-25 09:11:00     0     0  0.105506       1\n",
       "2017-09-01 09:11:00     1     0  0.105506       1\n",
       "2017-09-08 09:14:00     0     0  0.105322       1\n",
       "2017-09-22 09:47:00     0     0  0.105305       1\n",
       "2017-08-29 10:57:00     0     0  0.105294       1\n",
       "2017-09-12 14:16:00     0     0  0.105254       1\n",
       "2017-09-25 11:35:00     0     0  0.105218       1\n",
       "2017-08-03 22:37:00     0     0  0.105218       1\n",
       "2017-11-09 11:42:00     0     0  0.105142       1"
      ]
     },
     "execution_count": 66,
     "metadata": {},
     "output_type": "execute_result"
    }
   ],
   "source": [
    "results['grow_b'] = results['Score'].apply(lambda x: 1 if x >= threshold  else 0)\n",
    "print('FP: ', results[(results.grow_b==0) & (results.grow==1)].shape[0])\n",
    "print('TP: ',results[(results.grow_b==1) & (results.grow==1)].shape[0])\n",
    "print('FN: ', results[(results.grow_b==1) & (results.grow==0)].shape[0])\n",
    "print('TN: ',results[(results.grow_b==0) & (results.grow==0)].shape[0])\n",
    "results[results.grow_b==1].sort_values('Score', ascending=False).tail(50)"
   ]
  },
  {
   "cell_type": "code",
   "execution_count": 67,
   "metadata": {
    "ExecuteTime": {
     "end_time": "2018-03-04T19:14:18.003583Z",
     "start_time": "2018-03-04T19:14:16.688370Z"
    },
    "collapsed": false
   },
   "outputs": [
    {
     "data": {
      "text/plain": [
       "<matplotlib.axes._subplots.AxesSubplot at 0x32980ac8>"
      ]
     },
     "execution_count": 67,
     "metadata": {},
     "output_type": "execute_result"
    },
    {
     "data": {
      "image/png": "[encoded data removed]",
      "text/plain": [
       "<matplotlib.figure.Figure at 0x329807f0>"
      ]
     },
     "metadata": {},
     "output_type": "display_data"
    }
   ],
   "source": [
    "fig = plt.figure( figsize=(20, 20))\n",
    "ax = fig.add_subplot(111)\n",
    "lgb.plot_importance(clf, ax)"
   ]
  },
  {
   "cell_type": "markdown",
   "metadata": {
    "ExecuteTime": {
     "end_time": "2018-03-04T19:17:16.629911Z",
     "start_time": "2018-03-04T19:17:16.614311Z"
    }
   },
   "source": [
    "## CNN"
   ]
  },
  {
   "cell_type": "code",
   "execution_count": 44,
   "metadata": {
    "ExecuteTime": {
     "end_time": "2018-03-04T21:43:56.911988Z",
     "start_time": "2018-03-04T21:43:56.884387Z"
    },
    "collapsed": false
   },
   "outputs": [],
   "source": [
    "from sklearn import preprocessing\n",
    "from sklearn.metrics import mean_squared_error, classification_report\n",
    "import matplotlib.pylab as plt\n",
    "import datetime as dt\n",
    "import time\n",
    "\n",
    "from keras.models import Sequential\n",
    "from keras.layers.core import Dense, Dropout, Activation, Flatten\n",
    "from keras.layers.recurrent import LSTM, GRU\n",
    "from keras.layers import Conv1D, MaxPooling1D"
   ]
  },
  {
   "cell_type": "code",
   "execution_count": 29,
   "metadata": {
    "ExecuteTime": {
     "end_time": "2018-03-04T19:17:41.362607Z",
     "start_time": "2018-03-04T19:17:41.292405Z"
    },
    "collapsed": true
   },
   "outputs": [],
   "source": [
    "data=pd.read_pickle('data1m.pkl')"
   ]
  },
  {
   "cell_type": "code",
   "execution_count": 51,
   "metadata": {
    "ExecuteTime": {
     "end_time": "2018-03-04T21:56:28.459610Z",
     "start_time": "2018-03-04T21:56:28.316003Z"
    },
    "collapsed": false
   },
   "outputs": [],
   "source": [
    "def split_into_chunks(data, train, predict, step, binary=True, scale=True):\n",
    "    X, Y = [], []\n",
    "    for i in range(0, len(data), step):\n",
    "        try:\n",
    "            x_i = data[i:i+train]\n",
    "            y_i = data[i+train+predict]\n",
    "            if binary:\n",
    "                if y_i > 0.:\n",
    "                    y_i = [1., 0.]\n",
    "                else:\n",
    "                    y_i = [0., 1.]\n",
    "\n",
    "                if scale: x_i = preprocessing.scale(x_i)\n",
    "            else:\n",
    "                timeseries = np.array(data[i:i+train+predict])\n",
    "                if scale: timeseries = preprocessing.scale(timeseries)\n",
    "                x_i = timeseries[:-1]\n",
    "                y_i = timeseries[-1]\n",
    "        except:\n",
    "            break\n",
    "\n",
    "        X.append(x_i)\n",
    "        Y.append(y_i)\n",
    "    return X, Y\n",
    "\n",
    "def shuffle_in_unison(a, b):\n",
    "    # courtsey http://stackoverflow.com/users/190280/josh-bleecher-snyder\n",
    "    assert len(a) == len(b)\n",
    "    shuffled_a = np.empty(a.shape, dtype=a.dtype)\n",
    "    shuffled_b = np.empty(b.shape, dtype=b.dtype)\n",
    "    permutation = np.random.permutation(len(a))\n",
    "    for old_index, new_index in enumerate(permutation):\n",
    "        shuffled_a[new_index] = a[old_index]\n",
    "        shuffled_b[new_index] = b[old_index]\n",
    "    return shuffled_a, shuffled_b\n",
    "\n",
    "\n",
    "def create_Xt_Yt(X, y, percentage=0.8):\n",
    "    split_index = int(len(X) * percentage)\n",
    "    X_train = X[0:split_index]\n",
    "    Y_train = y[0:split_index]\n",
    "    #X_train, Y_train = shuffle_in_unison(X_train, Y_train)\n",
    "    X_test = X[split_index:]\n",
    "    Y_test = y[split_index:]\n",
    "    return X_train, X_test, Y_train, Y_test"
   ]
  },
  {
   "cell_type": "code",
   "execution_count": 72,
   "metadata": {
    "ExecuteTime": {
     "end_time": "2018-03-04T22:26:10.623433Z",
     "start_time": "2018-03-04T22:26:10.615433Z"
    },
    "collapsed": true
   },
   "outputs": [],
   "source": [
    "TRAIN_SIZE = 4#20\n",
    "TARGET_TIME = 1\n",
    "LAG_SIZE = 1\n",
    "EMB_SIZE = 1"
   ]
  },
  {
   "cell_type": "code",
   "execution_count": 35,
   "metadata": {
    "ExecuteTime": {
     "end_time": "2018-03-04T21:32:09.377138Z",
     "start_time": "2018-03-04T21:32:09.284934Z"
    },
    "collapsed": false
   },
   "outputs": [
    {
     "data": {
      "text/html": [
       "<div>\n",
       "<style scoped>\n",
       "    .dataframe tbody tr th:only-of-type {\n",
       "        vertical-align: middle;\n",
       "    }\n",
       "\n",
       "    .dataframe tbody tr th {\n",
       "        vertical-align: top;\n",
       "    }\n",
       "\n",
       "    .dataframe thead th {\n",
       "        text-align: right;\n",
       "    }\n",
       "</style>\n",
       "<table border=\"1\" class=\"dataframe\">\n",
       "  <thead>\n",
       "    <tr style=\"text-align: right;\">\n",
       "      <th></th>\n",
       "      <th>open</th>\n",
       "      <th>max</th>\n",
       "      <th>min</th>\n",
       "      <th>close</th>\n",
       "      <th>vol</th>\n",
       "      <th>mean_o</th>\n",
       "      <th>mean_m</th>\n",
       "      <th>delta_oc</th>\n",
       "      <th>delta_mm</th>\n",
       "      <th>delta_mo</th>\n",
       "      <th>delta_cm</th>\n",
       "      <th>delta0_oc</th>\n",
       "      <th>delta0_mm</th>\n",
       "      <th>delta0_mo</th>\n",
       "      <th>delta0_cm</th>\n",
       "      <th>grow</th>\n",
       "      <th>fall</th>\n",
       "    </tr>\n",
       "    <tr>\n",
       "      <th>datetime</th>\n",
       "      <th></th>\n",
       "      <th></th>\n",
       "      <th></th>\n",
       "      <th></th>\n",
       "      <th></th>\n",
       "      <th></th>\n",
       "      <th></th>\n",
       "      <th></th>\n",
       "      <th></th>\n",
       "      <th></th>\n",
       "      <th></th>\n",
       "      <th></th>\n",
       "      <th></th>\n",
       "      <th></th>\n",
       "      <th></th>\n",
       "      <th></th>\n",
       "      <th></th>\n",
       "    </tr>\n",
       "  </thead>\n",
       "  <tbody>\n",
       "    <tr>\n",
       "      <th>2017-08-02 13:34:00</th>\n",
       "      <td>1.1823</td>\n",
       "      <td>1.1826</td>\n",
       "      <td>1.1822</td>\n",
       "      <td>1.1826</td>\n",
       "      <td>14</td>\n",
       "      <td>1.18245</td>\n",
       "      <td>1.18240</td>\n",
       "      <td>-0.0003</td>\n",
       "      <td>0.0004</td>\n",
       "      <td>0.0003</td>\n",
       "      <td>0.0004</td>\n",
       "      <td>-0.000254</td>\n",
       "      <td>0.000338</td>\n",
       "      <td>0.000254</td>\n",
       "      <td>0.000338</td>\n",
       "      <td>0</td>\n",
       "      <td>0</td>\n",
       "    </tr>\n",
       "    <tr>\n",
       "      <th>2017-08-02 13:35:00</th>\n",
       "      <td>1.1827</td>\n",
       "      <td>1.1827</td>\n",
       "      <td>1.1825</td>\n",
       "      <td>1.1826</td>\n",
       "      <td>20</td>\n",
       "      <td>1.18265</td>\n",
       "      <td>1.18260</td>\n",
       "      <td>0.0001</td>\n",
       "      <td>0.0002</td>\n",
       "      <td>0.0000</td>\n",
       "      <td>0.0001</td>\n",
       "      <td>0.000085</td>\n",
       "      <td>0.000169</td>\n",
       "      <td>0.000000</td>\n",
       "      <td>0.000085</td>\n",
       "      <td>0</td>\n",
       "      <td>0</td>\n",
       "    </tr>\n",
       "    <tr>\n",
       "      <th>2017-08-02 13:36:00</th>\n",
       "      <td>1.1825</td>\n",
       "      <td>1.1827</td>\n",
       "      <td>1.1824</td>\n",
       "      <td>1.1827</td>\n",
       "      <td>21</td>\n",
       "      <td>1.18260</td>\n",
       "      <td>1.18255</td>\n",
       "      <td>-0.0002</td>\n",
       "      <td>0.0003</td>\n",
       "      <td>0.0002</td>\n",
       "      <td>0.0003</td>\n",
       "      <td>-0.000169</td>\n",
       "      <td>0.000254</td>\n",
       "      <td>0.000169</td>\n",
       "      <td>0.000254</td>\n",
       "      <td>1</td>\n",
       "      <td>0</td>\n",
       "    </tr>\n",
       "    <tr>\n",
       "      <th>2017-08-02 13:37:00</th>\n",
       "      <td>1.1826</td>\n",
       "      <td>1.1828</td>\n",
       "      <td>1.1826</td>\n",
       "      <td>1.1828</td>\n",
       "      <td>13</td>\n",
       "      <td>1.18270</td>\n",
       "      <td>1.18270</td>\n",
       "      <td>-0.0002</td>\n",
       "      <td>0.0002</td>\n",
       "      <td>0.0002</td>\n",
       "      <td>0.0002</td>\n",
       "      <td>-0.000169</td>\n",
       "      <td>0.000169</td>\n",
       "      <td>0.000169</td>\n",
       "      <td>0.000169</td>\n",
       "      <td>1</td>\n",
       "      <td>0</td>\n",
       "    </tr>\n",
       "    <tr>\n",
       "      <th>2017-08-02 13:38:00</th>\n",
       "      <td>1.1827</td>\n",
       "      <td>1.1829</td>\n",
       "      <td>1.1827</td>\n",
       "      <td>1.1827</td>\n",
       "      <td>15</td>\n",
       "      <td>1.18270</td>\n",
       "      <td>1.18280</td>\n",
       "      <td>0.0000</td>\n",
       "      <td>0.0002</td>\n",
       "      <td>0.0002</td>\n",
       "      <td>0.0000</td>\n",
       "      <td>0.000000</td>\n",
       "      <td>0.000169</td>\n",
       "      <td>0.000169</td>\n",
       "      <td>0.000000</td>\n",
       "      <td>0</td>\n",
       "      <td>0</td>\n",
       "    </tr>\n",
       "  </tbody>\n",
       "</table>\n",
       "</div>"
      ],
      "text/plain": [
       "                       open     max     min   close  vol   mean_o   mean_m  \\\n",
       "datetime                                                                     \n",
       "2017-08-02 13:34:00  1.1823  1.1826  1.1822  1.1826   14  1.18245  1.18240   \n",
       "2017-08-02 13:35:00  1.1827  1.1827  1.1825  1.1826   20  1.18265  1.18260   \n",
       "2017-08-02 13:36:00  1.1825  1.1827  1.1824  1.1827   21  1.18260  1.18255   \n",
       "2017-08-02 13:37:00  1.1826  1.1828  1.1826  1.1828   13  1.18270  1.18270   \n",
       "2017-08-02 13:38:00  1.1827  1.1829  1.1827  1.1827   15  1.18270  1.18280   \n",
       "\n",
       "                     delta_oc  delta_mm  delta_mo  delta_cm  delta0_oc  \\\n",
       "datetime                                                                 \n",
       "2017-08-02 13:34:00   -0.0003    0.0004    0.0003    0.0004  -0.000254   \n",
       "2017-08-02 13:35:00    0.0001    0.0002    0.0000    0.0001   0.000085   \n",
       "2017-08-02 13:36:00   -0.0002    0.0003    0.0002    0.0003  -0.000169   \n",
       "2017-08-02 13:37:00   -0.0002    0.0002    0.0002    0.0002  -0.000169   \n",
       "2017-08-02 13:38:00    0.0000    0.0002    0.0002    0.0000   0.000000   \n",
       "\n",
       "                     delta0_mm  delta0_mo  delta0_cm  grow  fall  \n",
       "datetime                                                          \n",
       "2017-08-02 13:34:00   0.000338   0.000254   0.000338     0     0  \n",
       "2017-08-02 13:35:00   0.000169   0.000000   0.000085     0     0  \n",
       "2017-08-02 13:36:00   0.000254   0.000169   0.000254     1     0  \n",
       "2017-08-02 13:37:00   0.000169   0.000169   0.000169     1     0  \n",
       "2017-08-02 13:38:00   0.000169   0.000169   0.000000     0     0  "
      ]
     },
     "execution_count": 35,
     "metadata": {},
     "output_type": "execute_result"
    }
   ],
   "source": [
    "data.head()"
   ]
  },
  {
   "cell_type": "code",
   "execution_count": 73,
   "metadata": {
    "ExecuteTime": {
     "end_time": "2018-03-04T22:26:12.468707Z",
     "start_time": "2018-03-04T22:26:12.437506Z"
    },
    "collapsed": false
   },
   "outputs": [],
   "source": [
    "X = data[['open', 'max', 'min', 'close']].as_matrix()\n",
    "X = np.expand_dims(X, axis=2)\n",
    "Y = data.grow.as_matrix()\n",
    "\n",
    "X_train, X_test, Y_train, Y_test = create_Xt_Yt(X, Y, percentage=0.9)"
   ]
  },
  {
   "cell_type": "code",
   "execution_count": 74,
   "metadata": {
    "ExecuteTime": {
     "end_time": "2018-03-04T22:26:14.158182Z",
     "start_time": "2018-03-04T22:26:14.147182Z"
    },
    "collapsed": false
   },
   "outputs": [
    {
     "data": {
      "text/plain": [
       "(79497, 4, 1)"
      ]
     },
     "execution_count": 74,
     "metadata": {},
     "output_type": "execute_result"
    }
   ],
   "source": [
    "X_train.shape"
   ]
  },
  {
   "cell_type": "code",
   "execution_count": 75,
   "metadata": {
    "ExecuteTime": {
     "end_time": "2018-03-04T22:26:15.793664Z",
     "start_time": "2018-03-04T22:26:15.139631Z"
    },
    "collapsed": false
   },
   "outputs": [
    {
     "name": "stderr",
     "output_type": "stream",
     "text": [
      "C:\\ProgramData\\Anaconda3\\lib\\site-packages\\ipykernel\\__main__.py:3: UserWarning: Update your `Conv1D` call to the Keras 2 API: `Conv1D(input_shape=(4, 1), activation=\"relu\", filters=64, kernel_size=2, strides=1, padding=\"valid\")`\n",
      "  app.launch_new_instance()\n",
      "C:\\ProgramData\\Anaconda3\\lib\\site-packages\\ipykernel\\__main__.py:4: UserWarning: Update your `MaxPooling1D` call to the Keras 2 API: `MaxPooling1D(pool_size=2)`\n"
     ]
    }
   ],
   "source": [
    "model = Sequential()\n",
    "model.add(Conv1D(input_shape=(TRAIN_SIZE, EMB_SIZE), nb_filter=64, filter_length=2, border_mode='valid',\n",
    "                        activation='relu',subsample_length=1))\n",
    "model.add(MaxPooling1D(pool_length=2))\n",
    "\n",
    "model.add(Dropout(0.25))\n",
    "model.add(Flatten())\n",
    "\n",
    "model.add(Dense(250))\n",
    "model.add(Dropout(0.25))\n",
    "model.add(Activation('relu'))\n",
    "model.add(Dense(2))\n",
    "model.add(Activation('softmax'))\n",
    "\n",
    "model.compile(optimizer='adam',loss='binary_crossentropy', metrics=['accuracy'])"
   ]
  },
  {
   "cell_type": "code",
   "execution_count": 76,
   "metadata": {
    "ExecuteTime": {
     "end_time": "2018-03-04T22:26:17.205525Z",
     "start_time": "2018-03-04T22:26:17.137323Z"
    },
    "collapsed": false
   },
   "outputs": [
    {
     "name": "stderr",
     "output_type": "stream",
     "text": [
      "C:\\ProgramData\\Anaconda3\\lib\\site-packages\\keras\\models.py:874: UserWarning: The `nb_epoch` argument in `fit` has been renamed `epochs`.\n",
      "  warnings.warn('The `nb_epoch` argument in `fit` '\n"
     ]
    },
    {
     "ename": "ValueError",
     "evalue": "Error when checking target: expected activation_14 to have shape (None, 2) but got array with shape (79497, 1)",
     "output_type": "error",
     "traceback": [
      "\u001b[0;31m---------------------------------------------------------------------------\u001b[0m",
      "\u001b[0;31mValueError\u001b[0m                                Traceback (most recent call last)",
      "\u001b[0;32m<ipython-input-76-e973eb50bc10>\u001b[0m in \u001b[0;36m<module>\u001b[0;34m()\u001b[0m\n\u001b[1;32m      4\u001b[0m           \u001b[0mbatch_size\u001b[0m \u001b[1;33m=\u001b[0m \u001b[1;36m128\u001b[0m\u001b[1;33m,\u001b[0m\u001b[1;33m\u001b[0m\u001b[0m\n\u001b[1;32m      5\u001b[0m           \u001b[0mverbose\u001b[0m\u001b[1;33m=\u001b[0m\u001b[1;36m1\u001b[0m\u001b[1;33m,\u001b[0m\u001b[1;33m\u001b[0m\u001b[0m\n\u001b[0;32m----> 6\u001b[0;31m           validation_split=0.1)\n\u001b[0m\u001b[1;32m      7\u001b[0m \u001b[0mscore\u001b[0m \u001b[1;33m=\u001b[0m \u001b[0mmodel\u001b[0m\u001b[1;33m.\u001b[0m\u001b[0mevaluate\u001b[0m\u001b[1;33m(\u001b[0m\u001b[0mX_test\u001b[0m\u001b[1;33m,\u001b[0m \u001b[0mY_test\u001b[0m\u001b[1;33m,\u001b[0m \u001b[0mbatch_size\u001b[0m\u001b[1;33m=\u001b[0m\u001b[1;36m128\u001b[0m\u001b[1;33m)\u001b[0m\u001b[1;33m\u001b[0m\u001b[0m\n\u001b[1;32m      8\u001b[0m \u001b[0mprint\u001b[0m\u001b[1;33m(\u001b[0m \u001b[0mscore\u001b[0m\u001b[1;33m)\u001b[0m\u001b[1;33m\u001b[0m\u001b[0m\n",
      "\u001b[0;32mC:\\ProgramData\\Anaconda3\\lib\\site-packages\\keras\\models.py\u001b[0m in \u001b[0;36mfit\u001b[0;34m(self, x, y, batch_size, epochs, verbose, callbacks, validation_split, validation_data, shuffle, class_weight, sample_weight, initial_epoch, **kwargs)\u001b[0m\n\u001b[1;32m    891\u001b[0m                               \u001b[0mclass_weight\u001b[0m\u001b[1;33m=\u001b[0m\u001b[0mclass_weight\u001b[0m\u001b[1;33m,\u001b[0m\u001b[1;33m\u001b[0m\u001b[0m\n\u001b[1;32m    892\u001b[0m                               \u001b[0msample_weight\u001b[0m\u001b[1;33m=\u001b[0m\u001b[0msample_weight\u001b[0m\u001b[1;33m,\u001b[0m\u001b[1;33m\u001b[0m\u001b[0m\n\u001b[0;32m--> 893\u001b[0;31m                               initial_epoch=initial_epoch)\n\u001b[0m\u001b[1;32m    894\u001b[0m \u001b[1;33m\u001b[0m\u001b[0m\n\u001b[1;32m    895\u001b[0m     def evaluate(self, x, y, batch_size=32, verbose=1,\n",
      "\u001b[0;32mC:\\ProgramData\\Anaconda3\\lib\\site-packages\\keras\\engine\\training.py\u001b[0m in \u001b[0;36mfit\u001b[0;34m(self, x, y, batch_size, epochs, verbose, callbacks, validation_split, validation_data, shuffle, class_weight, sample_weight, initial_epoch, steps_per_epoch, validation_steps, **kwargs)\u001b[0m\n\u001b[1;32m   1553\u001b[0m             \u001b[0mclass_weight\u001b[0m\u001b[1;33m=\u001b[0m\u001b[0mclass_weight\u001b[0m\u001b[1;33m,\u001b[0m\u001b[1;33m\u001b[0m\u001b[0m\n\u001b[1;32m   1554\u001b[0m             \u001b[0mcheck_batch_axis\u001b[0m\u001b[1;33m=\u001b[0m\u001b[1;32mFalse\u001b[0m\u001b[1;33m,\u001b[0m\u001b[1;33m\u001b[0m\u001b[0m\n\u001b[0;32m-> 1555\u001b[0;31m             batch_size=batch_size)\n\u001b[0m\u001b[1;32m   1556\u001b[0m         \u001b[1;31m# Prepare validation data.\u001b[0m\u001b[1;33m\u001b[0m\u001b[1;33m\u001b[0m\u001b[0m\n\u001b[1;32m   1557\u001b[0m         \u001b[0mdo_validation\u001b[0m \u001b[1;33m=\u001b[0m \u001b[1;32mFalse\u001b[0m\u001b[1;33m\u001b[0m\u001b[0m\n",
      "\u001b[0;32mC:\\ProgramData\\Anaconda3\\lib\\site-packages\\keras\\engine\\training.py\u001b[0m in \u001b[0;36m_standardize_user_data\u001b[0;34m(self, x, y, sample_weight, class_weight, check_batch_axis, batch_size)\u001b[0m\n\u001b[1;32m   1411\u001b[0m                                     \u001b[0moutput_shapes\u001b[0m\u001b[1;33m,\u001b[0m\u001b[1;33m\u001b[0m\u001b[0m\n\u001b[1;32m   1412\u001b[0m                                     \u001b[0mcheck_batch_axis\u001b[0m\u001b[1;33m=\u001b[0m\u001b[1;32mFalse\u001b[0m\u001b[1;33m,\u001b[0m\u001b[1;33m\u001b[0m\u001b[0m\n\u001b[0;32m-> 1413\u001b[0;31m                                     exception_prefix='target')\n\u001b[0m\u001b[1;32m   1414\u001b[0m         sample_weights = _standardize_sample_weights(sample_weight,\n\u001b[1;32m   1415\u001b[0m                                                      self._feed_output_names)\n",
      "\u001b[0;32mC:\\ProgramData\\Anaconda3\\lib\\site-packages\\keras\\engine\\training.py\u001b[0m in \u001b[0;36m_standardize_input_data\u001b[0;34m(data, names, shapes, check_batch_axis, exception_prefix)\u001b[0m\n\u001b[1;32m    152\u001b[0m                             \u001b[1;34m' to have shape '\u001b[0m \u001b[1;33m+\u001b[0m \u001b[0mstr\u001b[0m\u001b[1;33m(\u001b[0m\u001b[0mshapes\u001b[0m\u001b[1;33m[\u001b[0m\u001b[0mi\u001b[0m\u001b[1;33m]\u001b[0m\u001b[1;33m)\u001b[0m \u001b[1;33m+\u001b[0m\u001b[1;33m\u001b[0m\u001b[0m\n\u001b[1;32m    153\u001b[0m                             \u001b[1;34m' but got array with shape '\u001b[0m \u001b[1;33m+\u001b[0m\u001b[1;33m\u001b[0m\u001b[0m\n\u001b[0;32m--> 154\u001b[0;31m                             str(array.shape))\n\u001b[0m\u001b[1;32m    155\u001b[0m     \u001b[1;32mreturn\u001b[0m \u001b[0marrays\u001b[0m\u001b[1;33m\u001b[0m\u001b[0m\n\u001b[1;32m    156\u001b[0m \u001b[1;33m\u001b[0m\u001b[0m\n",
      "\u001b[0;31mValueError\u001b[0m: Error when checking target: expected activation_14 to have shape (None, 2) but got array with shape (79497, 1)"
     ]
    }
   ],
   "source": [
    "model.fit(X_train, \n",
    "          Y_train, \n",
    "          nb_epoch=5, \n",
    "          batch_size = 128, \n",
    "          verbose=1, \n",
    "          validation_split=0.1)\n",
    "score = model.evaluate(X_test, Y_test, batch_size=128)\n",
    "print( score)"
   ]
  },
  {
   "cell_type": "code",
   "execution_count": 87,
   "metadata": {
    "ExecuteTime": {
     "end_time": "2018-03-04T22:33:14.872758Z",
     "start_time": "2018-03-04T22:33:14.834156Z"
    },
    "collapsed": true
   },
   "outputs": [],
   "source": [
    "import numpy as np\n",
    "import keras\n",
    "from keras.models import Sequential\n",
    "from keras.layers import Dense, Dropout, Flatten\n",
    "from keras.layers import Conv2D, MaxPooling2D\n",
    "from keras.optimizers import SGD\n",
    "from keras.models import Sequential\n",
    "from keras.layers import Dense, Dropout\n",
    "from keras.layers import Embedding\n",
    "from keras.layers import Conv1D, GlobalAveragePooling1D, MaxPooling1D\n",
    "\n",
    "# Generate dummy data\n",
    "x_train = np.random.random((100, 100, 3))\n",
    "y_train = keras.utils.to_categorical(np.random.randint(10, size=(100, 1)), num_classes=10)\n",
    "x_test = np.random.random((20, 100, 3))\n",
    "y_test = keras.utils.to_categorical(np.random.randint(10, size=(20, 1)), num_classes=10)\n",
    "\n",
    "seq_length = 100"
   ]
  },
  {
   "cell_type": "code",
   "execution_count": 90,
   "metadata": {
    "ExecuteTime": {
     "end_time": "2018-03-04T22:34:00.982135Z",
     "start_time": "2018-03-04T22:34:00.966535Z"
    },
    "collapsed": false
   },
   "outputs": [
    {
     "data": {
      "text/plain": [
       "(100, 10)"
      ]
     },
     "execution_count": 90,
     "metadata": {},
     "output_type": "execute_result"
    }
   ],
   "source": [
    "y_train.shape"
   ]
  },
  {
   "cell_type": "code",
   "execution_count": 88,
   "metadata": {
    "ExecuteTime": {
     "end_time": "2018-03-04T22:33:16.795247Z",
     "start_time": "2018-03-04T22:33:16.006210Z"
    },
    "collapsed": false
   },
   "outputs": [
    {
     "ename": "ValueError",
     "evalue": "Error when checking input: expected conv1d_23_input to have shape (None, 100, 100) but got array with shape (100, 100, 3)",
     "output_type": "error",
     "traceback": [
      "\u001b[0;31m---------------------------------------------------------------------------\u001b[0m",
      "\u001b[0;31mValueError\u001b[0m                                Traceback (most recent call last)",
      "\u001b[0;32m<ipython-input-88-197e759a75e3>\u001b[0m in \u001b[0;36m<module>\u001b[0;34m()\u001b[0m\n\u001b[1;32m     13\u001b[0m               metrics=['accuracy'])\n\u001b[1;32m     14\u001b[0m \u001b[1;33m\u001b[0m\u001b[0m\n\u001b[0;32m---> 15\u001b[0;31m \u001b[0mmodel\u001b[0m\u001b[1;33m.\u001b[0m\u001b[0mfit\u001b[0m\u001b[1;33m(\u001b[0m\u001b[0mx_train\u001b[0m\u001b[1;33m,\u001b[0m \u001b[0my_train\u001b[0m\u001b[1;33m,\u001b[0m \u001b[0mbatch_size\u001b[0m\u001b[1;33m=\u001b[0m\u001b[1;36m16\u001b[0m\u001b[1;33m,\u001b[0m \u001b[0mepochs\u001b[0m\u001b[1;33m=\u001b[0m\u001b[1;36m10\u001b[0m\u001b[1;33m)\u001b[0m\u001b[1;33m\u001b[0m\u001b[0m\n\u001b[0m\u001b[1;32m     16\u001b[0m \u001b[0mscore\u001b[0m \u001b[1;33m=\u001b[0m \u001b[0mmodel\u001b[0m\u001b[1;33m.\u001b[0m\u001b[0mevaluate\u001b[0m\u001b[1;33m(\u001b[0m\u001b[0mx_test\u001b[0m\u001b[1;33m,\u001b[0m \u001b[0my_test\u001b[0m\u001b[1;33m,\u001b[0m \u001b[0mbatch_size\u001b[0m\u001b[1;33m=\u001b[0m\u001b[1;36m16\u001b[0m\u001b[1;33m)\u001b[0m\u001b[1;33m\u001b[0m\u001b[0m\n",
      "\u001b[0;32mC:\\ProgramData\\Anaconda3\\lib\\site-packages\\keras\\models.py\u001b[0m in \u001b[0;36mfit\u001b[0;34m(self, x, y, batch_size, epochs, verbose, callbacks, validation_split, validation_data, shuffle, class_weight, sample_weight, initial_epoch, **kwargs)\u001b[0m\n\u001b[1;32m    891\u001b[0m                               \u001b[0mclass_weight\u001b[0m\u001b[1;33m=\u001b[0m\u001b[0mclass_weight\u001b[0m\u001b[1;33m,\u001b[0m\u001b[1;33m\u001b[0m\u001b[0m\n\u001b[1;32m    892\u001b[0m                               \u001b[0msample_weight\u001b[0m\u001b[1;33m=\u001b[0m\u001b[0msample_weight\u001b[0m\u001b[1;33m,\u001b[0m\u001b[1;33m\u001b[0m\u001b[0m\n\u001b[0;32m--> 893\u001b[0;31m                               initial_epoch=initial_epoch)\n\u001b[0m\u001b[1;32m    894\u001b[0m \u001b[1;33m\u001b[0m\u001b[0m\n\u001b[1;32m    895\u001b[0m     def evaluate(self, x, y, batch_size=32, verbose=1,\n",
      "\u001b[0;32mC:\\ProgramData\\Anaconda3\\lib\\site-packages\\keras\\engine\\training.py\u001b[0m in \u001b[0;36mfit\u001b[0;34m(self, x, y, batch_size, epochs, verbose, callbacks, validation_split, validation_data, shuffle, class_weight, sample_weight, initial_epoch, steps_per_epoch, validation_steps, **kwargs)\u001b[0m\n\u001b[1;32m   1553\u001b[0m             \u001b[0mclass_weight\u001b[0m\u001b[1;33m=\u001b[0m\u001b[0mclass_weight\u001b[0m\u001b[1;33m,\u001b[0m\u001b[1;33m\u001b[0m\u001b[0m\n\u001b[1;32m   1554\u001b[0m             \u001b[0mcheck_batch_axis\u001b[0m\u001b[1;33m=\u001b[0m\u001b[1;32mFalse\u001b[0m\u001b[1;33m,\u001b[0m\u001b[1;33m\u001b[0m\u001b[0m\n\u001b[0;32m-> 1555\u001b[0;31m             batch_size=batch_size)\n\u001b[0m\u001b[1;32m   1556\u001b[0m         \u001b[1;31m# Prepare validation data.\u001b[0m\u001b[1;33m\u001b[0m\u001b[1;33m\u001b[0m\u001b[0m\n\u001b[1;32m   1557\u001b[0m         \u001b[0mdo_validation\u001b[0m \u001b[1;33m=\u001b[0m \u001b[1;32mFalse\u001b[0m\u001b[1;33m\u001b[0m\u001b[0m\n",
      "\u001b[0;32mC:\\ProgramData\\Anaconda3\\lib\\site-packages\\keras\\engine\\training.py\u001b[0m in \u001b[0;36m_standardize_user_data\u001b[0;34m(self, x, y, sample_weight, class_weight, check_batch_axis, batch_size)\u001b[0m\n\u001b[1;32m   1407\u001b[0m                                     \u001b[0mself\u001b[0m\u001b[1;33m.\u001b[0m\u001b[0m_feed_input_shapes\u001b[0m\u001b[1;33m,\u001b[0m\u001b[1;33m\u001b[0m\u001b[0m\n\u001b[1;32m   1408\u001b[0m                                     \u001b[0mcheck_batch_axis\u001b[0m\u001b[1;33m=\u001b[0m\u001b[1;32mFalse\u001b[0m\u001b[1;33m,\u001b[0m\u001b[1;33m\u001b[0m\u001b[0m\n\u001b[0;32m-> 1409\u001b[0;31m                                     exception_prefix='input')\n\u001b[0m\u001b[1;32m   1410\u001b[0m         y = _standardize_input_data(y, self._feed_output_names,\n\u001b[1;32m   1411\u001b[0m                                     \u001b[0moutput_shapes\u001b[0m\u001b[1;33m,\u001b[0m\u001b[1;33m\u001b[0m\u001b[0m\n",
      "\u001b[0;32mC:\\ProgramData\\Anaconda3\\lib\\site-packages\\keras\\engine\\training.py\u001b[0m in \u001b[0;36m_standardize_input_data\u001b[0;34m(data, names, shapes, check_batch_axis, exception_prefix)\u001b[0m\n\u001b[1;32m    152\u001b[0m                             \u001b[1;34m' to have shape '\u001b[0m \u001b[1;33m+\u001b[0m \u001b[0mstr\u001b[0m\u001b[1;33m(\u001b[0m\u001b[0mshapes\u001b[0m\u001b[1;33m[\u001b[0m\u001b[0mi\u001b[0m\u001b[1;33m]\u001b[0m\u001b[1;33m)\u001b[0m \u001b[1;33m+\u001b[0m\u001b[1;33m\u001b[0m\u001b[0m\n\u001b[1;32m    153\u001b[0m                             \u001b[1;34m' but got array with shape '\u001b[0m \u001b[1;33m+\u001b[0m\u001b[1;33m\u001b[0m\u001b[0m\n\u001b[0;32m--> 154\u001b[0;31m                             str(array.shape))\n\u001b[0m\u001b[1;32m    155\u001b[0m     \u001b[1;32mreturn\u001b[0m \u001b[0marrays\u001b[0m\u001b[1;33m\u001b[0m\u001b[0m\n\u001b[1;32m    156\u001b[0m \u001b[1;33m\u001b[0m\u001b[0m\n",
      "\u001b[0;31mValueError\u001b[0m: Error when checking input: expected conv1d_23_input to have shape (None, 100, 100) but got array with shape (100, 100, 3)"
     ]
    }
   ],
   "source": [
    "model = Sequential()\n",
    "model.add(Conv1D(64, 3, activation='relu', input_shape=(seq_length, 100)))\n",
    "model.add(Conv1D(64, 3, activation='relu'))\n",
    "model.add(MaxPooling1D(3))\n",
    "model.add(Conv1D(128, 3, activation='relu'))\n",
    "model.add(Conv1D(128, 3, activation='relu'))\n",
    "model.add(GlobalAveragePooling1D())\n",
    "model.add(Dropout(0.5))\n",
    "model.add(Dense(1, activation='sigmoid'))\n",
    "\n",
    "model.compile(loss='binary_crossentropy',\n",
    "              optimizer='rmsprop',\n",
    "              metrics=['accuracy'])\n",
    "\n",
    "model.fit(x_train, y_train, batch_size=16, epochs=10)\n",
    "score = model.evaluate(x_test, y_test, batch_size=16)"
   ]
  },
  {
   "cell_type": "code",
   "execution_count": 1,
   "metadata": {
    "ExecuteTime": {
     "end_time": "2018-03-06T21:54:10.421623Z",
     "start_time": "2018-03-06T21:54:01.652217Z"
    },
    "collapsed": false
   },
   "outputs": [
    {
     "name": "stderr",
     "output_type": "stream",
     "text": [
      "Using TensorFlow backend.\n"
     ]
    }
   ],
   "source": [
    "from keras.models import Sequential\n",
    "from keras.layers import LSTM, Dense\n",
    "import numpy as np"
   ]
  },
  {
   "cell_type": "code",
   "execution_count": 2,
   "metadata": {
    "ExecuteTime": {
     "end_time": "2018-03-06T21:54:10.458625Z",
     "start_time": "2018-03-06T21:54:10.429624Z"
    },
    "collapsed": true
   },
   "outputs": [],
   "source": [
    "data_dim = 16\n",
    "timesteps = 8\n",
    "num_classes = 10"
   ]
  },
  {
   "cell_type": "code",
   "execution_count": 3,
   "metadata": {
    "ExecuteTime": {
     "end_time": "2018-03-06T21:54:17.251246Z",
     "start_time": "2018-03-06T21:54:14.120546Z"
    },
    "collapsed": true
   },
   "outputs": [],
   "source": [
    "# expected input data shape: (batch_size, timesteps, data_dim)\n",
    "model = Sequential()\n",
    "model.add(LSTM(32, return_sequences=True,\n",
    "               input_shape=(timesteps, data_dim)))  # returns a sequence of vectors of dimension 32\n",
    "model.add(LSTM(32, return_sequences=True))  # returns a sequence of vectors of dimension 32\n",
    "model.add(LSTM(32))  # return a single vector of dimension 32\n",
    "model.add(Dense(10, activation='softmax'))\n",
    "\n",
    "model.compile(loss='categorical_crossentropy',\n",
    "              optimizer='rmsprop',\n",
    "              metrics=['accuracy'])"
   ]
  },
  {
   "cell_type": "code",
   "execution_count": 4,
   "metadata": {
    "ExecuteTime": {
     "end_time": "2018-03-06T21:54:20.445760Z",
     "start_time": "2018-03-06T21:54:20.422160Z"
    },
    "collapsed": true
   },
   "outputs": [],
   "source": [
    "# Generate dummy training data\n",
    "x_train = np.random.random((1000, timesteps, data_dim))\n",
    "y_train = np.random.random((1000, num_classes))\n",
    "\n",
    "# Generate dummy validation data\n",
    "x_val = np.random.random((100, timesteps, data_dim))\n",
    "y_val = np.random.random((100, num_classes))"
   ]
  },
  {
   "cell_type": "code",
   "execution_count": 5,
   "metadata": {
    "ExecuteTime": {
     "end_time": "2018-03-06T21:57:07.826112Z",
     "start_time": "2018-03-06T21:57:07.799511Z"
    },
    "collapsed": false
   },
   "outputs": [
    {
     "name": "stdout",
     "output_type": "stream",
     "text": [
      "(1000, 8, 16) (1000, 10)\n"
     ]
    },
    {
     "data": {
      "text/plain": [
       "array([[ 0.8955732 ,  0.15116513,  0.39923663,  0.54574791,  0.7610251 ,\n",
       "         0.59191697,  0.62773906,  0.90783009,  0.34252092,  0.05784188,\n",
       "         0.96964029,  0.40919844,  0.67944527,  0.95823544,  0.08185391,\n",
       "         0.8162642 ],\n",
       "       [ 0.95455267,  0.17185269,  0.12955127,  0.0822974 ,  0.45698906,\n",
       "         0.39678114,  0.59042673,  0.01320739,  0.38751251,  0.00240044,\n",
       "         0.50083099,  0.27969719,  0.78897392,  0.10487728,  0.6845773 ,\n",
       "         0.91358408],\n",
       "       [ 0.45441387,  0.15856469,  0.0821934 ,  0.86016905,  0.82666084,\n",
       "         0.56482508,  0.59811384,  0.36376587,  0.72617197,  0.26919558,\n",
       "         0.69170716,  0.58170036,  0.73216571,  0.05045993,  0.44393321,\n",
       "         0.32478503],\n",
       "       [ 0.03077749,  0.80325066,  0.36026975,  0.95123072,  0.42730472,\n",
       "         0.74857368,  0.38475319,  0.71882649,  0.04665034,  0.20541235,\n",
       "         0.54695494,  0.01013165,  0.19208701,  0.83537294,  0.22857424,\n",
       "         0.51523119],\n",
       "       [ 0.47576071,  0.67747395,  0.75820184,  0.78357999,  0.63072716,\n",
       "         0.30708441,  0.51634838,  0.56461678,  0.44251784,  0.11246046,\n",
       "         0.92082991,  0.91777261,  0.48341017,  0.48301437,  0.66864501,\n",
       "         0.66703203],\n",
       "       [ 0.75182267,  0.1215307 ,  0.21096418,  0.70598767,  0.83893226,\n",
       "         0.04732574,  0.42163496,  0.73543724,  0.67402174,  0.70481992,\n",
       "         0.49451321,  0.42776897,  0.09352977,  0.28995482,  0.02790031,\n",
       "         0.25232242],\n",
       "       [ 0.63389413,  0.68371105,  0.60514243,  0.24397115,  0.10333061,\n",
       "         0.9811738 ,  0.25601062,  0.52486607,  0.64863932,  0.24352558,\n",
       "         0.4230265 ,  0.39545964,  0.71106394,  0.74469519,  0.44694278,\n",
       "         0.0251534 ],\n",
       "       [ 0.2797041 ,  0.11415816,  0.94471706,  0.5756396 ,  0.36708699,\n",
       "         0.9723417 ,  0.4723562 ,  0.3204372 ,  0.83124513,  0.28798673,\n",
       "         0.38164313,  0.01885833,  0.39048908,  0.75330004,  0.55290698,\n",
       "         0.08327084]])"
      ]
     },
     "execution_count": 5,
     "metadata": {},
     "output_type": "execute_result"
    }
   ],
   "source": [
    "print(x_train.shape, y_train.shape)\n",
    "x_train[0,:,:]"
   ]
  },
  {
   "cell_type": "code",
   "execution_count": 6,
   "metadata": {
    "ExecuteTime": {
     "end_time": "2018-03-06T21:57:38.308950Z",
     "start_time": "2018-03-06T21:57:38.284349Z"
    },
    "collapsed": false
   },
   "outputs": [
    {
     "data": {
      "text/plain": [
       "array([[ 0.59252216,  0.07560714,  0.40241424,  0.78653956,  0.27248371,\n",
       "         0.2757032 ,  0.01173844,  0.27957977,  0.87201256,  0.20298428,\n",
       "         0.13443455,  0.58802985,  0.25167545,  0.93319295,  0.865794  ,\n",
       "         0.09402852],\n",
       "       [ 0.47102034,  0.73059835,  0.01090737,  0.17850708,  0.26455481,\n",
       "         0.51765704,  0.5288657 ,  0.6120069 ,  0.43284265,  0.99391428,\n",
       "         0.72285324,  0.28137316,  0.39131563,  0.98672924,  0.40094932,\n",
       "         0.61283804],\n",
       "       [ 0.42255133,  0.4394317 ,  0.5984509 ,  0.05295668,  0.738166  ,\n",
       "         0.57729382,  0.0535484 ,  0.05348611,  0.97536326,  0.59430258,\n",
       "         0.4872949 ,  0.05306493,  0.48556472,  0.10778279,  0.39055361,\n",
       "         0.08915171],\n",
       "       [ 0.97037575,  0.28396921,  0.34996239,  0.78962538,  0.48272778,\n",
       "         0.58470969,  0.11179455,  0.31540549,  0.76134655,  0.72757067,\n",
       "         0.93504611,  0.25958214,  0.18496891,  0.83190446,  0.36441549,\n",
       "         0.02450206],\n",
       "       [ 0.79808804,  0.93485645,  0.98463355,  0.69659717,  0.36341055,\n",
       "         0.83470497,  0.28592399,  0.75854988,  0.45263734,  0.12467143,\n",
       "         0.69642488,  0.56020155,  0.76029102,  0.69411366,  0.84644271,\n",
       "         0.9821903 ],\n",
       "       [ 0.96634541,  0.19073822,  0.48533613,  0.24707266,  0.58926368,\n",
       "         0.1581192 ,  0.13417262,  0.92100911,  0.65148472,  0.29309478,\n",
       "         0.89601271,  0.72008392,  0.36062718,  0.10096745,  0.78111943,\n",
       "         0.48166545],\n",
       "       [ 0.1137551 ,  0.04407191,  0.80004872,  0.24019828,  0.56387371,\n",
       "         0.48489203,  0.48666779,  0.67620386,  0.9179557 ,  0.41282886,\n",
       "         0.16465131,  0.54698632,  0.53357634,  0.13693046,  0.09780895,\n",
       "         0.84628013],\n",
       "       [ 0.02631852,  0.59048423,  0.94303011,  0.45713288,  0.26559398,\n",
       "         0.33750404,  0.89057454,  0.45148372,  0.91945179,  0.02392802,\n",
       "         0.74905628,  0.6076624 ,  0.66797339,  0.76893535,  0.64981911,\n",
       "         0.3678068 ]])"
      ]
     },
     "execution_count": 6,
     "metadata": {},
     "output_type": "execute_result"
    }
   ],
   "source": [
    "x_train[1,:,:]"
   ]
  },
  {
   "cell_type": "code",
   "execution_count": 7,
   "metadata": {
    "ExecuteTime": {
     "end_time": "2018-03-06T22:03:39.398348Z",
     "start_time": "2018-03-06T21:58:01.081184Z"
    },
    "collapsed": false
   },
   "outputs": [
    {
     "name": "stdout",
     "output_type": "stream",
     "text": [
      "Train on 1000 samples, validate on 100 samples\n",
      "Epoch 1/5\n",
      "1000/1000 [==============================] - 13s 13ms/step - loss: 11.5626 - acc: 0.1030 - val_loss: 11.6152 - val_acc: 0.1300\b\b\b\b\b\b\b\b\b\b\b\b\b\b\b\b\b\b\b\b\b\b\b\b\b\b\b\b\b\b\b\b\b\b\b\b\b\b\b\b\b\b\b\b\b\b\b\b\b\b\b\b\b\b\b\b\b\b\b\b\b\b\b\b\b\b\b\b\b\b\b\b\b\b\b\b\b\b\b\b\b\b\b\b\b\b\b\b\b\b\b\b\b\b\b\b\b\b\b\b\b\b\b\b\b\b\b\b\b\b\b\b\b\b\b\b\b\b\b\b\b\b\b\b\b\b\b\b\b\b\b\b\b\b\b\b\b\b\b\b\b\b\b\b\b\b\b\b\b\b\b\b\b\b\b\b\b\b\b\b\b\b\b\b\b\b\b\b\b\b\b\b\b\b\b\b\b\b\b\b\b\b\b\b\b\b\b\b\b\b\b\b\b\b\b\b\b\b\b\b\b\b\b\b\b\b\b\b\b\b\b\b\b\b\b\b\b\b\b\b\b\b\b\b\b\b\b\b\b\b\b\b\b\b\b\b\b\b\b\b\b\b\b\b\b\b\b\b\b\b\b\b\b\b\b\b\b\b\b\b\b\b\b\b\b\b\b\b\b\b\b\b\b\b\b\b\b\b\b\b\b\b\b\b\b\b\b\b\b\b\b\b\b\b\b\b\b\b\b\b\b\b\b\b\b\b\b\b\b\b\b\b\b\b\b\b\b\b\b\b\b\b\b\b\b\b\b\b\b\b\b\b\b\b\b\b\b\b\b\b\b\b\b\b\b\b\b\b\b\b\b\b\b\b\b\b\b\b\b\b\b\b\b\b\b\b\b\b\b\b\b\b\b\b\b\b\b\b\b\b\b\b\b\b\b\b\b\b\b\b\b\b\b\b\b\b\b\b\b\b\b\b\b\b\b\b\b\b\b\b\b\b\b\b\b\b\b\b\b\b\b\b\b\b\b\b\b\b\b\b\b\b\b\b\b\b\b\b\b\b\b\b\b\b\b\b\b\b\b\b\b\b\b\b\b\b\b\b\b\b\b\b\b\b\b\b\b\b\b\b\b\b\b\b\b\b\b\b\b\b\b\b\b\b\b\b\b\b\b\b\b\b\b\b\b\b\b\b\b\b\b\b\b\b\b\b\b\b\b\b\b\b\b\b\b\b\b\b\b\b\b\b\b\b\b\b\b\b\b\b\b\b\b\b\b\b\b\b\b\b\b\b\b\b\b\b\b\b\b\b\b\b\b\b\b\b\b\b\b\b\b\b\b\b\b\b\b\b\b\b\b\b\b\b\b\b\b\b\b\b\b\b\b\b\b\b\b\b\b\b\b\b\b\b\b\b\b\b\b\b\b\b\b\b\b\b\b\b\b\b\b\b\b\b\b\b\b\b\b\b\b\b\b\b\b\b\b\b\b\b\b\b\b\b\b\b\b\b\b\b\b\b\b\b\b\b\b\b\b\b\b\b\b\b\b\b\b\b\b\b\b\b\b\b\b\b\b\b\b\b\b\b\b\b\b\b\b\b\b\b\b\b\b\b\b\b\b\b\b\b\b\b\b\b\b\b\b\b\b\b\b\b\b\b\b\b\b\b\b\b\b\b\b\b\b\b\b\b\b\b\b\b\b\b\b\b\b\b\b\b\b\b\b\b\b\b\b\b\b\b\b\b\b\b\b\b\b\b\b\b\b\b\b\b\b\b\b\b\b\b\b\b\b\b\b\b\b\b\b\b\b\b\b\b\b\b\b\b\b\b\b\b\b\b\b\b\b\b\b\b\b\b\b\b\b\b\b\b\b\b\b\b\b\b\b\b\b\b\b\b\b\b\b\b\b\b\b\b\b\b\b\b\b\b\b\b\b\b\b\b\b\b\b\b\b\b\b\b\b\b\b\b\b\b\b\b\b\b\b\b\b\b\b\b\b\b\b\b\b\b\b\b\b\b\b\b\b\b\b\b\b\b\b\b\b\b\b\b\b\b\b\b\b\b\b\b\b\b\b\b\b\b\b\b\b\b\b\b\b\b\b\b\b\b\b\b\b\b\b\b\b\b\b\b\b\b\b\b\b\b\b\b\b\b\b\b\b\b\b\b\b\b\b\b\b\b\b\b\b\b\b\b\b\b\b\b\b\b\b\b\b\b\b\b\b\b\b\b\b\b\b\b\b\b\b\b\b\b\b\b\b\b\b\b\b\b\b\b\b\b\b\b\b\b\b\b\b\b\b\b\b\b\b\b\b\b\b\b\b\b\b\b\b\b\b\b\b\b\b\b\b\b\b\b\b\b\b\b\b\b\b\b\b\b\b\b\b\b\b\b\b\b\b\b\b\b\b\b\b\b\b\b\b\b\b\b\b\b\b\b\b\b\b\b\b\b\b\b\b\b\b\b\b\b\b\b\b\b\b\b\b\b\b\b\b\b\b\b\b\b\b\b\b\b\b\b\b\b\b\b\b\b\b\b\b\b\b\b\b\b\b\b\b\b\b\b\b\b\b\b\b\b\b\b\b\b\b\b\b\b\b\b\b\b\b\b\b\b\b\b\b\b\b\b\b\b\b\b\b\b\b\b\b\b\b\b\b\b\b\b\b\b\b\b\b\b\b\b\b\b\b\b\b\b\b\b\b\b\b\b\b\b\b\b\b\b\b\b\b\b\b\b\b\b\b\b\b\b\b\b\b\b\b\b\b\b\b\b\n",
      "Epoch 2/5\n",
      "1000/1000 [==============================] - 3s 3ms/step - loss: 11.5610 - acc: 0.1010 - val_loss: 11.6138 - val_acc: 0.0900\b\b\b\b\b\b\b\b\b\b\b\b\b\b\b\b\b\b\b\b\b\b\b\b\b\b\b\b\b\b\b\b\b\b\b\b\b\b\b\b\b\b\b\b\b\b\b\b\b\b\b\b\b\b\b\b\b\b\b\b\b\b\b\b\b\b\b\b\b\b\b\b\b\b\b\b\b\b\b\b\b\b\b\b\b\b\b\b\b\b\b\b\b\b\b\b\b\b\b\b\b\b\b\b\b\b\b\b\b\b\b\b\b\b\b\b\b\b\b\b\b\b\b\b\b\b\b\b\b\b\b\b\b\b\b\b\b\b\b\b\b\b\b\b\b\b\b\b\b\b\b\b\b\b\b\b\b\b\b\b\b\b\b\b\b\b\b\b\b\b\b\b\b\b\b\b\b\b\b\b\b\b\b\b\b\b\b\b\b\b\b\b\b\b\b\b\b\b\b\b\b\b\b\b\b\b\b\b\b\b\b\b\b\b\b\b\b\b\b\b\b\b\b\b\b\b\b\b\b\b\b\b\b\b\b\b\b\b\b\b\b\b\b\b\b\b\b\b\b\b\b\b\b\b\b\b\b\b\b\b\b\b\b\b\b\b\b\b\b\b\b\b\b\b\b\b\b\b\b\b\b\b\b\b\b\b\b\b\b\b\b\b\b\b\b\b\b\b\b\b\b\b\b\b\b\b\b\b\b\b\b\b\b\b\b\b\b\b\b\b\b\b\b\b\b\b\b\b\b\b\b\b\b\b\b\b\b\b\b\b\b\b\b\b\b\b\b\b\b\b\b\b\b\b\b\b\b\b\b\b\b\b\b\b\b\b\b\b\b\b\b\b\b\b\b\b\b\b\b\b\b\b\b\b\b\b\b\b\b\b\b\b\b\b\b\b\b\b\b\b\b\b\b\b\b\b\b\b\b\b\b\b\b\b\b\b\b\b\b\b\b\b\b\b\b\b\b\b\b\b\b\b\b\b\b\b\b\b\b\b\b\b\b\b\b\b\b\b\b\b\b\b\b\b\b\b\b\b\b\b\b\b\b\b\b\b\b\b\b\b\b\b\b\b\b\b\b\b\b\b\b\b\b\b\b\b\b\b\b\b\b\b\b\b\b\b\b\b\b\b\b\b\b\b\b\b\b\b\b\b\b\b\b\b\b\b\b\b\b\b\b\b\b\b\b\b\b\b\b\b\b\b\b\b\b\b\b\b\b\b\b\b\b\b\b\b\b\b\b\b\b\b\b\b\b\b\b\b\b\b\b\b\b\b\b\b\b\b\b\b\b\b\b\b\b\b\b\b\b\b\b\b\b\b\b\b\b\b\b\b\b\b\b\b\b\b\b\b\b\b\b\b\b\b\b\b\b\b\b\b\b\b\b\b\b\b\b\b\b\b\b\b\b\b\b\b\b\b\b\b\b\b\b\b\b\b\b\b\b\b\b\b\b\b\b\b\b\b\b\b\b\b\b\b\b\b\b\b\b\b\b\b\b\b\b\b\b\b\b\b\b\b\b\b\b\b\b\b\b\b\b\b\b\b\b\b\b\b\b\b\b\b\b\b\b\b\b\b\b\b\b\b\b\b\b\b\b\b\b\b\b\b\b\b\b\b\b\b\b\b\b\b\b\b\b\b\b\b\b\b\b\b\b\b\b\b\b\b\b\b\b\b\b\b\b\b\b\b\b\b\b\b\b\b\b\b\b\b\b\b\b\b\b\b\b\b\b\b\b\b\b\b\b\b\b\b\b\b\b\b\b\b\b\b\b\b\b\b\b\b\b\b\b\b\b\b\b\b\b\b\b\b\b\b\b\b\b\b\b\b\b\b\b\b\b\b\b\b\b\b\b\b\b\b\b\b\b\b\b\b\b\b\b\b\b\b\b\b\b\b\b\b\b\b\b\b\b\b\b\b\b\b\b\b\b\b\b\b\b\b\b\b\b\b\b\b\b\b\b\b\b\b\b\b\b\b\b\b\b\b\b\b\b\b\b\b\b\b\b\b\b\b\b\b\b\b\b\b\b\b\b\b\b\b\b\b\b\b\b\b\b\b\b\b\b\b\b\b\b\b\b\b\b\b\b\b\b\b\b\b\b\b\b\b\b\b\b\b\b\b\b\b\b\b\b\b\b\b\b\b\b\b\b\b\b\b\b\b\b\b\b\b\b\b\b\b\b\b\b\b\b\b\b\b\b\b\b\b\b\b\b\b\b\b\b\b\b\b\b\b\b\b\b\b\b\b\b\b\b\b\b\b\b\b\b\b\b\b\b\b\b\b\b\b\b\b\b\b\b\b\b\b\b\b\b\b\b\b\b\b\b\b\b\b\b\b\b\b\b\b\b\b\b\b\b\b\b\b\b\b\b\b\b\b\b\b\b\b\b\b\b\b\b\b\b\b\b\b\b\b\b\b\b\b\b\b\b\b\b\b\b\b\b\b\b\b\b\b\b\b\b\b\b\b\b\b\b\b\b\b\b\b\b\b\b\b\b\b\b\b\b\b\b\b\b\b\b\b\b\b\b\b\b\b\b\b\b\b\b\b\b\b\b\b\b\b\b\b\b\b\b\b\b\b\b\b\b\b\b\b\b\b\b\b\b\b\b\b\b\b\b\b\b\b\b\b\b\b\b\b\b\b\b\b\b\b\b\b\b\b\b\b\b\b\b\b\b\b\n",
      "Epoch 3/5\n",
      "1000/1000 [==============================] - 3s 3ms/step - loss: 11.5607 - acc: 0.0870 - val_loss: 11.6147 - val_acc: 0.0700\b\b\b\b\b\b\b\b\b\b\b\b\b\b\b\b\b\b\b\b\b\b\b\b\b\b\b\b\b\b\b\b\b\b\b\b\b\b\b\b\b\b\b\b\b\b\b\b\b\b\b\b\b\b\b\b\b\b\b\b\b\b\b\b\b\b\b\b\b\b\b\b\b\b\b\b\b\b\b\b\b\b\b\b\b\b\b\b\b\b\b\b\b\b\b\b\b\b\b\b\b\b\b\b\b\b\b\b\b\b\b\b\b\b\b\b\b\b\b\b\b\b\b\b\b\b\b\b\b\b\b\b\b\b\b\b\b\b\b\b\b\b\b\b\b\b\b\b\b\b\b\b\b\b\b\b\b\b\b\b\b\b\b\b\b\b\b\b\b\b\b\b\b\b\b\b\b\b\b\b\b\b\b\b\b\b\b\b\b\b\b\b\b\b\b\b\b\b\b\b\b\b\b\b\b\b\b\b\b\b\b\b\b\b\b\b\b\b\b\b\b\b\b\b\b\b\b\b\b\b\b\b\b\b\b\b\b\b\b\b\b\b\b\b\b\b\b\b\b\b\b\b\b\b\b\b\b\b\b\b\b\b\b\b\b\b\b\b\b\b\b\b\b\b\b\b\b\b\b\b\b\b\b\b\b\b\b\b\b\b\b\b\b\b\b\b\b\b\b\b\b\b\b\b\b\b\b\b\b\b\b\b\b\b\b\b\b\b\b\b\b\b\b\b\b\b\b\b\b\b\b\b\b\b\b\b\b\b\b\b\b\b\b\b\b\b\b\b\b\b\b\b\b\b\b\b\b\b\b\b\b\b\b\b\b\b\b\b\b\b\b\b\b\b\b\b\b\b\b\b\b\b\b\b\b\b\b\b\b\b\b\b\b\b\b\b\b\b\b\b\b\b\b\b\b\b\b\b\b\b\b\b\b\b\b\b\b\b\b\b\b\b\b\b\b\b\b\b\b\b\b\b\b\b\b\b\b\b\b\b\b\b\b\b\b\b\b\b\b\b\b\b\b\b\b\b\b\b\b\b\b\b\b\b\b\b\b\b\b\b\b\b\b\b\b\b\b\b\b\b\b\b\b\b\b\b\b\b\b\b\b\b\b\b\b\b\b\b\b\b\b\b\b\b\b\b\b\b\b\b\b\b\b\b\b\b\b\b\b\b\b\b\b\b\b\b\b\b\b\b\b\b\b\b\b\b\b\b\b\b\b\b\b\b\b\b\b\b\b\b\b\b\b\b\b\b\b\b\b\b\b\b\b\b\b\b\b\b\b\b\b\b\b\b\b\b\b\b\b\b\b\b\b\b\b\b\b\b\b\b\b\b\b\b\b\b\b\b\b\b\b\b\b\b\b\b\b\b\b\b\b\b\b\b\b\b\b\b\b\b\b\b\b\b\b\b\b\b\b\b\b\b\b\b\b\b\b\b\b\b\b\b\b\b\b\b\b\b\b\b\b\b\b\b\b\b\b\b\b\b\b\b\b\b\b\b\b\b\b\b\b\b\b\b\b\b\b\b\b\b\b\b\b\b\b\b\b\b\b\b\b\b\b\b\b\b\b\b\b\b\b\b\b\b\b\b\b\b\b\b\b\b\b\b\b\b\b\b\b\b\b\b\b\b\b\b\b\b\b\b\b\b\b\b\b\b\b\b\b\b\b\b\b\b\b\b\b\b\b\b\b\b\b\b\b\b\b\b\b\b\b\b\b\b\b\b\b\b\b\b\b\b\b\b\b\b\b\b\b\b\b\b\b\b\b\b\b\b\b\b\b\b\b\b\b\b\b\b\b\b\b\b\b\b\b\b\b\b\b\b\b\b\b\b\b\b\b\b\b\b\b\b\b\b\b\b\b\b\b\b\b\b\b\b\b\b\b\b\b\b\b\b\b\b\b\b\b\b\b\b\b\b\b\b\b\b\b\b\b\b\b\b\b\b\b\b\b\b\b\b\b\b\b\b\b\b\b\b\b\b\b\b\b\b\b\b\b\b\b\b\b\b\b\b\b\b\b\b\b\b\b\b\b\b\b\b\b\b\b\b\b\b\b\b\b\b\b\b\b\b\b\b\b\b\b\b\b\b\b\b\b\b\b\b\b\b\b\b\b\b\b\b\b\b\b\b\b\b\b\b\b\b\b\b\b\b\b\b\b\b\b\b\b\b\b\b\b\b\b\b\b\b\b\b\b\b\b\b\b\b\b\b\b\b\b\b\b\b\b\b\b\b\b\b\b\b\b\b\b\b\b\b\b\b\b\b\b\b\b\b\b\b\b\b\b\b\b\b\b\b\b\b\b\b\b\b\b\b\b\b\b\b\b\b\b\b\b\b\b\b\b\b\b\b\b\b\b\b\b\b\b\b\b\b\b\b\b\b\b\b\b\b\b\b\b\b\b\b\b\b\b\b\b\b\b\b\b\b\b\b\b\b\b\b\b\b\b\b\b\b\b\b\b\b\b\b\b\b\b\b\b\b\b\b\b\b\b\b\b\b\b\b\b\b\b\b\b\b\b\b\b\b\b\b\b\b\b\b\b\b\b\b\b\b\b\b\b\b\b\b\b\b\b\b\b\b\b\b\b\b\b\b\b\b\b\b\b\b\b\b\b\b\b\b\b\b\b\b\b\b\b\b\b\b\b\b\b\b\b\b\b\b\b\b\b\b\b\b\n",
      "Epoch 4/5\n",
      "1000/1000 [==============================] - 2s 2ms/step - loss: 11.5602 - acc: 0.1050 - val_loss: 11.6145 - val_acc: 0.1000\b\b\b\b\b\b\b\b\b\b\b\b\b\b\b\b\b\b\b\b\b\b\b\b\b\b\b\b\b\b\b\b\b\b\b\b\b\b\b\b\b\b\b\b\b\b\b\b\b\b\b\b\b\b\b\b\b\b\b\b\b\b\b\b\b\b\b\b\b\b\b\b\b\b\b\b\b\b\b\b\b\b\b\b\b\b\b\b\b\b\b\b\b\b\b\b\b\b\b\b\b\b\b\b\b\b\b\b\b\b\b\b\b\b\b\b\b\b\b\b\b\b\b\b\b\b\b\b\b\b\b\b\b\b\b\b\b\b\b\b\b\b\b\b\b\b\b\b\b\b\b\b\b\b\b\b\b\b\b\b\b\b\b\b\b\b\b\b\b\b\b\b\b\b\b\b\b\b\b\b\b\b\b\b\b\b\b\b\b\b\b\b\b\b\b\b\b\b\b\b\b\b\b\b\b\b\b\b\b\b\b\b\b\b\b\b\b\b\b\b\b\b\b\b\b\b\b\b\b\b\b\b\b\b\b\b\b\b\b\b\b\b\b\b\b\b\b\b\b\b\b\b\b\b\b\b\b\b\b\b\b\b\b\b\b\b\b\b\b\b\b\b\b\b\b\b\b\b\b\b\b\b\b\b\b\b\b\b\b\b\b\b\b\b\b\b\b\b\b\b\b\b\b\b\b\b\b\b\b\b\b\b\b\b\b\b\b\b\b\b\b\b\b\b\b\b\b\b\b\b\b\b\b\b\b\b\b\b\b\b\b\b\b\b\b\b\b\b\b\b\b\b\b\b\b\b\b\b\b\b\b\b\b\b\b\b\b\b\b\b\b\b\b\b\b\b\b\b\b\b\b\b\b\b\b\b\b\b\b\b\b\b\b\b\b\b\b\b\b\b\b\b\b\b\b\b\b\b\b\b\b\b\b\b\b\b\b\b\b\b\b\b\b\b\b\b\b\b\b\b\b\b\b\b\b\b\b\b\b\b\b\b\b\b\b\b\b\b\b\b\b\b\b\b\b\b\b\b\b\b\b\b\b\b\b\b\b\b\b\b\b\b\b\b\b\b\b\b\b\b\b\b\b\b\b\b\b\b\b\b\b\b\b\b\b\b\b\b\b\b\b\b\b\b\b\b\b\b\b\b\b\b\b\b\b\b\b\b\b\b\b\b\b\b\b\b\b\b\b\b\b\b\b\b\b\b\b\b\b\b\b\b\b\b\b\b\b\b\b\b\b\b\b\b\b\b\b\b\b\b\b\b\b\b\b\b\b\b\b\b\b\b\b\b\b\b\b\b\b\b\b\b\b\b\b\b\b\b\b\b\b\b\b\b\b\b\b\b\b\b\b\b\b\b\b\b\b\b\b\b\b\b\b\b\b\b\b\b\b\b\b\b\b\b\b\b\b\b\b\b\b\b\b\b\b\b\b\b\b\b\b\b\b\b\b\b\b\b\b\b\b\b\b\b\b\b\b\b\b\b\b\b\b\b\b\b\b\b\b\b\b\b\b\b\b\b\b\b\b\b\b\b\b\b\b\b\b\b\b\b\b\b\b\b\b\b\b\b\b\b\b\b\b\b\b\b\b\b\b\b\b\b\b\b\b\b\b\b\b\b\b\b\b\b\b\b\b\b\b\b\b\b\b\b\b\b\b\b\b\b\b\b\b\b\b\b\b\b\b\b\b\b\b\b\b\b\b\b\b\b\b\b\b\b\b\b\b\b\b\b\b\b\b\b\b\b\b\b\b\b\b\b\b\b\b\b\b\b\b\b\b\b\b\b\b\b\b\b\b\b\b\b\b\b\b\b\b\b\b\b\b\b\b\b\b\b\b\b\b\b\b\b\b\b\b\b\b\b\b\b\b\b\b\b\b\b\b\b\b\b\b\b\b\b\b\b\b\b\b\b\b\b\b\b\b\b\b\b\b\b\b\b\b\b\b\b\b\b\b\b\b\b\b\b\b\b\b\b\b\b\b\b\b\b\b\b\b\b\b\b\b\b\b\b\b\b\b\b\b\b\b\b\b\b\b\b\b\b\b\b\b\b\b\b\b\b\b\b\b\b\b\b\b\b\b\b\b\b\b\b\b\b\b\b\b\b\b\b\b\b\b\b\b\b\b\b\b\b\b\b\b\b\b\b\b\b\b\b\b\b\b\b\b\b\b\b\b\b\b\b\b\b\b\b\b\b\b\b\b\b\b\b\b\b\b\b\b\b\b\b\b\b\b\b\b\b\b\b\b\b\b\b\b\b\b\b\b\b\b\b\b\b\b\b\b\b\b\b\b\b\b\b\b\b\b\b\b\b\b\b\b\b\b\b\b\b\b\b\b\b\b\b\b\b\b\b\b\b\b\b\b\b\b\b\b\b\b\b\b\b\b\b\b\b\b\b\b\b\b\b\b\b\b\b\b\b\b\b\b\b\b\b\b\b\b\b\b\b\b\b\b\b\b\b\b\b\b\b\b\b\b\b\b\b\b\b\b\b\b\b\b\b\b\b\b\b\b\b\b\b\b\b\b\b\b\b\b\b\b\b\b\b\b\b\b\b\b\b\b\b\b\b\b\b\b\b\b\b\b\b\b\b\b\b\b\b\b\b\b\b\b\b\b\b\b\b\b\b\b\b\b\b\b\b\b\b\b\b\b\b\b\b\b\b\b\b\b\b\n",
      "Epoch 5/5\n",
      "1000/1000 [==============================] - 2s 2ms/step - loss: 11.5600 - acc: 0.1080 - val_loss: 11.6153 - val_acc: 0.0800\b\b\b\b\b\b\b\b\b\b\b\b\b\b\b\b\b\b\b\b\b\b\b\b\b\b\b\b\b\b\b\b\b\b\b\b\b\b\b\b\b\b\b\b\b\b\b\b\b\b\b\b\b\b\b\b\b\b\b\b\b\b\b\b\b\b\b\b\b\b\b\b\b\b\b\b\b\b\b\b\b\b\b\b\b\b\b\b\b\b\b\b\b\b\b\b\b\b\b\b\b\b\b\b\b\b\b\b\b\b\b\b\b\b\b\b\b\b\b\b\b\b\b\b\b\b\b\b\b\b\b\b\b\b\b\b\b\b\b\b\b\b\b\b\b\b\b\b\b\b\b\b\b\b\b\b\b\b\b\b\b\b\b\b\b\b\b\b\b\b\b\b\b\b\b\b\b\b\b\b\b\b\b\b\b\b\b\b\b\b\b\b\b\b\b\b\b\b\b\b\b\b\b\b\b\b\b\b\b\b\b\b\b\b\b\b\b\b\b\b\b\b\b\b\b\b\b\b\b\b\b\b\b\b\b\b\b\b\b\b\b\b\b\b\b\b\b\b\b\b\b\b\b\b\b\b\b\b\b\b\b\b\b\b\b\b\b\b\b\b\b\b\b\b\b\b\b\b\b\b\b\b\b\b\b\b\b\b\b\b\b\b\b\b\b\b\b\b\b\b\b\b\b\b\b\b\b\b\b\b\b\b\b\b\b\b\b\b\b\b\b\b\b\b\b\b\b\b\b\b\b\b\b\b\b\b\b\b\b\b\b\b\b\b\b\b\b\b\b\b\b\b\b\b\b\b\b\b\b\b\b\b\b\b\b\b\b\b\b\b\b\b\b\b\b\b\b\b\b\b\b\b\b\b\b\b\b\b\b\b\b\b\b\b\b\b\b\b\b\b\b\b\b\b\b\b\b\b\b\b\b\b\b\b\b\b\b\b\b\b\b\b\b\b\b\b\b\b\b\b\b\b\b\b\b\b\b\b\b\b\b\b\b\b\b\b\b\b\b\b\b\b\b\b\b\b\b\b\b\b\b\b\b\b\b\b\b\b\b\b\b\b\b\b\b\b\b\b\b\b\b\b\b\b\b\b\b\b\b\b\b\b\b\b\b\b\b\b\b\b\b\b\b\b\b\b\b\b\b\b\b\b\b\b\b\b\b\b\b\b\b\b\b\b\b\b\b\b\b\b\b\b\b\b\b\b\b\b\b\b\b\b\b\b\b\b\b\b\b\b\b\b\b\b\b\b\b\b\b\b\b\b\b\b\b\b\b\b\b\b\b\b\b\b\b\b\b\b\b\b\b\b\b\b\b\b\b\b\b\b\b\b\b\b\b\b\b\b\b\b\b\b\b\b\b\b\b\b\b\b\b\b\b\b\b\b\b\b\b\b\b\b\b\b\b\b\b\b\b\b\b\b\b\b\b\b\b\b\b\b\b\b\b\b\b\b\b\b\b\b\b\b\b\b\b\b\b\b\b\b\b\b\b\b\b\b\b\b\b\b\b\b\b\b\b\b\b\b\b\b\b\b\b\b\b\b\b\b\b\b\b\b\b\b\b\b\b\b\b\b\b\b\b\b\b\b\b\b\b\b\b\b\b\b\b\b\b\b\b\b\b\b\b\b\b\b\b\b\b\b\b\b\b\b\b\b\b\b\b\b\b\b\b\b\b\b\b\b\b\b\b\b\b\b\b\b\b\b\b\b\b\b\b\b\b\b\b\b\b\b\b\b\b\b\b\b\b\b\b\b\b\b\b\b\b\b\b\b\b\b\b\b\b\b\b\b\b\b\b\b\b\b\b\b\b\b\b\b\b\b\b\b\b\b\b\b\b\b\b\b\b\b\b\b\b\b\b\b\b\b\b\b\b\b\b\b\b\b\b\b\b\b\b\b\b\b\b\b\b\b\b\b\b\b\b\b\b\b\b\b\b\b\b\b\b\b\b\b\b\b\b\b\b\b\b\b\b\b\b\b\b\b\b\b\b\b\b\b\b\b\b\b\b\b\b\b\b\b\b\b\b\b\b\b\b\b\b\b\b\b\b\b\b\b\b\b\b\b\b\b\b\b\b\b\b\b\b\b\b\b\b\b\b\b\b\b\b\b\b\b\b\b\b\b\b\b\b\b\b\b\b\b\b\b\b\b\b\b\b\b\b\b\b\b\b\b\b\b\b\b\b\b\b\b\b\b\b\b\b\b\b\b\b\b\b\b\b\b\b\b\b\b\b\b\b\b\b\b\b\b\b\b\b\b\b\b\b\b\b\b\b\b\b\b\b\b\b\b\b\b\b\b\b\b\b\b\b\b\b\b\b\b\b\b\b\b\b\b\b\b\b\b\b\b\b\b\b\b\b\b\b\b\b\b\b\b\b\b\b\b\b\b\b\b\b\b\b\b\b\b\b\b\b\b\b\b\b\b\b\b\b\b\b\b\b\b\b\b\b\b\b\b\b\b\b\b\b\b\b\b\b\b\b\b\b\b\b\b\b\b\b\b\b\b\b\b\b\b\b\b\b\b\b\b\b\b\b\b\b\b\b\b\b\b\b\b\b\b\b\b\b\b\b\b\b\b\b\b\b\b\b\b\b\b\b\b\b\b\b\b\b\b\b\b\b\b\b\b\b\b\b\b\b\b\b\b\b\b\b\b\b\b\b\b\b\b\b\b\n"
     ]
    },
    {
     "data": {
      "text/plain": [
       "<keras.callbacks.History at 0xd17b518>"
      ]
     },
     "execution_count": 7,
     "metadata": {},
     "output_type": "execute_result"
    }
   ],
   "source": [
    "model.fit(x_train, y_train,\n",
    "          batch_size=64, epochs=5,\n",
    "          validation_data=(x_val, y_val))"
   ]
  }
 ],
 "metadata": {
  "kernelspec": {
   "display_name": "Python 3",
   "language": "python",
   "name": "python3"
  },
  "language_info": {
   "codemirror_mode": {
    "name": "ipython",
    "version": 3
   },
   "file_extension": ".py",
   "mimetype": "text/x-python",
   "name": "python",
   "nbconvert_exporter": "python",
   "pygments_lexer": "ipython3",
   "version": "3.6.0"
  }
 },
 "nbformat": 4,
 "nbformat_minor": 2
}
